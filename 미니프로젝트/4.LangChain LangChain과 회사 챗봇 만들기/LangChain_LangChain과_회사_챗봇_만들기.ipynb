{
  "cells": [
    {
      "cell_type": "markdown",
      "metadata": {
        "id": "LAG2G551Vx4T"
      },
      "source": [
        "# LangChain LangChain과 회사 챗봇 만들기"
      ]
    },
    {
      "cell_type": "markdown",
      "metadata": {
        "id": "RRYSu48huSUW",
        "outputId": "57a21cec-e08b-4c97-f548-cbdaa663f39d"
      },
      "source": [
        "pip install -q langchain openai tiktoken chromadb"
      ]
    },
    {
      "cell_type": "code",
      "execution_count": null,
      "metadata": {
        "id": "21wF8j55TeSR",
        "outputId": "d4e2e6b6-b156-41f2-9597-0286827e1e4a"
      },
      "outputs": [
        {
          "name": "stdout",
          "output_type": "stream",
          "text": [
            "Collecting langchain-community\n",
            "  Downloading langchain_community-0.2.10-py3-none-any.whl.metadata (2.7 kB)\n",
            "Requirement already satisfied: PyYAML>=5.3 in c:\\dev\\miniconda3\\envs\\tf3_10_cpu_stts\\lib\\site-packages (from langchain-community) (6.0.1)\n",
            "Requirement already satisfied: SQLAlchemy<3,>=1.4 in c:\\dev\\miniconda3\\envs\\tf3_10_cpu_stts\\lib\\site-packages (from langchain-community) (2.0.31)\n",
            "Requirement already satisfied: aiohttp<4.0.0,>=3.8.3 in c:\\dev\\miniconda3\\envs\\tf3_10_cpu_stts\\lib\\site-packages (from langchain-community) (3.9.5)\n",
            "Collecting dataclasses-json<0.7,>=0.5.7 (from langchain-community)\n",
            "  Downloading dataclasses_json-0.6.7-py3-none-any.whl.metadata (25 kB)\n",
            "Requirement already satisfied: langchain<0.3.0,>=0.2.9 in c:\\dev\\miniconda3\\envs\\tf3_10_cpu_stts\\lib\\site-packages (from langchain-community) (0.2.11)\n",
            "Requirement already satisfied: langchain-core<0.3.0,>=0.2.23 in c:\\dev\\miniconda3\\envs\\tf3_10_cpu_stts\\lib\\site-packages (from langchain-community) (0.2.23)\n",
            "Requirement already satisfied: langsmith<0.2.0,>=0.1.0 in c:\\dev\\miniconda3\\envs\\tf3_10_cpu_stts\\lib\\site-packages (from langchain-community) (0.1.93)\n",
            "Requirement already satisfied: numpy<2,>=1 in c:\\dev\\miniconda3\\envs\\tf3_10_cpu_stts\\lib\\site-packages (from langchain-community) (1.26.4)\n",
            "Requirement already satisfied: requests<3,>=2 in c:\\dev\\miniconda3\\envs\\tf3_10_cpu_stts\\lib\\site-packages (from langchain-community) (2.32.3)\n",
            "Requirement already satisfied: tenacity!=8.4.0,<9.0.0,>=8.1.0 in c:\\dev\\miniconda3\\envs\\tf3_10_cpu_stts\\lib\\site-packages (from langchain-community) (8.5.0)\n",
            "Requirement already satisfied: aiosignal>=1.1.2 in c:\\dev\\miniconda3\\envs\\tf3_10_cpu_stts\\lib\\site-packages (from aiohttp<4.0.0,>=3.8.3->langchain-community) (1.3.1)\n",
            "Requirement already satisfied: attrs>=17.3.0 in c:\\dev\\miniconda3\\envs\\tf3_10_cpu_stts\\lib\\site-packages (from aiohttp<4.0.0,>=3.8.3->langchain-community) (23.2.0)\n",
            "Requirement already satisfied: frozenlist>=1.1.1 in c:\\dev\\miniconda3\\envs\\tf3_10_cpu_stts\\lib\\site-packages (from aiohttp<4.0.0,>=3.8.3->langchain-community) (1.4.1)\n",
            "Requirement already satisfied: multidict<7.0,>=4.5 in c:\\dev\\miniconda3\\envs\\tf3_10_cpu_stts\\lib\\site-packages (from aiohttp<4.0.0,>=3.8.3->langchain-community) (6.0.5)\n",
            "Requirement already satisfied: yarl<2.0,>=1.0 in c:\\dev\\miniconda3\\envs\\tf3_10_cpu_stts\\lib\\site-packages (from aiohttp<4.0.0,>=3.8.3->langchain-community) (1.9.4)\n",
            "Requirement already satisfied: async-timeout<5.0,>=4.0 in c:\\dev\\miniconda3\\envs\\tf3_10_cpu_stts\\lib\\site-packages (from aiohttp<4.0.0,>=3.8.3->langchain-community) (4.0.3)\n",
            "Collecting marshmallow<4.0.0,>=3.18.0 (from dataclasses-json<0.7,>=0.5.7->langchain-community)\n",
            "  Downloading marshmallow-3.21.3-py3-none-any.whl.metadata (7.1 kB)\n",
            "Collecting typing-inspect<1,>=0.4.0 (from dataclasses-json<0.7,>=0.5.7->langchain-community)\n",
            "  Downloading typing_inspect-0.9.0-py3-none-any.whl.metadata (1.5 kB)\n",
            "Requirement already satisfied: langchain-text-splitters<0.3.0,>=0.2.0 in c:\\dev\\miniconda3\\envs\\tf3_10_cpu_stts\\lib\\site-packages (from langchain<0.3.0,>=0.2.9->langchain-community) (0.2.2)\n",
            "Requirement already satisfied: pydantic<3,>=1 in c:\\dev\\miniconda3\\envs\\tf3_10_cpu_stts\\lib\\site-packages (from langchain<0.3.0,>=0.2.9->langchain-community) (2.8.2)\n",
            "Requirement already satisfied: jsonpatch<2.0,>=1.33 in c:\\dev\\miniconda3\\envs\\tf3_10_cpu_stts\\lib\\site-packages (from langchain-core<0.3.0,>=0.2.23->langchain-community) (1.33)\n",
            "Requirement already satisfied: packaging<25,>=23.2 in c:\\dev\\miniconda3\\envs\\tf3_10_cpu_stts\\lib\\site-packages (from langchain-core<0.3.0,>=0.2.23->langchain-community) (24.1)\n",
            "Requirement already satisfied: orjson<4.0.0,>=3.9.14 in c:\\dev\\miniconda3\\envs\\tf3_10_cpu_stts\\lib\\site-packages (from langsmith<0.2.0,>=0.1.0->langchain-community) (3.10.6)\n",
            "Requirement already satisfied: charset-normalizer<4,>=2 in c:\\dev\\miniconda3\\envs\\tf3_10_cpu_stts\\lib\\site-packages (from requests<3,>=2->langchain-community) (3.3.2)\n",
            "Requirement already satisfied: idna<4,>=2.5 in c:\\dev\\miniconda3\\envs\\tf3_10_cpu_stts\\lib\\site-packages (from requests<3,>=2->langchain-community) (3.7)\n",
            "Requirement already satisfied: urllib3<3,>=1.21.1 in c:\\dev\\miniconda3\\envs\\tf3_10_cpu_stts\\lib\\site-packages (from requests<3,>=2->langchain-community) (2.2.2)\n",
            "Requirement already satisfied: certifi>=2017.4.17 in c:\\dev\\miniconda3\\envs\\tf3_10_cpu_stts\\lib\\site-packages (from requests<3,>=2->langchain-community) (2024.7.4)\n",
            "Requirement already satisfied: typing-extensions>=4.6.0 in c:\\dev\\miniconda3\\envs\\tf3_10_cpu_stts\\lib\\site-packages (from SQLAlchemy<3,>=1.4->langchain-community) (4.12.2)\n",
            "Requirement already satisfied: greenlet!=0.4.17 in c:\\dev\\miniconda3\\envs\\tf3_10_cpu_stts\\lib\\site-packages (from SQLAlchemy<3,>=1.4->langchain-community) (3.0.3)\n",
            "Requirement already satisfied: jsonpointer>=1.9 in c:\\dev\\miniconda3\\envs\\tf3_10_cpu_stts\\lib\\site-packages (from jsonpatch<2.0,>=1.33->langchain-core<0.3.0,>=0.2.23->langchain-community) (3.0.0)\n",
            "Requirement already satisfied: annotated-types>=0.4.0 in c:\\dev\\miniconda3\\envs\\tf3_10_cpu_stts\\lib\\site-packages (from pydantic<3,>=1->langchain<0.3.0,>=0.2.9->langchain-community) (0.7.0)\n",
            "Requirement already satisfied: pydantic-core==2.20.1 in c:\\dev\\miniconda3\\envs\\tf3_10_cpu_stts\\lib\\site-packages (from pydantic<3,>=1->langchain<0.3.0,>=0.2.9->langchain-community) (2.20.1)\n",
            "Collecting mypy-extensions>=0.3.0 (from typing-inspect<1,>=0.4.0->dataclasses-json<0.7,>=0.5.7->langchain-community)\n",
            "  Downloading mypy_extensions-1.0.0-py3-none-any.whl.metadata (1.1 kB)\n",
            "Downloading langchain_community-0.2.10-py3-none-any.whl (2.3 MB)\n",
            "   ---------------------------------------- 0.0/2.3 MB ? eta -:--:--\n",
            "    --------------------------------------- 0.0/2.3 MB 991.0 kB/s eta 0:00:03\n",
            "   --- ------------------------------------ 0.2/2.3 MB 2.8 MB/s eta 0:00:01\n",
            "   ------- -------------------------------- 0.4/2.3 MB 3.3 MB/s eta 0:00:01\n",
            "   ---------- ----------------------------- 0.6/2.3 MB 3.9 MB/s eta 0:00:01\n",
            "   -------------- ------------------------- 0.8/2.3 MB 4.0 MB/s eta 0:00:01\n",
            "   ------------------ --------------------- 1.0/2.3 MB 4.1 MB/s eta 0:00:01\n",
            "   ---------------------- ----------------- 1.3/2.3 MB 4.3 MB/s eta 0:00:01\n",
            "   ------------------------- -------------- 1.5/2.3 MB 4.2 MB/s eta 0:00:01\n",
            "   ----------------------------- ---------- 1.7/2.3 MB 4.3 MB/s eta 0:00:01\n",
            "   ------------------------------- -------- 1.8/2.3 MB 4.1 MB/s eta 0:00:01\n",
            "   ------------------------------------ --- 2.1/2.3 MB 4.2 MB/s eta 0:00:01\n",
            "   ---------------------------------------  2.3/2.3 MB 4.3 MB/s eta 0:00:01\n",
            "   ---------------------------------------- 2.3/2.3 MB 4.1 MB/s eta 0:00:00\n",
            "Downloading dataclasses_json-0.6.7-py3-none-any.whl (28 kB)\n",
            "Downloading marshmallow-3.21.3-py3-none-any.whl (49 kB)\n",
            "   ---------------------------------------- 0.0/49.2 kB ? eta -:--:--\n",
            "   ---------------------------------------- 49.2/49.2 kB 2.6 MB/s eta 0:00:00\n",
            "Downloading typing_inspect-0.9.0-py3-none-any.whl (8.8 kB)\n",
            "Downloading mypy_extensions-1.0.0-py3-none-any.whl (4.7 kB)\n",
            "Installing collected packages: mypy-extensions, marshmallow, typing-inspect, dataclasses-json, langchain-community\n",
            "Successfully installed dataclasses-json-0.6.7 langchain-community-0.2.10 marshmallow-3.21.3 mypy-extensions-1.0.0 typing-inspect-0.9.0\n",
            "Note: you may need to restart the kernel to use updated packages.\n"
          ]
        }
      ],
      "source": [
        "pip install -U langchain-community"
      ]
    },
    {
      "cell_type": "code",
      "execution_count": null,
      "metadata": {
        "id": "J2zL0uM9TeSS",
        "outputId": "fefdf8a4-e253-4f6f-87cc-0b7b55eea4f0"
      },
      "outputs": [
        {
          "name": "stdout",
          "output_type": "stream",
          "text": [
            "Requirement already satisfied: chardet in c:\\dev\\miniconda3\\envs\\tf3_10_cpu_stts\\lib\\site-packages (5.2.0)\n",
            "Note: you may need to restart the kernel to use updated packages.\n"
          ]
        }
      ],
      "source": [
        "pip install chardet"
      ]
    },
    {
      "cell_type": "markdown",
      "metadata": {
        "id": "43JHqZcQZjW9",
        "outputId": "623e9fec-b056-42c3-c870-e99b14053016"
      },
      "source": [
        "https://github.com/chatgpt-kr/chatgpt-api-tutorial/raw/main/ch05/data.zip"
      ]
    },
    {
      "cell_type": "markdown",
      "metadata": {
        "id": "HqwsGJDhvAQ5"
      },
      "source": [
        "## Setting up LangChain\n",
        "\n",
        "OpenAI API Key\n",
        "\n",
        "https://platform.openai.com/account/api-keys"
      ]
    },
    {
      "cell_type": "code",
      "execution_count": null,
      "metadata": {
        "id": "dNA4TsHpu6OM"
      },
      "outputs": [],
      "source": [
        "import os\n",
        "\n",
        "os.environ[\"OPENAI_API_KEY\"] = \"proj-zAVYzqFm4D7rmfLlhq6TT3BlbkFJ3UE02pVMFqb9JwxHM59R\""
      ]
    },
    {
      "cell_type": "code",
      "execution_count": null,
      "metadata": {
        "id": "XHVE9uFb3Ajj"
      },
      "outputs": [],
      "source": [
        "from langchain.vectorstores import Chroma\n",
        "from langchain.embeddings import OpenAIEmbeddings\n",
        "from langchain.text_splitter import RecursiveCharacterTextSplitter\n",
        "from langchain.chat_models import ChatOpenAI\n",
        "from langchain.chains import RetrievalQA\n",
        "from langchain.document_loaders import TextLoader\n",
        "from langchain.document_loaders import DirectoryLoader\n",
        "from collections import Counter"
      ]
    },
    {
      "cell_type": "markdown",
      "metadata": {
        "id": "9UcQKUId3X2M"
      },
      "source": [
        "## Load multiple and process documents"
      ]
    },
    {
      "cell_type": "code",
      "execution_count": null,
      "metadata": {
        "colab": {
          "base_uri": "https://localhost:8080/"
        },
        "id": "PRSeXXc_3Ypj",
        "outputId": "cbc6e01b-fb4e-4c90-ffc3-9ed2e43eaf61"
      },
      "outputs": [
        {
          "name": "stdout",
          "output_type": "stream",
          "text": [
            "문서의 개수 : 57\n"
          ]
        }
      ],
      "source": [
        "text_loader_kwargs={'autodetect_encoding': True}\n",
        "\n",
        "loader = DirectoryLoader('./data', glob=\"*.txt\", loader_cls=TextLoader, loader_kwargs=text_loader_kwargs)\n",
        "\n",
        "documents = loader.load()\n",
        "\n",
        "print('문서의 개수 :', len(documents))"
      ]
    },
    {
      "cell_type": "code",
      "execution_count": null,
      "metadata": {
        "colab": {
          "base_uri": "https://localhost:8080/"
        },
        "id": "8iNbsE9Sw-eC",
        "outputId": "e11ba3ea-17e9-4b14-d304-543f84883b52"
      },
      "outputs": [
        {
          "name": "stdout",
          "output_type": "stream",
          "text": [
            "1번 문서 : page_content='정책이름: 청년활력 프로그램 운영(청년활동지원센터 운영)\n",
            "서울시청 미래청년기획단에서 주최하는 일자리 정책은 청년활력을 촉진하기 위해 자율적인 구직활동과 사회참여, 심리/정서지원 등을 제공하여 청년안전망을 구축하는 것을 목표로 합니다. 이 정책의 지원내용은 다음과 같습니다:\n",
            "\n",
            "마음건강 지원사업: 온라인 고민상담소 'hi, there'를 운영하여 마음건강에 관련된 지원을 제공합니다.\n",
            "\n",
            "사회참여 지원사업: 청년수당 참여자를 대상으로 오리엔테이션, 자기이해 프로그램, 서울잡스 등의 지원을 통해 사회참여를 도모합니다.\n",
            "\n",
            "서울청년센터 운영 지원: 서울청년센터의 운영을 지원합니다.\n",
            "\n",
            "신사업 개발 및 기획사업: 고립청년 개발지원, 홍보 등의 신규 사업 및 기획사업을 개발합니다.\n",
            "\n",
            "이 정책은 2023년 1월 1일부터 2023년 12월 31일까지 운영되며, 신청자격은 19세부터 39세까지의 서울 거주 청년(청년수당 참여자 포함)입니다. 다양한 연령대를 대상으로 하는 프로그램도 있으며, 학력, 전공, 취업상태, 특화분야에 대한 요건은 없습니다.\n",
            "\n",
            "신청은 https://sygc.kr/ 사이트에서 각 프로그램별로 개별적으로 접수됩니다. 신청방법, 신청절차, 심사 및 발표에 대한 세부 사항은 공고를 참조하시기 바랍니다. 제출해야 할 서류는 공고에 따라 다를 수 있습니다.\n",
            "\n",
            "이 정책은 (재)서울현대교육재단과 (사)한국디지털컨버전스협회가 운영합니다. 참고로 https://blog.naver.com/sygcyouth 사이트도 참고하실 수 있습니다.' metadata={'source': 'data\\\\10.txt'}\n",
            "--------------------\n",
            "21번 문서 : page_content='정책제목: 청년과 어르신 주거공유(한지붕세대공감)\n",
            "서울시청 주택정책과에서는 해당 지역 대학생들의 주거 마련을 위해 할머니와 할아버지들이 남는 방을 학생에게 저렴한 가격에 빌려주는 정책을 운영하고 있습니다. 이 정책은 대학가나 청년들이 많이 사는 지역에서 진행되며, 어르신들은 시세보다 저렴한 값으로 방을 빌려주고, 학생들은 무보증금으로 학교 근처에 근접한 주거공간을 제공받습니다.\n",
            "\n",
            "어르신들은 주택을 소유한 60세 이상 어르신으로서 신청할 수 있으며, 대학생은 서울시 소재 대학(원) 재학생 및 휴학생으로 신청 자격을 갖추고 있어야 합니다. 학력이나 전공에 대한 제한은 없으며, 취업을 하지 않은 미취업자들이 참여할 수 있습니다.\n",
            "\n",
            "이 정책은 2023년 1월 1일부터 2023년 12월 31일까지 운영되며, 신청은 서울주거포털 사이트(https://housing.seoul.go.kr)에서 온라인으로 진행됩니다. 운영 기관은 주관기관과 동일하며, 자세한 신청 방법 및 제출서류는 공고문을 참조하시기 바랍니다.\n",
            "\n",
            "자세한 사항은 서울주거포털 사이트(https://housing.seoul.go.kr/)에서 확인하실 수 있습니다.' metadata={'source': 'data\\\\29.txt'}\n",
            "--------------------\n"
          ]
        }
      ],
      "source": [
        "print('1번 문서 :', documents[1])\n",
        "print('-' * 20)\n",
        "print('21번 문서 :', documents[21])\n",
        "print('-' * 20)"
      ]
    },
    {
      "cell_type": "markdown",
      "metadata": {
        "id": "L39nElP4Wdu6"
      },
      "source": [
        "## Split texts"
      ]
    },
    {
      "cell_type": "code",
      "execution_count": null,
      "metadata": {
        "colab": {
          "base_uri": "https://localhost:8080/"
        },
        "id": "3__nT0D4Fkmg",
        "outputId": "edbe83ff-ff0f-42e0-f6e3-9096cb3284b5"
      },
      "outputs": [
        {
          "name": "stdout",
          "output_type": "stream",
          "text": [
            "분할된 텍스트의 개수 : 64\n"
          ]
        }
      ],
      "source": [
        "text_splitter = RecursiveCharacterTextSplitter(chunk_size=1000, chunk_overlap=200)\n",
        "texts = text_splitter.split_documents(documents)\n",
        "\n",
        "print('분할된 텍스트의 개수 :', len(texts))"
      ]
    },
    {
      "cell_type": "code",
      "execution_count": null,
      "metadata": {
        "colab": {
          "base_uri": "https://localhost:8080/"
        },
        "id": "Bg6-9jwU4ja_",
        "outputId": "717a35fe-042b-433a-e381-48b966779882"
      },
      "outputs": [
        {
          "data": {
            "text/plain": [
              "Document(metadata={'source': 'data\\\\1.txt'}, page_content='정책 이름 : 청년예술지원\\n서울시청 문화예술과에서는 청년 예술인들을 위한 프로그램을 진행합니다. 이 프로그램은 활동 경력이 부족한 청년 예술인들을 대상으로 하며, 최대 1,000만원의 창작 지원금과 전문가 멘토링 및 네트워킹 프로그램을 제공합니다. 이 프로그램은 2023년 1월 1일부터 2023년 12월 31일까지 운영됩니다. 신청자는 19세에서 39세까지의 나이 조건을 충족하며, 서울에서 첫 작품 발표(오프라인)를 준비 중인 예술인(단체)이어야 합니다. 학력, 전공, 취업 상태, 특화 분야에 대한 요건은 없습니다. 신청은 온라인으로 서울문화예술지원시스템(SCAS)을 통해 진행되며, 신청 기간은 2023년 10월 4일부터 10월 28일까지입니다. 심사 및 발표는 2023년 1월 경에 이루어집니다. 프로그램에 대한 자세한 내용은 https://www.scas.kr/scas/bizinfo/detail/198에서 확인할 수 있으며, 추가 문의는 02-362-9745로 하실 수 있습니다.')"
            ]
          },
          "execution_count": 6,
          "metadata": {},
          "output_type": "execute_result"
        }
      ],
      "source": [
        "texts[0]"
      ]
    },
    {
      "cell_type": "code",
      "execution_count": null,
      "metadata": {
        "colab": {
          "base_uri": "https://localhost:8080/"
        },
        "id": "TYTCw890xHQ8",
        "outputId": "bf4c23b1-c93d-433f-adc7-0a0049c46429"
      },
      "outputs": [
        {
          "name": "stdout",
          "output_type": "stream",
          "text": [
            "2개 이상으로 분할된 문서 : {'data\\\\22.txt': 2, 'data\\\\23.txt': 2, 'data\\\\31.txt': 2, 'data\\\\36.txt': 2, 'data\\\\40.txt': 2, 'data\\\\48.txt': 2, 'data\\\\49.txt': 2}\n",
            "분할된 텍스트의 개수 : 64\n"
          ]
        }
      ],
      "source": [
        "source_lst = []\n",
        "for i in range(0, len(texts)):\n",
        "  source_lst.append(texts[i].metadata['source'])\n",
        "\n",
        "element_counts = Counter(source_lst)\n",
        "filtered_counts = {key: value for key, value in element_counts.items() if value >= 2}\n",
        "print('2개 이상으로 분할된 문서 :', filtered_counts)\n",
        "print('분할된 텍스트의 개수 :', len(documents) + len(filtered_counts))"
      ]
    },
    {
      "cell_type": "markdown",
      "metadata": {
        "id": "YsYsIy8F4cdm"
      },
      "source": [
        "## Create Chroma DB"
      ]
    },
    {
      "cell_type": "code",
      "execution_count": null,
      "metadata": {
        "id": "Q_eTIZwf4Dk2",
        "outputId": "962ad136-fa5e-4e3f-acf2-4d8572098d5c"
      },
      "outputs": [
        {
          "name": "stderr",
          "output_type": "stream",
          "text": [
            "C:\\DEV\\miniconda3\\envs\\tf3_10_cpu_stts\\lib\\site-packages\\langchain_core\\_api\\deprecation.py:139: LangChainDeprecationWarning: The class `OpenAIEmbeddings` was deprecated in LangChain 0.0.9 and will be removed in 0.3.0. An updated version of the class exists in the langchain-openai package and should be used instead. To use it run `pip install -U langchain-openai` and import as `from langchain_openai import OpenAIEmbeddings`.\n",
            "  warn_deprecated(\n"
          ]
        }
      ],
      "source": [
        "embedding = OpenAIEmbeddings()\n",
        "\n",
        "vectordb = Chroma.from_documents(\n",
        "    documents=texts,\n",
        "    embedding=embedding)"
      ]
    },
    {
      "cell_type": "markdown",
      "metadata": {
        "id": "siLXR-XT0JoI"
      },
      "source": [
        "## Make a retriever"
      ]
    },
    {
      "cell_type": "code",
      "execution_count": null,
      "metadata": {
        "id": "6ObunFU30Lxh"
      },
      "outputs": [],
      "source": [
        "retriever = vectordb.as_retriever()"
      ]
    },
    {
      "cell_type": "code",
      "execution_count": null,
      "metadata": {
        "colab": {
          "base_uri": "https://localhost:8080/"
        },
        "id": "cYA-H59u0Skn",
        "outputId": "c75a1198-2745-4465-adb7-5f34d00696bf"
      },
      "outputs": [
        {
          "name": "stdout",
          "output_type": "stream",
          "text": [
            "유사 문서 개수 : 4\n",
            "----------------------------------------\n",
            "첫번째 유사 문서 : page_content='이 정책은 주거마련에 대한 부담을 완화하여 혼인수 감소와 출산기피 현상을 해결하고, 더 나은 주거환경을 제공하기 위해 서울시에서 운영하는 정책입니다. 대상 가구는 총 8,000가구로 제한되며, 지원 기간은 2023년 1월 1일부터 2023년 12월 31일까지입니다.\\n\\n이 정책에 참여하기 위해서는 다음의 신청자격을 충족해야 합니다. 먼저, 서울시민이거나 대출 후 1개월 이내에 서울로 전입 예정이어야 합니다. 또한 혼인신고일 기준으로 7년 이내의 신혼부부이거나 서울시 추천서 신청일로부터 6개월 이내에 결혼식 예정인 예비신혼부부여야 합니다. 부부의 합산 연소득은 9천 7백만원 이하여야 하며, 본인 및 배우자는 무주택자여야 합니다. 또한, 특정 주택 조건을 충족하는 주택의 임대차계약을 체결한 자에게 대출이 지원됩니다.\\n\\n이 정책은 서울주거포털(https://housing.seoul.go.kr)을 통해 온라인으로 신청할 수 있습니다. 필요한 제출서류로는 주민등록등본, 가족관계증명서, 혼인관계증명서, 그리고 임대차계약서가 있습니다.\\n\\n이 정책은 서울시청 주택정책과에서 운영되며, 자세한 사항은 해당 사이트(https://housing.seoul.go.kr)에서 확인하실 수 있습니다.' metadata={'source': '23.txt'}\n",
            "----------------------------------------\n",
            "각 유사 문서의 문서 출처 :\n",
            "23.txt\n",
            "23.txt\n",
            "40.txt\n",
            "39.txt\n"
          ]
        }
      ],
      "source": [
        "docs = retriever.get_relevant_documents(\"신혼 부부를 위한 정책이 있어?\")\n",
        "print('유사 문서 개수 :', len(docs))\n",
        "print('--' * 20)\n",
        "print('첫번째 유사 문서 :', docs[0])\n",
        "print('--' * 20)\n",
        "print('각 유사 문서의 문서 출처 :')\n",
        "for doc in docs:\n",
        "    print(doc.metadata[\"source\"])"
      ]
    },
    {
      "cell_type": "markdown",
      "metadata": {
        "id": "h3mZszDFW5aw"
      },
      "source": [
        "### 결과를 k개 반환"
      ]
    },
    {
      "cell_type": "code",
      "execution_count": null,
      "metadata": {
        "id": "jVWgPJXs1yRq"
      },
      "outputs": [],
      "source": [
        "retriever = vectordb.as_retriever(search_kwargs={\"k\": 2})"
      ]
    },
    {
      "cell_type": "code",
      "execution_count": null,
      "metadata": {
        "colab": {
          "base_uri": "https://localhost:8080/"
        },
        "id": "58fAAOHfVLeM",
        "outputId": "ca7f951c-e9a2-47c4-b797-cd1455383547"
      },
      "outputs": [
        {
          "name": "stdout",
          "output_type": "stream",
          "text": [
            "23.txt\n",
            "23.txt\n"
          ]
        }
      ],
      "source": [
        "docs = retriever.get_relevant_documents(\"신혼 부부를 위한 정책이 있어?\")\n",
        "\n",
        "for doc in docs:\n",
        "    print(doc.metadata[\"source\"])"
      ]
    },
    {
      "cell_type": "markdown",
      "metadata": {
        "id": "4Ia-4OXa5IeP"
      },
      "source": [
        "## Make a chain"
      ]
    },
    {
      "cell_type": "markdown",
      "metadata": {
        "id": "zhD0xWYwPSbi"
      },
      "source": [
        "\n",
        "```\n",
        "Use the following pieces of context to answer the users question.\n",
        "If you don't know the answer, just say that you don't know, don't try to make up an answer.\n",
        "----------------\n",
        "{텍스트}\n",
        "\n",
        "{질문}\n",
        "```"
      ]
    },
    {
      "cell_type": "code",
      "execution_count": null,
      "metadata": {
        "id": "MGx8XblM4shW"
      },
      "outputs": [],
      "source": [
        "qa_chain = RetrievalQA.from_chain_type(\n",
        "    llm=ChatOpenAI(model_name=\"gpt-3.5-turbo\", temperature=0),\n",
        "    chain_type=\"stuff\",\n",
        "    retriever=retriever,\n",
        "    return_source_documents=True)"
      ]
    },
    {
      "cell_type": "markdown",
      "metadata": {
        "id": "RjyrGZyeW_iO"
      },
      "source": [
        "## Query"
      ]
    },
    {
      "cell_type": "code",
      "execution_count": null,
      "metadata": {
        "colab": {
          "base_uri": "https://localhost:8080/"
        },
        "id": "3YJIbk8hRPN2",
        "outputId": "3d70697b-6afa-46e1-a31a-f9b1c407fb8f"
      },
      "outputs": [
        {
          "name": "stdout",
          "output_type": "stream",
          "text": [
            "{'query': '대출과 관련된 정책이 궁금합니다', 'result': '서울시 전략주택공급과에서는 청년과 신혼부부의 주거비 부담을 경감하기 위해 임차보증금 대출을 지원하는 정책을 운영하고 있습니다. 이 정책은 혼인 감소 및 출산율 감소 문제를 해결하기 위한 것으로, 임차보증금에 대해 무이자 지원을 제공합니다.\\n\\n지원 내용은 다음과 같습니다:\\n- 임차보증금이 1억원을 초과하는 경우: 보증금의 30% 지원 (청년 최대 4,500만원, 신혼부부 최대 6,000만원)\\n- 임차보증금이 1억원 이하인 경우: 보증금의 50% 지원 (청년 및 신혼부부 최대 4,500만원)\\n\\n신청 자격은 19세에서 39세까지이며, 임차보증금 무이자 지원을 받을 수 있는 대상입니다. 학력 전공, 취업 상태 등 제한은 없습니다. 다만, 서울시 임차보증금 및 이자 지원과 중복 신청은 불가능하며, 타 금융기관의 전세자금 대출과는 중복 가능하나 대출 가능 여부는 해당 금융기관에 문의해야 합니다.\\n\\n신청은 신청서 및 필요한 서류를 제출한 후 대상자가 선정되고 통보됩니다. 이후 임대차 계약 체결과 주거비지원 약정서 체결이 이루어진 후, 지원금액이 임대인 계좌로 입금됩니다.\\n\\n자세한 신청 방법과 필요한 서류는 서울시 소셜공동체 온라인 포털에서 확인하실 수 있습니다. 추가적인 사항은 참고사이트1를 참고하시기 바랍니다.', 'source_documents': [Document(page_content='정책제목: 역세권청년주택 주거비지원\\n서울시 전략주택공급과에서는 청년과 신혼부부의 주거비 부담을 경감하기 위해 임차보증금 대출을 지원하는 정책을 운영하고 있습니다. 이 정책은 혼인 감소 및 출산율 감소 문제를 해결하기 위한 것으로, 임차보증금에 대해 무이자 지원을 제공합니다.\\n\\n지원 내용은 다음과 같습니다:\\n임차보증금이 1억원을 초과하는 경우: 보증금의 30% 지원 (청년 최대 4,500만원, 신혼부부 최대 6,000만원)\\n임차보증금이 1억원 이하인 경우: 보증금의 50% 지원 (청년 및 신혼부부 최대 4,500만원)\\n신청 자격은 19세에서 39세까지이며, 임차보증금 무이자 지원을 받을 수 있는 대상입니다. 학력 전공, 취업 상태 등 제한은 없습니다. 다만, 서울시 임차보증금 및 이자 지원과 중복 신청은 불가능하며, 타 금융기관의 전세자금 대출과는 중복 가능하나 대출 가능 여부는 해당 금융기관에 문의해야 합니다.\\n\\n신청은 신청서 및 필요한 서류를 제출한 후 대상자가 선정되고 통보됩니다. 이후 임대차 계약 체결과 주거비지원 약정서 체결이 이루어진 후, 지원금액이 임대인 계좌로 입금됩니다.\\n\\n자세한 신청 방법과 필요한 서류는 서울시 소셜공동체 온라인 포털에서 확인하실 수 있습니다. 추가적인 사항은 참고사이트1를 참고하시기 바랍니다.', metadata={'source': '39.txt'}), Document(page_content='이 정책은 주거마련에 대한 부담을 완화하여 혼인수 감소와 출산기피 현상을 해결하고, 더 나은 주거환경을 제공하기 위해 서울시에서 운영하는 정책입니다. 대상 가구는 총 8,000가구로 제한되며, 지원 기간은 2023년 1월 1일부터 2023년 12월 31일까지입니다.\\n\\n이 정책에 참여하기 위해서는 다음의 신청자격을 충족해야 합니다. 먼저, 서울시민이거나 대출 후 1개월 이내에 서울로 전입 예정이어야 합니다. 또한 혼인신고일 기준으로 7년 이내의 신혼부부이거나 서울시 추천서 신청일로부터 6개월 이내에 결혼식 예정인 예비신혼부부여야 합니다. 부부의 합산 연소득은 9천 7백만원 이하여야 하며, 본인 및 배우자는 무주택자여야 합니다. 또한, 특정 주택 조건을 충족하는 주택의 임대차계약을 체결한 자에게 대출이 지원됩니다.\\n\\n이 정책은 서울주거포털(https://housing.seoul.go.kr)을 통해 온라인으로 신청할 수 있습니다. 필요한 제출서류로는 주민등록등본, 가족관계증명서, 혼인관계증명서, 그리고 임대차계약서가 있습니다.\\n\\n이 정책은 서울시청 주택정책과에서 운영되며, 자세한 사항은 해당 사이트(https://housing.seoul.go.kr)에서 확인하실 수 있습니다.', metadata={'source': '23.txt'})]}\n"
          ]
        }
      ],
      "source": [
        "input_text = \"대출과 관련된 정책이 궁금합니다\"\n",
        "chatbot_response = qa_chain(input_text)\n",
        "print(chatbot_response)"
      ]
    },
    {
      "cell_type": "code",
      "execution_count": null,
      "metadata": {
        "id": "LZEo26mw8e5k"
      },
      "outputs": [],
      "source": [
        "def get_chatbot_response(chatbot_response):\n",
        "    print(chatbot_response['result'].strip())\n",
        "    print('\\n문서 출처:')\n",
        "    for source in chatbot_response[\"source_documents\"]:\n",
        "        print(source.metadata['source'])"
      ]
    },
    {
      "cell_type": "markdown",
      "metadata": {
        "id": "C_OLFmtxT2YX"
      },
      "source": [
        "\"신혼 부부의 신혼집 마련을 위한 정책이 있을까?\"라는 임의의 입력에 대해서 챗봇의 답변을 확인해보겠습니다."
      ]
    },
    {
      "cell_type": "code",
      "execution_count": null,
      "metadata": {
        "colab": {
          "base_uri": "https://localhost:8080/"
        },
        "id": "wKfX4vX-5RFT",
        "outputId": "eed85ebe-a1a5-4ecf-c328-419d0595c6dd"
      },
      "outputs": [
        {
          "name": "stdout",
          "output_type": "stream",
          "text": [
            "네, 신혼 부부의 신혼집 마련을 위한 정책이 있습니다. 서울시에서는 \"신혼부부 임차보증금 지원\" 정책을 운영하고 있습니다. 이 정책은 주거마련에 대한 부담을 완화하여 혼인수 감소와 출산기피 현상을 해결하고, 더 나은 주거환경을 제공하기 위해 서울시에서 운영하는 정책입니다. 대상 가구는 총 8,000가구로 제한되며, 지원 기간은 2023년 1월 1일부터 2023년 12월 31일까지입니다. 자세한 내용은 서울주거포털(https://housing.seoul.go.kr)에서 확인하실 수 있습니다.\n",
            "\n",
            "문서 출처:\n",
            "23.txt\n",
            "23.txt\n"
          ]
        }
      ],
      "source": [
        "input_text = \"신혼 부부의 신혼집 마련을 위한 정책이 있을까?\"\n",
        "chatbot_response = qa_chain(input_text)\n",
        "get_chatbot_response(chatbot_response)"
      ]
    },
    {
      "cell_type": "code",
      "execution_count": null,
      "metadata": {
        "colab": {
          "base_uri": "https://localhost:8080/"
        },
        "id": "olRm73t3rNt2",
        "outputId": "2f6a439b-8b54-4a28-97df-c9ef36d15d1b"
      },
      "outputs": [
        {
          "data": {
            "text/plain": [
              "{'query': '신혼 부부의 신혼집 마련을 위한 정책이 있을까?',\n",
              " 'result': '네, 신혼 부부의 신혼집 마련을 위한 정책이 있습니다. 서울시에서는 \"신혼부부 임차보증금 지원\" 정책을 운영하고 있습니다. 이 정책은 주거마련에 대한 부담을 완화하여 혼인수 감소와 출산기피 현상을 해결하고, 더 나은 주거환경을 제공하기 위해 서울시에서 운영하는 정책입니다. 대상 가구는 총 8,000가구로 제한되며, 지원 기간은 2023년 1월 1일부터 2023년 12월 31일까지입니다. 자세한 내용은 서울주거포털(https://housing.seoul.go.kr)에서 확인하실 수 있습니다.',\n",
              " 'source_documents': [Document(page_content='이 정책은 주거마련에 대한 부담을 완화하여 혼인수 감소와 출산기피 현상을 해결하고, 더 나은 주거환경을 제공하기 위해 서울시에서 운영하는 정책입니다. 대상 가구는 총 8,000가구로 제한되며, 지원 기간은 2023년 1월 1일부터 2023년 12월 31일까지입니다.\\n\\n이 정책에 참여하기 위해서는 다음의 신청자격을 충족해야 합니다. 먼저, 서울시민이거나 대출 후 1개월 이내에 서울로 전입 예정이어야 합니다. 또한 혼인신고일 기준으로 7년 이내의 신혼부부이거나 서울시 추천서 신청일로부터 6개월 이내에 결혼식 예정인 예비신혼부부여야 합니다. 부부의 합산 연소득은 9천 7백만원 이하여야 하며, 본인 및 배우자는 무주택자여야 합니다. 또한, 특정 주택 조건을 충족하는 주택의 임대차계약을 체결한 자에게 대출이 지원됩니다.\\n\\n이 정책은 서울주거포털(https://housing.seoul.go.kr)을 통해 온라인으로 신청할 수 있습니다. 필요한 제출서류로는 주민등록등본, 가족관계증명서, 혼인관계증명서, 그리고 임대차계약서가 있습니다.\\n\\n이 정책은 서울시청 주택정책과에서 운영되며, 자세한 사항은 해당 사이트(https://housing.seoul.go.kr)에서 확인하실 수 있습니다.', metadata={'source': '23.txt'}),\n",
              "  Document(page_content='정책제목: 신혼부부 임차보증금 지원\\n정부에서는 주거 관련 정책을 통해 부담을 완화하여 더 나은 주거환경을 제공하고자 합니다. 현재 주거마련에 대한 부담으로 인해 혼인수가 감소하고 출산기피 현상이 발생하고 있습니다. 따라서 주거비 부담을 완화하여 이러한 문제를 해결하고, 좋은 주거환경을 제공하고자 합니다.\\n\\n이 정책은 서울시청 주택정책과에서 주관하며, 주거 마련에 대한 부담을 완화하기 위한 내용을 포함하고 있습니다. 지원 대상은 관내 임차보증금 7억 이내의 주택 또는 주거용 오피스텔에 대해 해당하는 서울시민이나 서울로 전입 예정인 자입니다. 대출한도는 임차보증금의 90% 이내 또는 2억원 중 작은 금액이며, 대출금의 최대 연 3.6% 이차보전 및 최장 10년까지 지원됩니다.\\n\\n주택조건과 대출형식은 한국주택금융공사 보증 및 협약은행(국민, 하나, 신한) 대출, 그리고 서울시 이차보전이 적용됩니다. 이 정책은 2023년 1월 1일부터 2023년 12월 31일까지 운영되며, 신청자격은 1세부터 100세까지의 연령을 가진 사람들이 해당합니다.\\n\\n대출을 받기 위한 추가 요건으로는 혼인신고일 기준으로 7년 이내의 신혼부부이거나 서울시 추천서 신청일로부터 6개월 이내에 결혼식 예정인 예비신혼부부여야 합니다. 또한 부부합산 연소득이 9천 7백만원 이하이고 본인 및 배우자가 무주택자여야 합니다. 대출을 받을 주택은 특정 조건을 충족하는 주택의 임대차계약을 체결한 사람들을 대상으로 합니다.\\n\\n이 정책은 서울주거포털(https://housing.seoul.go.kr)에서 온라인으로 신청할 수 있습니다. 필요한 서류로는 주민등록등본, 가족관계증명서, 혼인관계증명서, 그리고 임대차계약서가 제출되어야 합니다.\\n\\n이 정책은 주거마련에 대한 부담을 완화하여 혼인수 감소와 출산기피 현상을 해결하고, 더 나은 주거환경을 제공하기 위해 서울시에서 운영하는 정책입니다. 대상 가구는 총 8,000가구로 제한되며, 지원 기간은 2023년 1월 1일부터 2023년 12월 31일까지입니다.', metadata={'source': '23.txt'})]}"
            ]
          },
          "execution_count": 21,
          "metadata": {},
          "output_type": "execute_result"
        }
      ],
      "source": [
        "# print(chatbot_response)\n",
        "chatbot_response"
      ]
    },
    {
      "cell_type": "code",
      "execution_count": null,
      "metadata": {
        "colab": {
          "base_uri": "https://localhost:8080/"
        },
        "id": "wg-e6fh6rNwz",
        "outputId": "7519a054-aaa1-41b4-cf4a-5aad57975851"
      },
      "outputs": [
        {
          "name": "stdout",
          "output_type": "stream",
          "text": [
            "정책 이름은 \"희망두배 청년통장\"입니다.\n",
            "\n",
            "문서 출처:\n",
            "40.txt\n",
            "40.txt\n"
          ]
        }
      ],
      "source": [
        "input_text = \"전세자금이 부족한 사람을 위한 정책 이름이 뭐야?\"\n",
        "llm_response = qa_chain(input_text)\n",
        "get_chatbot_response(llm_response)"
      ]
    },
    {
      "cell_type": "code",
      "execution_count": null,
      "metadata": {
        "colab": {
          "base_uri": "https://localhost:8080/"
        },
        "id": "t5KETxphrN3d",
        "outputId": "8ede585d-519b-4b1b-a3bf-2906a249141f"
      },
      "outputs": [
        {
          "name": "stdout",
          "output_type": "stream",
          "text": [
            "희망두배 청년통장은 저소득 근로 청년들의 자립을 지원하기 위해 서울시에서 운영하는 정책입니다. 이 정책은 교육비, 주거비, 결혼자금, 창업운영자금 등을 위한 저축을 지원하는 내용을 포함하고 있습니다. 신청자격은 18세에서 34세까지이며, 서울시 거주자이고 공고일 현재 근로 중인 자격 요건을 모두 충족하는 경우 신청할 수 있습니다. 자세한 내용과 신청 방법은 서울시복지재단의 홈페이지 및 서울시 안심돌봄복지과의 홈페이지에서 확인하실 수 있습니다.\n",
            "\n",
            "문서 출처:\n",
            "40.txt\n",
            "36.txt\n"
          ]
        }
      ],
      "source": [
        "query = \"희망두배 청년통장은 어떤걸 지원하니?\"\n",
        "llm_response = qa_chain(query)\n",
        "get_chatbot_response(llm_response)"
      ]
    },
    {
      "cell_type": "code",
      "execution_count": null,
      "metadata": {
        "colab": {
          "base_uri": "https://localhost:8080/"
        },
        "id": "cuFf8D-rrN0I",
        "outputId": "f592d25f-1ab9-4cc1-e66d-229a67b953ed"
      },
      "outputs": [
        {
          "name": "stdout",
          "output_type": "stream",
          "text": [
            "희망두배 청년통장의 지원 조건은 다음과 같습니다:\n",
            "\n",
            "1. 신청자격: 18세에서 34세까지의 청년이며, 서울시 거주자이고 공고일 현재 근로 중인 자격 요건을 모두 충족하는 경우 신청할 수 있습니다.\n",
            "\n",
            "2. 신청 방법: 방문접수, 우편 신청(도착분 기준 18:00까지 동주민센터 도착), 이메일 신청(접수 마감일 18:00까지 도착) 방법으로 신청할 수 있습니다. 이메일로 제출할 경우 원본 스캔 또는 이미지 촬영하여 PDF, JPG, PNG 파일 형식으로 제출해야 합니다.\n",
            "\n",
            "3. 신청 기한: 신청 기한 내에 제출서류가 누락되거나 식별이 불가능한 경우 대상자 선정에서 제외될 수 있습니다.\n",
            "\n",
            "4. 선정 결과: 선정 결과는 추후에 공지될 예정입니다.\n",
            "\n",
            "5. 필요한 서류: 자세한 신청 방법과 필요한 서류는 서울시복지재단, 서울시 및 25개 자치구 홈페이지에서 확인하실 수 있습니다.\n",
            "\n",
            "기타 문의 사항은 1688-1453, 120다산콜, 해당 주소지의 자치구 및 동주민센터로 문의하시면 됩니다.\n",
            "\n",
            "문서 출처:\n",
            "40.txt\n",
            "36.txt\n"
          ]
        }
      ],
      "source": [
        "query = \"희망두배 청년통장의 지원 조건은?\"\n",
        "llm_response = qa_chain(query)\n",
        "get_chatbot_response(llm_response)"
      ]
    },
    {
      "cell_type": "code",
      "execution_count": null,
      "metadata": {
        "colab": {
          "base_uri": "https://localhost:8080/"
        },
        "id": "692pHNkFrN5z",
        "outputId": "806697e3-4caf-48f1-c972-2033f8d023c9"
      },
      "outputs": [
        {
          "name": "stdout",
          "output_type": "stream",
          "text": [
            "희망두배 청년통장의 마감 기한은 문맥에서 명확하게 언급되지 않았습니다. 따라서 정확한 마감 기한을 알 수 없습니다. 자세한 내용은 서울시복지재단의 홈페이지나 서울시 안심돌봄복지과의 홈페이지에서 확인하실 수 있습니다.\n",
            "\n",
            "문서 출처:\n",
            "40.txt\n",
            "37.txt\n"
          ]
        }
      ],
      "source": [
        "query = \"희망두배 청년통장의 마감 기한은?\"\n",
        "llm_response = qa_chain(query)\n",
        "get_chatbot_response(llm_response)"
      ]
    },
    {
      "cell_type": "code",
      "execution_count": null,
      "metadata": {
        "colab": {
          "base_uri": "https://localhost:8080/"
        },
        "id": "t-jz6zAI5PlW",
        "outputId": "de14784b-c780-4262-9f3f-cdff0199a4ea"
      },
      "outputs": [
        {
          "name": "stdout",
          "output_type": "stream",
          "text": [
            "Collecting gradio\n",
            "  Downloading gradio-3.40.1-py3-none-any.whl (20.0 MB)\n",
            "\u001b[2K     \u001b[90m━━━━━━━━━━━━━━━━━━━━━━━━━━━━━━━━━━━━━━━━\u001b[0m \u001b[32m20.0/20.0 MB\u001b[0m \u001b[31m49.4 MB/s\u001b[0m eta \u001b[36m0:00:00\u001b[0m\n",
            "\u001b[?25hCollecting aiofiles<24.0,>=22.0 (from gradio)\n",
            "  Downloading aiofiles-23.2.1-py3-none-any.whl (15 kB)\n",
            "Requirement already satisfied: aiohttp~=3.0 in /usr/local/lib/python3.10/dist-packages (from gradio) (3.8.5)\n",
            "Requirement already satisfied: altair<6.0,>=4.2.0 in /usr/local/lib/python3.10/dist-packages (from gradio) (4.2.2)\n",
            "Requirement already satisfied: fastapi in /usr/local/lib/python3.10/dist-packages (from gradio) (0.99.1)\n",
            "Collecting ffmpy (from gradio)\n",
            "  Downloading ffmpy-0.3.1.tar.gz (5.5 kB)\n",
            "  Preparing metadata (setup.py) ... \u001b[?25l\u001b[?25hdone\n",
            "Collecting gradio-client>=0.4.0 (from gradio)\n",
            "  Downloading gradio_client-0.4.0-py3-none-any.whl (297 kB)\n",
            "\u001b[2K     \u001b[90m━━━━━━━━━━━━━━━━━━━━━━━━━━━━━━━━━━━━━━\u001b[0m \u001b[32m297.4/297.4 kB\u001b[0m \u001b[31m26.9 MB/s\u001b[0m eta \u001b[36m0:00:00\u001b[0m\n",
            "\u001b[?25hCollecting httpx (from gradio)\n",
            "  Downloading httpx-0.24.1-py3-none-any.whl (75 kB)\n",
            "\u001b[2K     \u001b[90m━━━━━━━━━━━━━━━━━━━━━━━━━━━━━━━━━━━━━━━━\u001b[0m \u001b[32m75.4/75.4 kB\u001b[0m \u001b[31m6.8 MB/s\u001b[0m eta \u001b[36m0:00:00\u001b[0m\n",
            "\u001b[?25hCollecting huggingface-hub>=0.14.0 (from gradio)\n",
            "  Downloading huggingface_hub-0.16.4-py3-none-any.whl (268 kB)\n",
            "\u001b[2K     \u001b[90m━━━━━━━━━━━━━━━━━━━━━━━━━━━━━━━━━━━━━━\u001b[0m \u001b[32m268.8/268.8 kB\u001b[0m \u001b[31m18.4 MB/s\u001b[0m eta \u001b[36m0:00:00\u001b[0m\n",
            "\u001b[?25hRequirement already satisfied: importlib-resources<7.0,>=1.3 in /usr/local/lib/python3.10/dist-packages (from gradio) (6.0.1)\n",
            "Requirement already satisfied: jinja2<4.0 in /usr/local/lib/python3.10/dist-packages (from gradio) (3.1.2)\n",
            "Requirement already satisfied: markdown-it-py[linkify]>=2.0.0 in /usr/local/lib/python3.10/dist-packages (from gradio) (3.0.0)\n",
            "Requirement already satisfied: markupsafe~=2.0 in /usr/local/lib/python3.10/dist-packages (from gradio) (2.1.3)\n",
            "Requirement already satisfied: matplotlib~=3.0 in /usr/local/lib/python3.10/dist-packages (from gradio) (3.7.1)\n",
            "Collecting mdit-py-plugins<=0.3.3 (from gradio)\n",
            "  Downloading mdit_py_plugins-0.3.3-py3-none-any.whl (50 kB)\n",
            "\u001b[2K     \u001b[90m━━━━━━━━━━━━━━━━━━━━━━━━━━━━━━━━━━━━━━━━\u001b[0m \u001b[32m50.5/50.5 kB\u001b[0m \u001b[31m4.7 MB/s\u001b[0m eta \u001b[36m0:00:00\u001b[0m\n",
            "\u001b[?25hRequirement already satisfied: numpy~=1.0 in /usr/local/lib/python3.10/dist-packages (from gradio) (1.23.5)\n",
            "Collecting orjson~=3.0 (from gradio)\n",
            "  Downloading orjson-3.9.5-cp310-cp310-manylinux_2_17_x86_64.manylinux2014_x86_64.whl (139 kB)\n",
            "\u001b[2K     \u001b[90m━━━━━━━━━━━━━━━━━━━━━━━━━━━━━━━━━━━━━━\u001b[0m \u001b[32m139.9/139.9 kB\u001b[0m \u001b[31m14.9 MB/s\u001b[0m eta \u001b[36m0:00:00\u001b[0m\n",
            "\u001b[?25hRequirement already satisfied: packaging in /usr/local/lib/python3.10/dist-packages (from gradio) (23.1)\n",
            "Requirement already satisfied: pandas<3.0,>=1.0 in /usr/local/lib/python3.10/dist-packages (from gradio) (1.5.3)\n",
            "Requirement already satisfied: pillow<11.0,>=8.0 in /usr/local/lib/python3.10/dist-packages (from gradio) (9.4.0)\n",
            "Requirement already satisfied: pydantic!=1.8,!=1.8.1,!=2.0.0,!=2.0.1,<3.0.0,>=1.7.4 in /usr/local/lib/python3.10/dist-packages (from gradio) (1.10.12)\n",
            "Collecting pydub (from gradio)\n",
            "  Downloading pydub-0.25.1-py2.py3-none-any.whl (32 kB)\n",
            "Collecting python-multipart (from gradio)\n",
            "  Downloading python_multipart-0.0.6-py3-none-any.whl (45 kB)\n",
            "\u001b[2K     \u001b[90m━━━━━━━━━━━━━━━━━━━━━━━━━━━━━━━━━━━━━━━━\u001b[0m \u001b[32m45.7/45.7 kB\u001b[0m \u001b[31m5.2 MB/s\u001b[0m eta \u001b[36m0:00:00\u001b[0m\n",
            "\u001b[?25hRequirement already satisfied: pyyaml<7.0,>=5.0 in /usr/local/lib/python3.10/dist-packages (from gradio) (6.0.1)\n",
            "Requirement already satisfied: requests~=2.0 in /usr/local/lib/python3.10/dist-packages (from gradio) (2.31.0)\n",
            "Collecting semantic-version~=2.0 (from gradio)\n",
            "  Downloading semantic_version-2.10.0-py2.py3-none-any.whl (15 kB)\n",
            "Requirement already satisfied: typing-extensions~=4.0 in /usr/local/lib/python3.10/dist-packages (from gradio) (4.7.1)\n",
            "Requirement already satisfied: uvicorn>=0.14.0 in /usr/local/lib/python3.10/dist-packages (from gradio) (0.23.2)\n",
            "Requirement already satisfied: websockets<12.0,>=10.0 in /usr/local/lib/python3.10/dist-packages (from gradio) (11.0.3)\n",
            "Requirement already satisfied: attrs>=17.3.0 in /usr/local/lib/python3.10/dist-packages (from aiohttp~=3.0->gradio) (23.1.0)\n",
            "Requirement already satisfied: charset-normalizer<4.0,>=2.0 in /usr/local/lib/python3.10/dist-packages (from aiohttp~=3.0->gradio) (3.2.0)\n",
            "Requirement already satisfied: multidict<7.0,>=4.5 in /usr/local/lib/python3.10/dist-packages (from aiohttp~=3.0->gradio) (6.0.4)\n",
            "Requirement already satisfied: async-timeout<5.0,>=4.0.0a3 in /usr/local/lib/python3.10/dist-packages (from aiohttp~=3.0->gradio) (4.0.3)\n",
            "Requirement already satisfied: yarl<2.0,>=1.0 in /usr/local/lib/python3.10/dist-packages (from aiohttp~=3.0->gradio) (1.9.2)\n",
            "Requirement already satisfied: frozenlist>=1.1.1 in /usr/local/lib/python3.10/dist-packages (from aiohttp~=3.0->gradio) (1.4.0)\n",
            "Requirement already satisfied: aiosignal>=1.1.2 in /usr/local/lib/python3.10/dist-packages (from aiohttp~=3.0->gradio) (1.3.1)\n",
            "Requirement already satisfied: entrypoints in /usr/local/lib/python3.10/dist-packages (from altair<6.0,>=4.2.0->gradio) (0.4)\n",
            "Requirement already satisfied: jsonschema>=3.0 in /usr/local/lib/python3.10/dist-packages (from altair<6.0,>=4.2.0->gradio) (4.19.0)\n",
            "Requirement already satisfied: toolz in /usr/local/lib/python3.10/dist-packages (from altair<6.0,>=4.2.0->gradio) (0.12.0)\n",
            "Requirement already satisfied: fsspec in /usr/local/lib/python3.10/dist-packages (from gradio-client>=0.4.0->gradio) (2023.6.0)\n",
            "Requirement already satisfied: filelock in /usr/local/lib/python3.10/dist-packages (from huggingface-hub>=0.14.0->gradio) (3.12.2)\n",
            "Requirement already satisfied: tqdm>=4.42.1 in /usr/local/lib/python3.10/dist-packages (from huggingface-hub>=0.14.0->gradio) (4.66.1)\n",
            "Requirement already satisfied: mdurl~=0.1 in /usr/local/lib/python3.10/dist-packages (from markdown-it-py[linkify]>=2.0.0->gradio) (0.1.2)\n",
            "Requirement already satisfied: linkify-it-py<3,>=1 in /usr/local/lib/python3.10/dist-packages (from markdown-it-py[linkify]>=2.0.0->gradio) (2.0.2)\n",
            "Requirement already satisfied: contourpy>=1.0.1 in /usr/local/lib/python3.10/dist-packages (from matplotlib~=3.0->gradio) (1.1.0)\n",
            "Requirement already satisfied: cycler>=0.10 in /usr/local/lib/python3.10/dist-packages (from matplotlib~=3.0->gradio) (0.11.0)\n",
            "Requirement already satisfied: fonttools>=4.22.0 in /usr/local/lib/python3.10/dist-packages (from matplotlib~=3.0->gradio) (4.42.0)\n",
            "Requirement already satisfied: kiwisolver>=1.0.1 in /usr/local/lib/python3.10/dist-packages (from matplotlib~=3.0->gradio) (1.4.4)\n",
            "Requirement already satisfied: pyparsing>=2.3.1 in /usr/local/lib/python3.10/dist-packages (from matplotlib~=3.0->gradio) (3.1.1)\n",
            "Requirement already satisfied: python-dateutil>=2.7 in /usr/local/lib/python3.10/dist-packages (from matplotlib~=3.0->gradio) (2.8.2)\n",
            "INFO: pip is looking at multiple versions of mdit-py-plugins to determine which version is compatible with other requirements. This could take a while.\n",
            "Collecting mdit-py-plugins<=0.3.3 (from gradio)\n",
            "  Downloading mdit_py_plugins-0.3.2-py3-none-any.whl (50 kB)\n",
            "\u001b[2K     \u001b[90m━━━━━━━━━━━━━━━━━━━━━━━━━━━━━━━━━━━━━━━━\u001b[0m \u001b[32m50.4/50.4 kB\u001b[0m \u001b[31m5.5 MB/s\u001b[0m eta \u001b[36m0:00:00\u001b[0m\n",
            "\u001b[?25h  Downloading mdit_py_plugins-0.3.1-py3-none-any.whl (46 kB)\n",
            "\u001b[2K     \u001b[90m━━━━━━━━━━━━━━━━━━━━━━━━━━━━━━━━━━━━━━━━\u001b[0m \u001b[32m46.5/46.5 kB\u001b[0m \u001b[31m4.4 MB/s\u001b[0m eta \u001b[36m0:00:00\u001b[0m\n",
            "\u001b[?25h  Downloading mdit_py_plugins-0.3.0-py3-none-any.whl (43 kB)\n",
            "\u001b[2K     \u001b[90m━━━━━━━━━━━━━━━━━━━━━━━━━━━━━━━━━━━━━━━━\u001b[0m \u001b[32m43.7/43.7 kB\u001b[0m \u001b[31m5.2 MB/s\u001b[0m eta \u001b[36m0:00:00\u001b[0m\n",
            "\u001b[?25h  Downloading mdit_py_plugins-0.2.8-py3-none-any.whl (41 kB)\n",
            "\u001b[2K     \u001b[90m━━━━━━━━━━━━━━━━━━━━━━━━━━━━━━━━━━━━━━━━\u001b[0m \u001b[32m41.0/41.0 kB\u001b[0m \u001b[31m4.4 MB/s\u001b[0m eta \u001b[36m0:00:00\u001b[0m\n",
            "\u001b[?25h  Downloading mdit_py_plugins-0.2.7-py3-none-any.whl (41 kB)\n",
            "\u001b[2K     \u001b[90m━━━━━━━━━━━━━━━━━━━━━━━━━━━━━━━━━━━━━━━━\u001b[0m \u001b[32m41.0/41.0 kB\u001b[0m \u001b[31m5.2 MB/s\u001b[0m eta \u001b[36m0:00:00\u001b[0m\n",
            "\u001b[?25h  Downloading mdit_py_plugins-0.2.6-py3-none-any.whl (39 kB)\n",
            "  Downloading mdit_py_plugins-0.2.5-py3-none-any.whl (39 kB)\n",
            "INFO: pip is looking at multiple versions of mdit-py-plugins to determine which version is compatible with other requirements. This could take a while.\n",
            "  Downloading mdit_py_plugins-0.2.4-py3-none-any.whl (39 kB)\n",
            "  Downloading mdit_py_plugins-0.2.3-py3-none-any.whl (39 kB)\n",
            "  Downloading mdit_py_plugins-0.2.2-py3-none-any.whl (39 kB)\n",
            "  Downloading mdit_py_plugins-0.2.1-py3-none-any.whl (38 kB)\n",
            "  Downloading mdit_py_plugins-0.2.0-py3-none-any.whl (38 kB)\n",
            "INFO: This is taking longer than usual. You might need to provide the dependency resolver with stricter constraints to reduce runtime. See https://pip.pypa.io/warnings/backtracking for guidance. If you want to abort this run, press Ctrl + C.\n",
            "  Downloading mdit_py_plugins-0.1.0-py3-none-any.whl (37 kB)\n",
            "Collecting markdown-it-py[linkify]>=2.0.0 (from gradio)\n",
            "  Downloading markdown_it_py-3.0.0-py3-none-any.whl (87 kB)\n",
            "\u001b[2K     \u001b[90m━━━━━━━━━━━━━━━━━━━━━━━━━━━━━━━━━━━━━━━━\u001b[0m \u001b[32m87.5/87.5 kB\u001b[0m \u001b[31m9.1 MB/s\u001b[0m eta \u001b[36m0:00:00\u001b[0m\n",
            "\u001b[?25h  Downloading markdown_it_py-2.2.0-py3-none-any.whl (84 kB)\n",
            "\u001b[2K     \u001b[90m━━━━━━━━━━━━━━━━━━━━━━━━━━━━━━━━━━━━━━━━\u001b[0m \u001b[32m84.5/84.5 kB\u001b[0m \u001b[31m10.7 MB/s\u001b[0m eta \u001b[36m0:00:00\u001b[0m\n",
            "\u001b[?25hRequirement already satisfied: pytz>=2020.1 in /usr/local/lib/python3.10/dist-packages (from pandas<3.0,>=1.0->gradio) (2023.3)\n",
            "Requirement already satisfied: idna<4,>=2.5 in /usr/local/lib/python3.10/dist-packages (from requests~=2.0->gradio) (3.4)\n",
            "Requirement already satisfied: urllib3<3,>=1.21.1 in /usr/local/lib/python3.10/dist-packages (from requests~=2.0->gradio) (2.0.4)\n",
            "Requirement already satisfied: certifi>=2017.4.17 in /usr/local/lib/python3.10/dist-packages (from requests~=2.0->gradio) (2023.7.22)\n",
            "Requirement already satisfied: click>=7.0 in /usr/local/lib/python3.10/dist-packages (from uvicorn>=0.14.0->gradio) (8.1.7)\n",
            "Requirement already satisfied: h11>=0.8 in /usr/local/lib/python3.10/dist-packages (from uvicorn>=0.14.0->gradio) (0.14.0)\n",
            "Requirement already satisfied: starlette<0.28.0,>=0.27.0 in /usr/local/lib/python3.10/dist-packages (from fastapi->gradio) (0.27.0)\n",
            "Collecting httpcore<0.18.0,>=0.15.0 (from httpx->gradio)\n",
            "  Downloading httpcore-0.17.3-py3-none-any.whl (74 kB)\n",
            "\u001b[2K     \u001b[90m━━━━━━━━━━━━━━━━━━━━━━━━━━━━━━━━━━━━━━━━\u001b[0m \u001b[32m74.5/74.5 kB\u001b[0m \u001b[31m9.6 MB/s\u001b[0m eta \u001b[36m0:00:00\u001b[0m\n",
            "\u001b[?25hRequirement already satisfied: sniffio in /usr/local/lib/python3.10/dist-packages (from httpx->gradio) (1.3.0)\n",
            "Requirement already satisfied: anyio<5.0,>=3.0 in /usr/local/lib/python3.10/dist-packages (from httpcore<0.18.0,>=0.15.0->httpx->gradio) (3.7.1)\n",
            "Requirement already satisfied: jsonschema-specifications>=2023.03.6 in /usr/local/lib/python3.10/dist-packages (from jsonschema>=3.0->altair<6.0,>=4.2.0->gradio) (2023.7.1)\n",
            "Requirement already satisfied: referencing>=0.28.4 in /usr/local/lib/python3.10/dist-packages (from jsonschema>=3.0->altair<6.0,>=4.2.0->gradio) (0.30.2)\n",
            "Requirement already satisfied: rpds-py>=0.7.1 in /usr/local/lib/python3.10/dist-packages (from jsonschema>=3.0->altair<6.0,>=4.2.0->gradio) (0.9.2)\n",
            "Requirement already satisfied: uc-micro-py in /usr/local/lib/python3.10/dist-packages (from linkify-it-py<3,>=1->markdown-it-py[linkify]>=2.0.0->gradio) (1.0.2)\n",
            "Requirement already satisfied: six>=1.5 in /usr/local/lib/python3.10/dist-packages (from python-dateutil>=2.7->matplotlib~=3.0->gradio) (1.16.0)\n",
            "Requirement already satisfied: exceptiongroup in /usr/local/lib/python3.10/dist-packages (from anyio<5.0,>=3.0->httpcore<0.18.0,>=0.15.0->httpx->gradio) (1.1.3)\n",
            "Building wheels for collected packages: ffmpy\n",
            "  Building wheel for ffmpy (setup.py) ... \u001b[?25l\u001b[?25hdone\n",
            "  Created wheel for ffmpy: filename=ffmpy-0.3.1-py3-none-any.whl size=5579 sha256=37abd6dff5222cd21818dfd55e29aa1dcd78825bfc02084fd3a0ee247830d10a\n",
            "  Stored in directory: /root/.cache/pip/wheels/01/a6/d1/1c0828c304a4283b2c1639a09ad86f83d7c487ef34c6b4a1bf\n",
            "Successfully built ffmpy\n",
            "Installing collected packages: pydub, ffmpy, semantic-version, python-multipart, orjson, markdown-it-py, aiofiles, mdit-py-plugins, huggingface-hub, httpcore, httpx, gradio-client, gradio\n",
            "  Attempting uninstall: markdown-it-py\n",
            "    Found existing installation: markdown-it-py 3.0.0\n",
            "    Uninstalling markdown-it-py-3.0.0:\n",
            "      Successfully uninstalled markdown-it-py-3.0.0\n",
            "  Attempting uninstall: mdit-py-plugins\n",
            "    Found existing installation: mdit-py-plugins 0.4.0\n",
            "    Uninstalling mdit-py-plugins-0.4.0:\n",
            "      Successfully uninstalled mdit-py-plugins-0.4.0\n",
            "Successfully installed aiofiles-23.2.1 ffmpy-0.3.1 gradio-3.40.1 gradio-client-0.4.0 httpcore-0.17.3 httpx-0.24.1 huggingface-hub-0.16.4 markdown-it-py-2.2.0 mdit-py-plugins-0.3.3 orjson-3.9.5 pydub-0.25.1 python-multipart-0.0.6 semantic-version-2.10.0\n"
          ]
        }
      ],
      "source": [
        "!pip install gradio"
      ]
    },
    {
      "cell_type": "markdown",
      "metadata": {
        "id": "UozRGHap6b3A"
      },
      "source": [
        "To create a public link, set `share=True` in `launch()`.  \n",
        "Running on https://localhost:7860/  \n",
        "\n",
        "라는 식의 문구가 나오면 위의 localhost로 시작하는 주소를 클릭하세요."
      ]
    },
    {
      "cell_type": "code",
      "execution_count": null,
      "metadata": {
        "colab": {
          "base_uri": "https://localhost:8080/",
          "height": 618
        },
        "id": "ZWXwk0Ms56_t",
        "outputId": "f352a4ce-6d6f-4bb5-ff33-46e27d8eec31"
      },
      "outputs": [
        {
          "metadata": {
            "tags": null
          },
          "name": "stdout",
          "output_type": "stream",
          "text": [
            "Colab notebook detected. This cell will run indefinitely so that you can see errors and logs. To turn off, set debug=False in launch().\n",
            "Note: opening Chrome Inspector may crash demo inside Colab notebooks.\n",
            "\n",
            "To create a public link, set `share=True` in `launch()`.\n"
          ]
        },
        {
          "data": {
            "application/javascript": [
              "(async (port, path, width, height, cache, element) => {\n",
              "                        if (!google.colab.kernel.accessAllowed && !cache) {\n",
              "                            return;\n",
              "                        }\n",
              "                        element.appendChild(document.createTextNode(''));\n",
              "                        const url = await google.colab.kernel.proxyPort(port, {cache});\n",
              "\n",
              "                        const external_link = document.createElement('div');\n",
              "                        external_link.innerHTML = `\n",
              "                            <div style=\"font-family: monospace; margin-bottom: 0.5rem\">\n",
              "                                Running on <a href=${new URL(path, url).toString()} target=\"_blank\">\n",
              "                                    https://localhost:${port}${path}\n",
              "                                </a>\n",
              "                            </div>\n",
              "                        `;\n",
              "                        element.appendChild(external_link);\n",
              "\n",
              "                        const iframe = document.createElement('iframe');\n",
              "                        iframe.src = new URL(path, url).toString();\n",
              "                        iframe.height = height;\n",
              "                        iframe.allow = \"autoplay; camera; microphone; clipboard-read; clipboard-write;\"\n",
              "                        iframe.width = width;\n",
              "                        iframe.style.border = 0;\n",
              "                        element.appendChild(iframe);\n",
              "                    })(7860, \"/\", \"100%\", 500, false, window.element)"
            ],
            "text/plain": [
              "<IPython.core.display.Javascript object>"
            ]
          },
          "metadata": {},
          "output_type": "display_data"
        }
      ],
      "source": [
        "import gradio as gr\n",
        "\n",
        "# 인터페이스를 생성.\n",
        "with gr.Blocks() as demo:\n",
        "    chatbot = gr.Chatbot(label=\"청년정책챗봇\") # 청년정책챗봇 레이블을 좌측 상단에 구성\n",
        "    msg = gr.Textbox(label=\"질문해주세요!\")  # 하단의 채팅창의 레이블\n",
        "    clear = gr.Button(\"대화 초기화\")  # 대화 초기화 버튼\n",
        "\n",
        "    # 챗봇의 답변을 처리하는 함수\n",
        "    def respond(message, chat_history):\n",
        "      result = qa_chain(message)\n",
        "      bot_message = result['result']\n",
        "      bot_message += ' # sources :'\n",
        "\n",
        "      # 답변의 출처를 표기\n",
        "      for i, doc in enumerate(result['source_documents']):\n",
        "          bot_message += '[' + str(i+1) + '] ' + doc.metadata['source'] + ' '\n",
        "\n",
        "      # 채팅 기록에 사용자의 메시지와 봇의 응답을 추가.\n",
        "      chat_history.append((message, bot_message))\n",
        "      return \"\", chat_history\n",
        "\n",
        "    # 사용자의 입력을 제출(submit)하면 respond 함수가 호출.\n",
        "    msg.submit(respond, [msg, chatbot], [msg, chatbot])\n",
        "\n",
        "    # '초기화' 버튼을 클릭하면 채팅 기록을 초기화.\n",
        "    clear.click(lambda: None, None, chatbot, queue=False)\n",
        "\n",
        "# 인터페이스 실행.\n",
        "demo.launch(debug=True)"
      ]
    }
  ],
  "metadata": {
    "colab": {
      "provenance": []
    },
    "hide_input": false,
    "kernelspec": {
      "display_name": "tf3_10_cpu_stts",
      "language": "python",
      "name": "tf3_10_cpu_stts"
    },
    "language_info": {
      "codemirror_mode": {
        "name": "ipython",
        "version": 3
      },
      "file_extension": ".py",
      "mimetype": "text/x-python",
      "name": "python",
      "nbconvert_exporter": "python",
      "pygments_lexer": "ipython3",
      "version": "3.10.14"
    },
    "toc": {
      "base_numbering": 1,
      "nav_menu": {},
      "number_sections": true,
      "sideBar": true,
      "skip_h1_title": false,
      "title_cell": "Table of Contents",
      "title_sidebar": "Contents",
      "toc_cell": false,
      "toc_position": {},
      "toc_section_display": true,
      "toc_window_display": false
    },
    "varInspector": {
      "cols": {
        "lenName": 16,
        "lenType": 16,
        "lenVar": 40
      },
      "kernels_config": {
        "python": {
          "delete_cmd_postfix": "",
          "delete_cmd_prefix": "del ",
          "library": "var_list.py",
          "varRefreshCmd": "print(var_dic_list())"
        },
        "r": {
          "delete_cmd_postfix": ") ",
          "delete_cmd_prefix": "rm(",
          "library": "var_list.r",
          "varRefreshCmd": "cat(var_dic_list()) "
        }
      },
      "types_to_exclude": [
        "module",
        "function",
        "builtin_function_or_method",
        "instance",
        "_Feature"
      ],
      "window_display": false
    }
  },
  "nbformat": 4,
  "nbformat_minor": 0
}