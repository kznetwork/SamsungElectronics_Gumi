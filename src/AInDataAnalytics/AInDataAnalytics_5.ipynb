{
  "cells": [
    {
      "cell_type": "markdown",
      "source": [
        "# 『1과목 : 』AI기반 데이터 분석"
      ],
      "metadata": {
        "id": "qcasPGfTmCDb"
      },
      "id": "qcasPGfTmCDb"
    },
    {
      "cell_type": "markdown",
      "source": [
        "## 『1-5』 통계적 가설 검정 및 분석\n"
      ],
      "metadata": {
        "id": "acgN78jomlBP"
      },
      "id": "acgN78jomlBP"
    },
    {
      "cell_type": "markdown",
      "source": [
        "### 통계적 가설 검정"
      ],
      "metadata": {
        "id": "grWFlkMQm2XM"
      },
      "id": "grWFlkMQm2XM"
    },
    {
      "cell_type": "code",
      "execution_count": null,
      "id": "ea16bcc5-0d4e-4828-819c-f08415099213",
      "metadata": {
        "id": "ea16bcc5-0d4e-4828-819c-f08415099213",
        "colab": {
          "base_uri": "https://localhost:8080/"
        },
        "outputId": "f33b02c6-6d86-47c1-b408-313b13235c46"
      },
      "outputs": [
        {
          "output_type": "stream",
          "name": "stdout",
          "text": [
            "[122.02 131.73 130.6  131.82 132.05 126.12 124.43 132.89 122.79 129.95\n",
            " 126.14 134.45 127.64 125.68]\n",
            "================================================================================\n",
            "128.4507142857143\n"
          ]
        }
      ],
      "source": [
        "import numpy as np\n",
        "import pandas as pd\n",
        "from scipy import stats\n",
        "\n",
        "%precision 3\n",
        "np.random.seed(1111)\n",
        "\n",
        "df = pd.read_csv('datasets/potato.csv')\n",
        "sample = np.array(df['무게'])\n",
        "print(sample)\n",
        "print(\"=\" * 80)\n",
        "s_mean = np.mean(sample)\n",
        "print(s_mean)"
      ]
    },
    {
      "cell_type": "code",
      "source": [
        "rv = stats.norm(130, np.sqrt(9/14))\n",
        "print(rv.isf(0.95))\n",
        "print(\"=\" * 80)\n",
        "z = (s_mean - 130) / np.sqrt(9/14)\n",
        "print(z)\n",
        "print(\"=\" * 80)\n",
        "rv = stats.norm()\n",
        "print(rv.isf(0.95))\n",
        "print(\"=\" * 80)\n",
        "print(rv.cdf(z))"
      ],
      "metadata": {
        "colab": {
          "base_uri": "https://localhost:8080/"
        },
        "id": "c5qxcPZcn0O0",
        "outputId": "d1997bbe-ed78-427c-951d-f7fa41eeda1d"
      },
      "id": "c5qxcPZcn0O0",
      "execution_count": null,
      "outputs": [
        {
          "output_type": "stream",
          "name": "stdout",
          "text": [
            "128.68118313069039\n",
            "================================================================================\n",
            "-1.932298779026813\n",
            "================================================================================\n",
            "-1.6448536269514722\n",
            "================================================================================\n",
            "0.026661319523126635\n"
          ]
        }
      ]
    },
    {
      "cell_type": "code",
      "source": [
        "z = (s_mean - 130) / np.sqrt(9/14)\n",
        "print(z)\n",
        "print(\"=\" * 80)\n",
        "rv = stats.norm()\n",
        "print(rv.interval(0.95))\n",
        "print(\"=\" * 80)\n",
        "print(rv.cdf(z) * 2)"
      ],
      "metadata": {
        "colab": {
          "base_uri": "https://localhost:8080/"
        },
        "id": "X_w2GUvGn0ST",
        "outputId": "7e877853-853f-4a12-f205-6446fac0516e"
      },
      "id": "X_w2GUvGn0ST",
      "execution_count": null,
      "outputs": [
        {
          "output_type": "stream",
          "name": "stdout",
          "text": [
            "-1.932298779026813\n",
            "================================================================================\n",
            "(-1.959963984540054, 1.959963984540054)\n",
            "================================================================================\n",
            "0.05332263904625327\n"
          ]
        }
      ]
    },
    {
      "cell_type": "code",
      "source": [
        "rv = stats.norm(130, 3)\n",
        "\n",
        "c = stats.norm().isf(0.95)\n",
        "n_samples = 10000\n",
        "cnt = 0\n",
        "for _ in range(n_samples):\n",
        "    sample_ = np.round(rv.rvs(14), 2)\n",
        "    s_mean_ = np.mean(sample_)\n",
        "    z = (s_mean_ - 130) / np.sqrt(9/14)\n",
        "    if z < c:\n",
        "        cnt += 1\n",
        "cnt / n_samples"
      ],
      "metadata": {
        "colab": {
          "base_uri": "https://localhost:8080/"
        },
        "id": "o4Pylo-Jn0Vs",
        "outputId": "acee684f-cb2c-4963-c368-d3eb16f77bc6"
      },
      "id": "o4Pylo-Jn0Vs",
      "execution_count": null,
      "outputs": [
        {
          "output_type": "execute_result",
          "data": {
            "text/plain": [
              "0.053"
            ]
          },
          "metadata": {},
          "execution_count": 33
        }
      ]
    },
    {
      "cell_type": "code",
      "source": [
        "rv = stats.norm(128, 3)\n",
        "\n",
        "c = stats.norm().isf(0.95)\n",
        "n_samples = 10000\n",
        "cnt = 0\n",
        "for _ in range(n_samples):\n",
        "    sample_ = np.round(rv.rvs(14), 2)\n",
        "    s_mean_ = np.mean(sample_)\n",
        "    z = (s_mean_ - 130) / np.sqrt(9/14)\n",
        "    if z >= c:\n",
        "        cnt += 1\n",
        "\n",
        "cnt / n_samples"
      ],
      "metadata": {
        "colab": {
          "base_uri": "https://localhost:8080/"
        },
        "id": "lmIhw-3zA1y2",
        "outputId": "beffd755-72cd-4456-ccd4-fc8d48de64af"
      },
      "id": "lmIhw-3zA1y2",
      "execution_count": null,
      "outputs": [
        {
          "output_type": "execute_result",
          "data": {
            "text/plain": [
              "0.197"
            ]
          },
          "metadata": {},
          "execution_count": 34
        }
      ]
    }
  ],
  "metadata": {
    "kernelspec": {
      "display_name": "Python 3",
      "name": "python3"
    },
    "language_info": {
      "name": "python"
    },
    "colab": {
      "provenance": []
    }
  },
  "nbformat": 4,
  "nbformat_minor": 5
}