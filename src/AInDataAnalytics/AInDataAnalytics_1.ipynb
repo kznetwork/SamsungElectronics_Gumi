{
  "cells": [
    {
      "cell_type": "markdown",
      "id": "hReCCGfh6Axe",
      "metadata": {
        "id": "hReCCGfh6Axe"
      },
      "source": [
        "# 『1과목 : 』AI기반 데이터 분석\n"
      ]
    },
    {
      "cell_type": "markdown",
      "id": "URfOm-8mw1CL",
      "metadata": {
        "id": "URfOm-8mw1CL"
      },
      "source": [
        "## 『1-1』 생성형 AI와 데이터 분석\n"
      ]
    },
    {
      "cell_type": "markdown",
      "id": "do-3x7gUwNoN",
      "metadata": {
        "id": "do-3x7gUwNoN"
      },
      "source": [
        "### Google Colab 명령어"
      ]
    },
    {
      "cell_type": "code",
      "execution_count": null,
      "id": "PoAzX1bJ6BAe",
      "metadata": {
        "colab": {
          "base_uri": "https://localhost:8080/"
        },
        "id": "PoAzX1bJ6BAe",
        "outputId": "777d9c6c-2c79-4db1-da31-4f0d3ca21147"
      },
      "outputs": [
        {
          "name": "stdout",
          "output_type": "stream",
          "text": [
            "Ubuntu 22.04.4 LTS\n"
          ]
        }
      ],
      "source": [
        "# OS\n",
        "!cat /etc/issue.net"
      ]
    },
    {
      "cell_type": "code",
      "execution_count": null,
      "id": "CN36kcbU6Nc2",
      "metadata": {
        "colab": {
          "base_uri": "https://localhost:8080/"
        },
        "id": "CN36kcbU6Nc2",
        "outputId": "0e844d0a-3e88-4485-a1f7-5bbaa90b9b68"
      },
      "outputs": [
        {
          "name": "stdout",
          "output_type": "stream",
          "text": [
            "processor\t: 0\n",
            "vendor_id\t: GenuineIntel\n",
            "cpu family\t: 6\n",
            "model\t\t: 79\n",
            "model name\t: Intel(R) Xeon(R) CPU @ 2.20GHz\n",
            "stepping\t: 0\n",
            "microcode\t: 0xffffffff\n",
            "cpu MHz\t\t: 2200.212\n",
            "cache size\t: 56320 KB\n",
            "physical id\t: 0\n"
          ]
        }
      ],
      "source": [
        "# CPU 사양\n",
        "!head /proc/cpuinfo"
      ]
    },
    {
      "cell_type": "code",
      "execution_count": null,
      "id": "8wJT2XjS6Q12",
      "metadata": {
        "colab": {
          "base_uri": "https://localhost:8080/"
        },
        "id": "8wJT2XjS6Q12",
        "outputId": "c683ccd2-0c3d-4a5c-c365-380093091129"
      },
      "outputs": [
        {
          "name": "stdout",
          "output_type": "stream",
          "text": [
            "MemTotal:       13289424 kB\n",
            "MemFree:         7668108 kB\n",
            "MemAvailable:   11980168 kB\n"
          ]
        }
      ],
      "source": [
        "# 메모리 사양\n",
        "!head -n 3 /proc/meminfo"
      ]
    },
    {
      "cell_type": "code",
      "execution_count": null,
      "id": "ZMBYZ4CX6T_3",
      "metadata": {
        "colab": {
          "base_uri": "https://localhost:8080/"
        },
        "id": "ZMBYZ4CX6T_3",
        "outputId": "2b1a7eb1-97de-4637-cf3a-d59359b898c2"
      },
      "outputs": [
        {
          "name": "stdout",
          "output_type": "stream",
          "text": [
            "Filesystem     1K-blocks     Used Available Use% Mounted on\n",
            "overlay        112947452 38771004  74160064  35% /\n",
            "tmpfs              65536        0     65536   0% /dev\n",
            "shm              5989376        0   5989376   0% /dev/shm\n",
            "/dev/root        2019696  1226180    793516  61% /usr/sbin/docker-init\n",
            "/dev/sda1       88512476 68268388  20227704  78% /kaggle/input\n",
            "tmpfs            6644712       80   6644632   1% /var/colab\n",
            "tmpfs            6644712        0   6644712   0% /proc/acpi\n",
            "tmpfs            6644712        0   6644712   0% /proc/scsi\n",
            "tmpfs            6644712        0   6644712   0% /sys/firmware\n"
          ]
        }
      ],
      "source": [
        "!df"
      ]
    },
    {
      "cell_type": "code",
      "execution_count": null,
      "id": "bflu73EQ6YgX",
      "metadata": {
        "colab": {
          "base_uri": "https://localhost:8080/"
        },
        "id": "bflu73EQ6YgX",
        "outputId": "03a039f6-46a7-4a6e-a0ca-eac636a01e42"
      },
      "outputs": [
        {
          "name": "stdout",
          "output_type": "stream",
          "text": [
            "3.11.12 (main, Apr  9 2025, 08:55:54) [GCC 11.4.0]\n"
          ]
        }
      ],
      "source": [
        "import sys\n",
        "print(sys.version)"
      ]
    },
    {
      "cell_type": "code",
      "execution_count": null,
      "id": "VGIbhePEPshI",
      "metadata": {
        "colab": {
          "base_uri": "https://localhost:8080/"
        },
        "id": "VGIbhePEPshI",
        "outputId": "f60a2ddd-12f9-4636-a828-0e9539fca430"
      },
      "outputs": [
        {
          "name": "stdout",
          "output_type": "stream",
          "text": [
            "2.18.0\n"
          ]
        }
      ],
      "source": [
        "import tensorflow as tf\n",
        "print(tf.__version__)"
      ]
    },
    {
      "cell_type": "markdown",
      "id": "fada491e-1e7a-4d23-a8c6-ffac0536a14b",
      "metadata": {
        "id": "fada491e-1e7a-4d23-a8c6-ffac0536a14b"
      },
      "source": [
        "###  기존 접근 방식과 머신 러닝 접근 방식 비교\n",
        "```\n",
        "3*x + 1 계산"
      ]
    },
    {
      "cell_type": "code",
      "execution_count": null,
      "id": "GXYIhwPlr1SF",
      "metadata": {
        "colab": {
          "base_uri": "https://localhost:8080/"
        },
        "id": "GXYIhwPlr1SF",
        "outputId": "c6f85f40-0a8b-4949-bee3-36cf8c8e5d5e"
      },
      "outputs": [
        {
          "name": "stdout",
          "output_type": "stream",
          "text": [
            "y: 31\n"
          ]
        }
      ],
      "source": [
        "def f (x) :\n",
        " return 3*x + 1\n",
        "\n",
        "x = 10\n",
        "y = f(x)\n",
        "\n",
        "print('y:', y)"
      ]
    },
    {
      "cell_type": "code",
      "execution_count": null,
      "id": "W2Ojx7vyr1fj",
      "metadata": {
        "colab": {
          "base_uri": "https://localhost:8080/"
        },
        "id": "W2Ojx7vyr1fj",
        "outputId": "5b4fd2c8-2466-4df5-8ead-b01e4f4c17d5"
      },
      "outputs": [
        {
          "name": "stdout",
          "output_type": "stream",
          "text": [
            "Epoch 1/5\n",
            "\u001b[1m1/1\u001b[0m \u001b[32m━━━━━━━━━━━━━━━━━━━━\u001b[0m\u001b[37m\u001b[0m \u001b[1m0s\u001b[0m 228ms/step - loss: 17.7430\n",
            "Epoch 2/5\n",
            "\u001b[1m1/1\u001b[0m \u001b[32m━━━━━━━━━━━━━━━━━━━━\u001b[0m\u001b[37m\u001b[0m \u001b[1m0s\u001b[0m 46ms/step - loss: 13.9823\n",
            "Epoch 3/5\n",
            "\u001b[1m1/1\u001b[0m \u001b[32m━━━━━━━━━━━━━━━━━━━━\u001b[0m\u001b[37m\u001b[0m \u001b[1m0s\u001b[0m 62ms/step - loss: 11.0232\n",
            "Epoch 4/5\n",
            "\u001b[1m1/1\u001b[0m \u001b[32m━━━━━━━━━━━━━━━━━━━━\u001b[0m\u001b[37m\u001b[0m \u001b[1m0s\u001b[0m 46ms/step - loss: 8.6946\n",
            "Epoch 5/5\n",
            "\u001b[1m1/1\u001b[0m \u001b[32m━━━━━━━━━━━━━━━━━━━━\u001b[0m\u001b[37m\u001b[0m \u001b[1m0s\u001b[0m 46ms/step - loss: 6.8621\n",
            "\u001b[1m1/1\u001b[0m \u001b[32m━━━━━━━━━━━━━━━━━━━━\u001b[0m\u001b[37m\u001b[0m \u001b[1m0s\u001b[0m 62ms/step\n",
            "p: [[22.441847]]\n"
          ]
        }
      ],
      "source": [
        "import tensorflow as tf\n",
        "import numpy as np\n",
        "\n",
        "xs = np.array([-1.0, 0.0, 1.0, 2.0, 3.0, 4.0])\n",
        "ys = np.array([-2.0, 1.0, 4.0, 7.0, 10.0, 13.0])\n",
        "\n",
        "model = tf.keras.Sequential([\n",
        "    tf.keras.Input(shape=(1,)),\n",
        "    tf.keras.layers.Dense(1)\n",
        "])\n",
        "\n",
        "model.compile(optimizer='sgd', loss='mean_squared_error')\n",
        "\n",
        "model.fit(xs, ys, epochs=5)\n",
        "\n",
        "# 수정된 부분\n",
        "p = model.predict(np.array([10.0]))\n",
        "\n",
        "print('p:', p)"
      ]
    },
    {
      "cell_type": "markdown",
      "id": "iT6H-0LZ8blV",
      "metadata": {
        "id": "iT6H-0LZ8blV"
      },
      "source": [
        "### 실습 환경 구축"
      ]
    },
    {
      "cell_type": "code",
      "execution_count": null,
      "id": "0295e145-10e5-44e0-9eb1-d921db42077b",
      "metadata": {
        "id": "0295e145-10e5-44e0-9eb1-d921db42077b",
        "outputId": "91d18972-4bde-4fd0-a850-8647c6a632ab"
      },
      "outputs": [
        {
          "data": {
            "text/plain": [
              "8"
            ]
          },
          "execution_count": 1,
          "metadata": {},
          "output_type": "execute_result"
        }
      ],
      "source": [
        "3+5"
      ]
    },
    {
      "cell_type": "code",
      "execution_count": null,
      "id": "cae5b2c6-c554-430d-8372-043475bc544a",
      "metadata": {
        "id": "cae5b2c6-c554-430d-8372-043475bc544a",
        "outputId": "3fe92c5f-77b3-469f-825e-aa447c1276f7"
      },
      "outputs": [
        {
          "data": {
            "text/plain": [
              "'c:\\\\DEV\\\\PycharmProjects\\\\python_works'"
            ]
          },
          "execution_count": 3,
          "metadata": {},
          "output_type": "execute_result"
        }
      ],
      "source": [
        "%pwd"
      ]
    },
    {
      "cell_type": "code",
      "execution_count": null,
      "id": "4c087577-2509-436f-802f-d8ec529896d1",
      "metadata": {
        "id": "4c087577-2509-436f-802f-d8ec529896d1",
        "outputId": "c5f9e4a0-e1b8-43cc-cbf1-49ff5b7a3054"
      },
      "outputs": [
        {
          "name": "stdout",
          "output_type": "stream",
          "text": [
            " C 드라이브의 볼륨에는 이름이 없습니다.\n",
            " 볼륨 일련 번호: BED0-C858\n",
            "\n",
            " c:\\DEV\\PycharmProjects\\python_works 디렉터리\n",
            "\n",
            "2025-05-01  오후 12:40    <DIR>          .\n",
            "2025-05-01  오후 12:40    <DIR>          ..\n",
            "2025-05-01  오후 12:23    <DIR>          .ipynb_checkpoints\n",
            "2025-05-01  오후 12:36         1,415,053 D1-『1과목』-1.ipynb\n",
            "2025-04-27  오후 05:00                27 hi.py\n",
            "2025-04-27  오후 05:07               498 library_ver.py\n",
            "2025-05-01  오후 12:40            23,398 SamsungDisplay_1st.ipynb\n",
            "2025-04-28  오전 11:29         7,780,113 SamsungElectronics_Gumi_1st.ipynb\n",
            "2025-04-28  오전 11:06            29,832 사칙계산_딥러닝.ipynb\n",
            "               6개 파일           9,248,921 바이트\n",
            "               3개 디렉터리  47,002,492,928 바이트 남음\n"
          ]
        }
      ],
      "source": [
        "%ls"
      ]
    },
    {
      "cell_type": "code",
      "execution_count": null,
      "id": "5cadd91c-704d-4c13-aaf6-937565a3029a",
      "metadata": {
        "id": "5cadd91c-704d-4c13-aaf6-937565a3029a"
      },
      "outputs": [],
      "source": [
        "%matplotlib inline"
      ]
    },
    {
      "cell_type": "markdown",
      "id": "c303d31e-42e7-4094-9697-f446c360a4f0",
      "metadata": {
        "id": "c303d31e-42e7-4094-9697-f446c360a4f0"
      },
      "source": [
        "py3_10_basic 가상환경으로 change kernel"
      ]
    },
    {
      "cell_type": "code",
      "execution_count": null,
      "id": "7f421b1e-0a06-4d14-96c9-944f0f47f72b",
      "metadata": {
        "id": "7f421b1e-0a06-4d14-96c9-944f0f47f72b",
        "outputId": "ca839fa8-bdd1-414f-9dce-ddca39f88956"
      },
      "outputs": [
        {
          "name": "stdout",
          "output_type": "stream",
          "text": [
            "Package           Version\n",
            "----------------- -----------\n",
            "asttokens         3.0.0\n",
            "colorama          0.4.6\n",
            "comm              0.2.2\n",
            "contourpy         1.3.2\n",
            "cycler            0.12.1\n",
            "debugpy           1.8.14\n",
            "decorator         5.2.1\n",
            "exceptiongroup    1.2.2\n",
            "executing         2.2.0\n",
            "fonttools         4.57.0\n",
            "ipykernel         6.29.5\n",
            "ipython           8.35.0\n",
            "jedi              0.19.2\n",
            "joblib            1.4.2\n",
            "jupyter_client    8.6.3\n",
            "jupyter_core      5.7.2\n",
            "kiwisolver        1.4.8\n",
            "matplotlib        3.10.1\n",
            "matplotlib-inline 0.1.7\n",
            "nest-asyncio      1.6.0\n",
            "numpy             2.2.5\n",
            "packaging         25.0\n",
            "pandas            2.2.3\n",
            "parso             0.8.4\n",
            "pillow            11.2.1\n",
            "pip               25.0.1\n",
            "platformdirs      4.3.7\n",
            "prompt_toolkit    3.0.51\n",
            "psutil            7.0.0\n",
            "pure_eval         0.2.3\n",
            "Pygments          2.19.1\n",
            "pyparsing         3.2.3\n",
            "python-dateutil   2.9.0.post0\n",
            "pytz              2025.2\n",
            "pywin32           310\n",
            "pyzmq             26.4.0\n",
            "scikit-learn      1.6.1\n",
            "scipy             1.15.2\n",
            "seaborn           0.13.2\n",
            "setuptools        65.5.0\n",
            "six               1.17.0\n",
            "stack-data        0.6.3\n",
            "threadpoolctl     3.6.0\n",
            "tornado           6.4.2\n",
            "traitlets         5.14.3\n",
            "typing_extensions 4.13.2\n",
            "tzdata            2025.2\n",
            "wcwidth           0.2.13\n",
            "Note: you may need to restart the kernel to use updated packages.\n"
          ]
        }
      ],
      "source": [
        "pip list"
      ]
    },
    {
      "cell_type": "code",
      "execution_count": null,
      "id": "70e6f297-dd33-45a1-9344-6fd8d3cb81c8",
      "metadata": {
        "id": "70e6f297-dd33-45a1-9344-6fd8d3cb81c8",
        "outputId": "4062937b-3797-452f-d0d3-64d2c68c13a9"
      },
      "outputs": [
        {
          "name": "stdout",
          "output_type": "stream",
          "text": [
            "python 버전 : 3.10.11 (tags/v3.10.11:7d4cc5a, Apr  5 2023, 00:38:17) [MSC v.1929 64 bit (AMD64)]\n",
            "numpy 버전 : 2.2.5\n",
            "pandas 버전 : 2.2.3\n",
            "matplotlib 버전 : 3.10.1\n",
            "scipy 버전 : 1.15.2\n",
            "IPython 버전 : 8.35.0\n",
            "sklearn : 1.6.1\n"
          ]
        }
      ],
      "source": [
        "import sys\n",
        "print(\"python 버전 : {}\".format(sys.version))\n",
        "import numpy as np\n",
        "print(\"numpy 버전 : {}\".format(np.__version__))\n",
        "import pandas as pd\n",
        "print(\"pandas 버전 : {}\".format(pd.__version__))\n",
        "import matplotlib\n",
        "print(\"matplotlib 버전 : {}\".format(matplotlib.__version__))\n",
        "import scipy as sp\n",
        "print(\"scipy 버전 : {}\".format(sp.__version__))\n",
        "import IPython\n",
        "print(\"IPython 버전 : {}\".format(IPython.__version__))\n",
        "import sklearn\n",
        "print(\"sklearn : {}\".format(sklearn.__version__))"
      ]
    },
    {
      "cell_type": "markdown",
      "id": "6f29a7d7-b534-4312-b6eb-ff6266c38790",
      "metadata": {
        "id": "6f29a7d7-b534-4312-b6eb-ff6266c38790"
      },
      "source": [
        "#### Self 점검 문제"
      ]
    },
    {
      "cell_type": "code",
      "execution_count": null,
      "id": "d84b59ca-5378-40cc-80fa-345f90921892",
      "metadata": {
        "id": "d84b59ca-5378-40cc-80fa-345f90921892",
        "outputId": "d8264b48-5b61-4271-c942-ed1d6bf9c4e6"
      },
      "outputs": [
        {
          "data": {
            "text/plain": [
              "'c:\\\\DEV\\\\PycharmProjects\\\\python_works'"
            ]
          },
          "execution_count": 6,
          "metadata": {},
          "output_type": "execute_result"
        }
      ],
      "source": [
        "import os\n",
        "os.getcwd()"
      ]
    },
    {
      "cell_type": "code",
      "execution_count": null,
      "id": "13037006-e882-4d05-b329-ec1a8489d548",
      "metadata": {
        "id": "13037006-e882-4d05-b329-ec1a8489d548",
        "outputId": "cbe607cf-c78c-47e9-ceae-07ae286cf92e"
      },
      "outputs": [
        {
          "data": {
            "text/plain": [
              "'C:\\\\DEV\\\\envs\\\\py3_10_basic'"
            ]
          },
          "execution_count": 7,
          "metadata": {},
          "output_type": "execute_result"
        }
      ],
      "source": [
        "os.chdir(\"C:\\DEV\\envs\\py3_10_basic\")\n",
        "os.getcwd()"
      ]
    },
    {
      "cell_type": "code",
      "execution_count": null,
      "id": "63cfeb9b-25ad-4fc8-a7e8-49edd0f83c75",
      "metadata": {
        "id": "63cfeb9b-25ad-4fc8-a7e8-49edd0f83c75",
        "outputId": "d1e61a59-a18d-45d5-9200-ecefc1dbc7ae"
      },
      "outputs": [
        {
          "data": {
            "text/plain": [
              "'C:\\\\DEV\\\\envs'"
            ]
          },
          "execution_count": 8,
          "metadata": {},
          "output_type": "execute_result"
        }
      ],
      "source": [
        "os.chdir(\"..\")\n",
        "os.getcwd()"
      ]
    },
    {
      "cell_type": "code",
      "execution_count": null,
      "id": "7db48d02-5fa8-4338-aff6-48aeba302ab3",
      "metadata": {
        "id": "7db48d02-5fa8-4338-aff6-48aeba302ab3",
        "outputId": "8d96cc04-8bd7-4a10-bc3e-7d2842bcc083"
      },
      "outputs": [
        {
          "data": {
            "text/plain": [
              "'C:\\\\DEV\\\\envs'"
            ]
          },
          "execution_count": 9,
          "metadata": {},
          "output_type": "execute_result"
        }
      ],
      "source": [
        "%pwd"
      ]
    },
    {
      "cell_type": "code",
      "execution_count": null,
      "id": "b45d2e05-ae4e-45ab-a088-b622774fbd81",
      "metadata": {
        "id": "b45d2e05-ae4e-45ab-a088-b622774fbd81",
        "outputId": "d78e94fe-3d4d-4689-ece5-83f3e9a38d45"
      },
      "outputs": [
        {
          "name": "stdout",
          "output_type": "stream",
          "text": [
            " C 드라이브의 볼륨에는 이름이 없습니다.\n",
            " 볼륨 일련 번호: BED0-C858\n",
            "\n",
            " C:\\DEV\\envs 디렉터리\n",
            "\n",
            "2025-04-23  오후 04:51    <DIR>          .\n",
            "2025-04-23  오후 04:51    <DIR>          ..\n",
            "2025-04-23  오후 05:02    <DIR>          py3_10_basic\n",
            "               0개 파일                   0 바이트\n",
            "               3개 디렉터리  46,998,261,760 바이트 남음\n"
          ]
        }
      ],
      "source": [
        "!dir"
      ]
    },
    {
      "cell_type": "code",
      "execution_count": null,
      "id": "eafef40b-1379-4a2a-9795-111b148c6d05",
      "metadata": {
        "id": "eafef40b-1379-4a2a-9795-111b148c6d05",
        "outputId": "0aa2dffc-2ffb-4324-a0a2-5040c1d630b6"
      },
      "outputs": [
        {
          "name": "stdout",
          "output_type": "stream",
          "text": [
            " C 드라이브의 볼륨에는 이름이 없습니다.\n",
            " 볼륨 일련 번호: BED0-C858\n",
            "\n",
            " C:\\DEV\\envs 디렉터리\n",
            "\n",
            "2025-04-23  오후 04:51    <DIR>          .\n",
            "2025-04-23  오후 04:51    <DIR>          ..\n",
            "2025-04-23  오후 05:02    <DIR>          py3_10_basic\n",
            "               0개 파일                   0 바이트\n",
            "               3개 디렉터리  46,998,261,760 바이트 남음\n"
          ]
        }
      ],
      "source": [
        "%ls"
      ]
    },
    {
      "cell_type": "markdown",
      "id": "936ae5e9-8932-413f-a319-b3ebf459695b",
      "metadata": {
        "id": "936ae5e9-8932-413f-a319-b3ebf459695b"
      },
      "source": [
        "### Python 작업 몇 가지 규칙"
      ]
    },
    {
      "cell_type": "code",
      "execution_count": null,
      "id": "6ed7235f-8683-4fd3-a3ca-8eccfb40a1e1",
      "metadata": {
        "id": "6ed7235f-8683-4fd3-a3ca-8eccfb40a1e1",
        "outputId": "c9f90094-69aa-40cb-b8ce-cefdbf28b2a6"
      },
      "outputs": [
        {
          "name": "stdout",
          "output_type": "stream",
          "text": [
            "2\n",
            "2\n"
          ]
        }
      ],
      "source": [
        "print(1+1)  # 모두 붙여쓰지 않는다.\n",
        "\n",
        "print(1 + 1)   # 너무 많이 띄우지 않는다. 한 칸만 띄운다."
      ]
    },
    {
      "cell_type": "code",
      "execution_count": null,
      "id": "d58e1d1c-87e0-46bc-bfa5-1be70f4479f0",
      "metadata": {
        "id": "d58e1d1c-87e0-46bc-bfa5-1be70f4479f0",
        "outputId": "24fa5d63-dfcb-46af-f013-337563cab0d0"
      },
      "outputs": [
        {
          "name": "stdout",
          "output_type": "stream",
          "text": [
            "['False', 'None', 'True', 'and', 'as', 'assert', 'async', 'await', 'break', 'class', 'continue', 'def', 'del', 'elif', 'else', 'except', 'finally', 'for', 'from', 'global', 'if', 'import', 'in', 'is', 'lambda', 'nonlocal', 'not', 'or', 'pass', 'raise', 'return', 'try', 'while', 'with', 'yield']\n"
          ]
        }
      ],
      "source": [
        "import keyword\n",
        "\n",
        "print(keyword.kwlist)"
      ]
    },
    {
      "cell_type": "code",
      "execution_count": null,
      "id": "be20e0e9-6d9f-43d8-9357-36654a7a3725",
      "metadata": {
        "id": "be20e0e9-6d9f-43d8-9357-36654a7a3725",
        "outputId": "6fe10d6f-57ed-4795-ced2-488d6d15c24e"
      },
      "outputs": [
        {
          "ename": "IndentationError",
          "evalue": "unindent does not match any outer indentation level (<tokenize>, line 13)",
          "output_type": "error",
          "traceback": [
            "\u001b[1;36m  File \u001b[1;32m<tokenize>:13\u001b[1;36m\u001b[0m\n\u001b[1;33m    print(\"False\")\u001b[0m\n\u001b[1;37m    ^\u001b[0m\n\u001b[1;31mIndentationError\u001b[0m\u001b[1;31m:\u001b[0m unindent does not match any outer indentation level\n"
          ]
        }
      ],
      "source": [
        "if True:\n",
        "    print(\"Answer\")\n",
        "    print(\"True\")\n",
        "else:\n",
        "    print(\"Answer\")\n",
        "    print(\"False\")\n",
        "\n",
        "if True:\n",
        "    print(\"Answer\")\n",
        "    print(\"True\")\n",
        "else:\n",
        "        print(\"Answer\")\n",
        "    print(\"False\")"
      ]
    },
    {
      "cell_type": "code",
      "execution_count": null,
      "id": "c29d4fdd-bcfb-4a80-9147-5109de6e08d0",
      "metadata": {
        "id": "c29d4fdd-bcfb-4a80-9147-5109de6e08d0",
        "outputId": "3396c515-c09f-4849-bdf5-fb0019e77aa2"
      },
      "outputs": [
        {
          "name": "stdout",
          "output_type": "stream",
          "text": [
            "item_one, item_two, item_three\n"
          ]
        }
      ],
      "source": [
        "total = 'item_one, ' + \\\n",
        "        'item_two, ' + \\\n",
        "        'item_three'\n",
        "\n",
        "print(total)"
      ]
    },
    {
      "cell_type": "code",
      "execution_count": null,
      "id": "d51b2719-7510-4565-ad01-f458f8b149ac",
      "metadata": {
        "id": "d51b2719-7510-4565-ad01-f458f8b149ac",
        "outputId": "7e9a499b-ca66-4f5f-cf49-571d6acd54e2"
      },
      "outputs": [
        {
          "name": "stdout",
          "output_type": "stream",
          "text": [
            "['Monday', 'Tuesday', 'Wednesday', 'Thursday', 'Friday']\n"
          ]
        }
      ],
      "source": [
        "days = ['Monday', 'Tuesday',\n",
        "        'Wednesday', 'Thursday', 'Friday']\n",
        "print(days)"
      ]
    },
    {
      "cell_type": "code",
      "execution_count": null,
      "id": "11be6731-f60d-441c-98a0-dbd9260972e2",
      "metadata": {
        "id": "11be6731-f60d-441c-98a0-dbd9260972e2",
        "outputId": "aa1cf936-ee19-419e-dc90-16baf1947cf3"
      },
      "outputs": [
        {
          "name": "stdout",
          "output_type": "stream",
          "text": [
            "3\n",
            "3\n"
          ]
        }
      ],
      "source": [
        "print (1+2)\n",
        "print (1+2);"
      ]
    },
    {
      "cell_type": "code",
      "execution_count": null,
      "id": "33de106e-626a-4094-884c-8a93fdd89599",
      "metadata": {
        "id": "33de106e-626a-4094-884c-8a93fdd89599",
        "outputId": "0b2f8252-4421-4796-df1b-15bce4b931ee"
      },
      "outputs": [
        {
          "name": "stdout",
          "output_type": "stream",
          "text": [
            "Hello, Python!\n"
          ]
        }
      ],
      "source": [
        "# First comment\n",
        "print(\"Hello, Python!\")  # second comment\n",
        "# last comment"
      ]
    },
    {
      "cell_type": "code",
      "execution_count": null,
      "id": "27c79602-b3eb-433e-97e7-5e3b4677f4a4",
      "metadata": {
        "id": "27c79602-b3eb-433e-97e7-5e3b4677f4a4",
        "outputId": "198bf2ba-cb17-49ca-9d49-287c158544ad"
      },
      "outputs": [
        {
          "name": "stdout",
          "output_type": "stream",
          "text": [
            "I'm excited to learn Python.\n",
            "9\n",
            "Four plus five equals 9.\n"
          ]
        }
      ],
      "source": [
        "#!/usr/bin/env python3\n",
        "print(\"I'm excited to learn Python.\")\n",
        "\n",
        "4 + 5\n",
        "\n",
        "print(4 + 5)\n",
        "\n",
        "# two numbers 더 하기\n",
        "x = 4\n",
        "y = 5\n",
        "z = x+y\n",
        "print(\"Four plus five equals {0:d}.\".format(z))"
      ]
    },
    {
      "cell_type": "code",
      "execution_count": null,
      "id": "4327ff04-0c5a-4dee-9838-8715734ca557",
      "metadata": {
        "id": "4327ff04-0c5a-4dee-9838-8715734ca557",
        "outputId": "3c64f26a-624c-4713-b9b6-99e8e5956250"
      },
      "outputs": [
        {
          "name": "stdout",
          "output_type": "stream",
          "text": [
            "Output #1: Four plus five equals 9.\n"
          ]
        }
      ],
      "source": [
        "# two numbers 더 하기\n",
        "x = 4\n",
        "y = 5\n",
        "z = x+y\n",
        "print(\"Output #1: Four plus five equals {0:d}.\".format(z))"
      ]
    },
    {
      "cell_type": "code",
      "execution_count": null,
      "id": "80127239-c850-4442-9c34-2b573ef86111",
      "metadata": {
        "id": "80127239-c850-4442-9c34-2b573ef86111",
        "outputId": "dce6cd83-488a-4e2e-dab5-124ae3b81ec6"
      },
      "outputs": [
        {
          "name": "stdout",
          "output_type": "stream",
          "text": [
            "Output #2: [1, 2, 3, 4], ['first', 'second', 'third', 'fourth'], [1, 2, 3, 4, 'first', 'second', 'third', 'fourth']\n"
          ]
        }
      ],
      "source": [
        "# lists 더하기\n",
        "a = [1, 2, 3, 4]\n",
        "b = [\"first\", \"second\", \"third\", \"fourth\"]\n",
        "c = a+b\n",
        "print(\"Output #2: {0}, {1}, {2}\".format(a, b, c))"
      ]
    },
    {
      "cell_type": "code",
      "execution_count": null,
      "id": "dcd19d58-807d-4d9c-b5c1-909c8f4c2161",
      "metadata": {
        "id": "dcd19d58-807d-4d9c-b5c1-909c8f4c2161",
        "outputId": "0632259f-052e-4148-82f0-b374f05abc0d"
      },
      "outputs": [
        {
          "name": "stdout",
          "output_type": "stream",
          "text": [
            "Output #3: [1, 2, 3, 4], ['first', 'second', 'third', 'fourth'], [1, 2, 3, 4, 'first', 'second', 'third', 'fourth']\n",
            "Output #4:  [1, 2, 3, 4] ,  ['first', 'second', 'third', 'fourth'] ,  [1, 2, 3, 4, 'first', 'second', 'third', 'fourth']\n"
          ]
        }
      ],
      "source": [
        "# lists 더하기\n",
        "a = [1, 2, 3, 4]\n",
        "b = [\"first\", \"second\", \"third\", \"fourth\"]\n",
        "c = a+b\n",
        "print(\"Output #3: {0}, {1}, {2}\".format(a, b, c))\n",
        "\n",
        "print(\"Output #4: \",a,\", \",b,\", \",c)"
      ]
    }
  ],
  "metadata": {
    "colab": {
      "collapsed_sections": [
        "do-3x7gUwNoN",
        "fada491e-1e7a-4d23-a8c6-ffac0536a14b",
        "iT6H-0LZ8blV"
      ],
      "provenance": []
    },
    "kernelspec": {
      "display_name": "py3_10_basic",
      "language": "python",
      "name": "py3_10_basic"
    },
    "language_info": {
      "codemirror_mode": {
        "name": "ipython",
        "version": 3
      },
      "file_extension": ".py",
      "mimetype": "text/x-python",
      "name": "python",
      "nbconvert_exporter": "python",
      "pygments_lexer": "ipython3",
      "version": "3.10.11"
    }
  },
  "nbformat": 4,
  "nbformat_minor": 5
}