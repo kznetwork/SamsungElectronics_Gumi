{
  "cells": [
    {
      "cell_type": "markdown",
      "id": "1ffbb4ff-9934-4ecd-b7ab-6ec6495e8ed4",
      "metadata": {
        "id": "1ffbb4ff-9934-4ecd-b7ab-6ec6495e8ed4"
      },
      "source": [
        "# 『1과목 : 』AI기반 데이터 분석"
      ]
    },
    {
      "cell_type": "markdown",
      "id": "b5bb435e-f73e-4f9f-aba2-1fc522c8658a",
      "metadata": {
        "id": "b5bb435e-f73e-4f9f-aba2-1fc522c8658a"
      },
      "source": [
        "## 『1-6』 데이터 준비(Data Preparation)"
      ]
    },
    {
      "cell_type": "markdown",
      "id": "61aea51a-bffe-410b-b7f5-5e5aecd70d2d",
      "metadata": {
        "id": "61aea51a-bffe-410b-b7f5-5e5aecd70d2d"
      },
      "source": [
        "### Data Transformation (변환)"
      ]
    },
    {
      "cell_type": "markdown",
      "id": "2cf4c3df-de1e-4d13-9ecf-a63d55329013",
      "metadata": {
        "id": "2cf4c3df-de1e-4d13-9ecf-a63d55329013"
      },
      "source": [
        "정규화 예"
      ]
    },
    {
      "cell_type": "code",
      "execution_count": null,
      "id": "1d806f66-b9c4-4fc4-96e7-a503c563de0e",
      "metadata": {
        "id": "1d806f66-b9c4-4fc4-96e7-a503c563de0e",
        "outputId": "ac4f7581-b276-4024-f634-388c29da384e"
      },
      "outputs": [
        {
          "name": "stdout",
          "output_type": "stream",
          "text": [
            "정규화된 데이터:\n",
            "[[1.   ]\n",
            " [0.375]\n",
            " [0.125]\n",
            " [0.   ]\n",
            " [0.75 ]]\n"
          ]
        }
      ],
      "source": [
        "from sklearn.preprocessing import MinMaxScaler\n",
        "\n",
        "# 데이터 생성 (예시)\n",
        "data = [[10], [5], [3], [2], [8]]\n",
        "\n",
        "# 최소-최대 정규화 적용\n",
        "scaler = MinMaxScaler()\n",
        "scaled_data = scaler.fit_transform(data)\n",
        "print(\"정규화된 데이터:\")\n",
        "print(scaled_data)"
      ]
    },
    {
      "cell_type": "markdown",
      "id": "6bcc8da7-ebf1-407e-b3cb-e3aed072a1ca",
      "metadata": {
        "id": "6bcc8da7-ebf1-407e-b3cb-e3aed072a1ca"
      },
      "source": [
        "표준화(Standardization)"
      ]
    },
    {
      "cell_type": "code",
      "execution_count": null,
      "id": "6a22e9ec-7298-46f1-b19d-b8dc0f869694",
      "metadata": {
        "id": "6a22e9ec-7298-46f1-b19d-b8dc0f869694",
        "outputId": "0d5f4891-f474-4dbe-fca5-f28ca08a33b5"
      },
      "outputs": [
        {
          "name": "stdout",
          "output_type": "stream",
          "text": [
            "표준화된 데이터:\n",
            "[[ 1.46341823]\n",
            " [-0.19955703]\n",
            " [-0.86474714]\n",
            " [-1.19734219]\n",
            " [ 0.79822813]]\n"
          ]
        }
      ],
      "source": [
        "from sklearn.preprocessing import StandardScaler\n",
        "\n",
        "# 데이터 생성 (예시)\n",
        "data = [[10], [5], [3], [2], [8]]\n",
        "\n",
        "# 표준화 적용\n",
        "scaler = StandardScaler()\n",
        "standardized_data = scaler.fit_transform(data)\n",
        "print(\"표준화된 데이터:\")\n",
        "print(standardized_data)"
      ]
    },
    {
      "cell_type": "markdown",
      "id": "0233a402-b7b6-4d5a-b820-79fe6d5a84df",
      "metadata": {
        "id": "0233a402-b7b6-4d5a-b820-79fe6d5a84df"
      },
      "source": [
        "수치형 데이터 이산화 예"
      ]
    },
    {
      "cell_type": "code",
      "execution_count": null,
      "id": "ed53681f-c239-4ba5-b2d3-cd527cb19099",
      "metadata": {
        "id": "ed53681f-c239-4ba5-b2d3-cd527cb19099",
        "outputId": "e6263ab4-5ade-42f0-a3fd-919ce346b573"
      },
      "outputs": [
        {
          "name": "stdout",
          "output_type": "stream",
          "text": [
            "   나이 연령대\n",
            "0  18  청년\n",
            "1  25  청년\n",
            "2  33  청년\n",
            "3  45  중년\n",
            "4  60  노년\n",
            "5  70  노년\n"
          ]
        }
      ],
      "source": [
        "import pandas as pd\n",
        "\n",
        "# 예시 데이터\n",
        "ages = pd.Series([18, 25, 33, 45, 60, 70])\n",
        "\n",
        "# 구간 정의\n",
        "bins = [17.948, 35.333, 52.667, 70.0]\n",
        "labels = ['청년', '중년', '노년']\n",
        "\n",
        "# 이산화 수행\n",
        "age_groups = pd.cut(ages, bins=bins, labels=labels)\n",
        "\n",
        "# 결과 출력\n",
        "df = pd.DataFrame({'나이': ages, '연령대': age_groups})\n",
        "print(df)"
      ]
    },
    {
      "cell_type": "markdown",
      "source": [
        "### Feature Engineering & Data Encoding"
      ],
      "metadata": {
        "id": "lpv0U8CRahck"
      },
      "id": "lpv0U8CRahck"
    },
    {
      "cell_type": "markdown",
      "id": "67c8bc94-cb51-4388-9a72-43bd0b90a70d",
      "metadata": {
        "id": "67c8bc94-cb51-4388-9a72-43bd0b90a70d"
      },
      "source": [
        "원핫 인코딩(One-Hot Encoding):"
      ]
    },
    {
      "cell_type": "code",
      "execution_count": null,
      "id": "50bd8a45-5093-4c13-b731-f1c347fbc6f4",
      "metadata": {
        "id": "50bd8a45-5093-4c13-b731-f1c347fbc6f4",
        "outputId": "bfe96a12-0ee3-439c-b824-cb16715b6730"
      },
      "outputs": [
        {
          "name": "stdout",
          "output_type": "stream",
          "text": [
            "변환된 데이터:\n",
            "   color_blue  color_green  color_red  color_yellow\n",
            "0       False        False       True         False\n",
            "1        True        False      False         False\n",
            "2       False         True      False         False\n",
            "3       False        False       True         False\n",
            "4       False        False      False          True\n"
          ]
        }
      ],
      "source": [
        "import pandas as pd\n",
        "\n",
        "# 샘플 데이터셋\n",
        "data = {\n",
        "    'color': ['red', 'blue', 'green', 'red', 'yellow']\n",
        "}\n",
        "\n",
        "# DataFrame 생성\n",
        "df = pd.DataFrame(data)\n",
        "\n",
        "# 원핫 인코딩 적용\n",
        "df_encoded = pd.get_dummies(df['color'], prefix='color')\n",
        "\n",
        "# 변환된 데이터 확인\n",
        "print(\"변환된 데이터:\")\n",
        "print(df_encoded)\n"
      ]
    },
    {
      "cell_type": "markdown",
      "id": "a40b3d92-c124-49ad-b005-04703d9bbd65",
      "metadata": {
        "id": "a40b3d92-c124-49ad-b005-04703d9bbd65"
      },
      "source": [
        "라벨 인코딩"
      ]
    },
    {
      "cell_type": "code",
      "execution_count": null,
      "id": "ebd97cf9-18f9-400b-bf46-e59ca3beaebb",
      "metadata": {
        "id": "ebd97cf9-18f9-400b-bf46-e59ca3beaebb",
        "outputId": "58e2cdf6-bdaa-4077-9552-7554e6b3b35b"
      },
      "outputs": [
        {
          "name": "stdout",
          "output_type": "stream",
          "text": [
            "[1 0 1 2 0]\n"
          ]
        }
      ],
      "source": [
        "from sklearn.preprocessing import LabelEncoder\n",
        "\n",
        "# 범주형 데이터 예시\n",
        "categories = ['고양이', '개', '고양이', '새', '개']\n",
        "\n",
        "# LabelEncoder 객체 생성\n",
        "label_encoder = LabelEncoder()\n",
        "\n",
        "# 라벨 인코딩 수행\n",
        "encoded_labels = label_encoder.fit_transform(categories)\n",
        "print(encoded_labels)\n"
      ]
    },
    {
      "cell_type": "markdown",
      "id": "dc4e55c1-8a8b-44c8-941c-cff4ecd7396c",
      "metadata": {
        "id": "dc4e55c1-8a8b-44c8-941c-cff4ecd7396c"
      },
      "source": [
        "더미 변수화"
      ]
    },
    {
      "cell_type": "code",
      "execution_count": null,
      "id": "5a289835-ec25-439e-b7b2-b183870f0610",
      "metadata": {
        "id": "5a289835-ec25-439e-b7b2-b183870f0610",
        "outputId": "9a5378e9-485a-4d03-baa4-04232490dbe3"
      },
      "outputs": [
        {
          "name": "stdout",
          "output_type": "stream",
          "text": [
            "   pet      개    고양이      새\n",
            "0  고양이  False   True  False\n",
            "1    개   True  False  False\n",
            "2    새  False  False   True\n",
            "3  고양이  False   True  False\n",
            "4    개   True  False  False\n"
          ]
        }
      ],
      "source": [
        "import pandas as pd\n",
        "\n",
        "# 범주형 데이터 예시\n",
        "data = {'pet': ['고양이', '개', '새', '고양이', '개']}\n",
        "df = pd.DataFrame(data)\n",
        "\n",
        "# 더미 변수화 (원-핫 인코딩)\n",
        "dummy_variables = pd.get_dummies(df['pet'])\n",
        "\n",
        "# 원본 데이터프레임과 더미 변수를 합치기\n",
        "df_encoded = pd.concat([df, dummy_variables], axis=1)\n",
        "print(df_encoded)"
      ]
    },
    {
      "cell_type": "markdown",
      "source": [
        "### Data Quality Assessment and Model Performance Evaluation"
      ],
      "metadata": {
        "id": "UkVDPHf7apus"
      },
      "id": "UkVDPHf7apus"
    },
    {
      "cell_type": "markdown",
      "source": [
        "데이터 무결성"
      ],
      "metadata": {
        "id": "7IohqUe8Y-66"
      },
      "id": "7IohqUe8Y-66"
    },
    {
      "cell_type": "code",
      "execution_count": 1,
      "id": "f2b01297-8d04-4cd2-b445-dac0a9880cd9",
      "metadata": {
        "colab": {
          "base_uri": "https://localhost:8080/"
        },
        "id": "f2b01297-8d04-4cd2-b445-dac0a9880cd9",
        "outputId": "056bc7ba-c19f-43c9-8938-3dee8c9e74df"
      },
      "outputs": [
        {
          "output_type": "stream",
          "name": "stdout",
          "text": [
            "결측치 확인:\n",
            " 고객명    1\n",
            "생년     0\n",
            "이메일    0\n",
            "dtype: int64\n",
            "생년 유효성 확인:\n",
            "     고객명    생년            이메일\n",
            "2  None  1890  kim@naver.com\n",
            "이메일 유효성 확인:\n",
            "    고객명    생년           이메일\n",
            "1  김철수  2020  not-an-email\n"
          ]
        }
      ],
      "source": [
        "import pandas as pd\n",
        "\n",
        "# 예시 데이터프레임\n",
        "df = pd.DataFrame({\n",
        "    '고객명': ['홍길동', '김철수', None],\n",
        "    '생년': [1985, 2020, 1890],\n",
        "    '이메일': ['hong@gmail.com', 'not-an-email', 'kim@naver.com']\n",
        "})\n",
        "\n",
        "# 평가 예시\n",
        "print(\"결측치 확인:\\n\", df.isnull().sum())\n",
        "print(\"생년 유효성 확인:\\n\", df[(df['생년'] < 1900) | (df['생년'] > 2024)])\n",
        "print(\"이메일 유효성 확인:\\n\", df[~df['이메일'].str.contains('@')])"
      ]
    },
    {
      "cell_type": "markdown",
      "source": [
        "Metric Evaluation"
      ],
      "metadata": {
        "id": "sGecpHlOZGHi"
      },
      "id": "sGecpHlOZGHi"
    },
    {
      "cell_type": "code",
      "execution_count": 4,
      "id": "c2de0935-7255-4889-bd2e-096130da2697",
      "metadata": {
        "colab": {
          "base_uri": "https://localhost:8080/",
          "height": 565
        },
        "id": "c2de0935-7255-4889-bd2e-096130da2697",
        "outputId": "44fba73a-6143-4e8a-9eae-d237d94973a4"
      },
      "outputs": [
        {
          "output_type": "stream",
          "name": "stdout",
          "text": [
            "Accuracy: 0.811704834605598\n",
            "Precision: 0.7744360902255639\n",
            "Recall: 0.7006802721088435\n",
            "F1 Score: 0.7357142857142858\n",
            "ROC AUC Score: 0.8635999115093191\n"
          ]
        },
        {
          "output_type": "display_data",
          "data": {
            "text/plain": [
              "<Figure size 640x480 with 1 Axes>"
            ],
            "image/png": "[encoded data removed]"
          },
          "metadata": {}
        }
      ],
      "source": [
        "import pandas as pd\n",
        "import numpy as np\n",
        "import matplotlib.pyplot as plt\n",
        "import seaborn as sns\n",
        "\n",
        "df_train = pd.read_csv(\"datasets/titanic_train.csv\")\n",
        "df_test = pd.read_csv(\"datasets/titanic_test.csv\")\n",
        "df_train.head(5)\n",
        "\n",
        "from sklearn.preprocessing import OneHotEncoder, StandardScaler\n",
        "from sklearn.compose import ColumnTransformer\n",
        "from sklearn.pipeline import Pipeline\n",
        "from sklearn.impute import SimpleImputer\n",
        "\n",
        "# 특성과 타깃 분리\n",
        "X_train = df_train.drop(columns=['survived'])\n",
        "y_train = df_train['survived']\n",
        "X_test = df_test.drop(columns=['survived'])\n",
        "y_test = df_test['survived']\n",
        "\n",
        "# 문자열 데이터를 원-핫 인코딩하기 위한 열 선택\n",
        "categorical_features = X_train.select_dtypes(include=['object']).columns\n",
        "numeric_features = X_train.select_dtypes(exclude=['object']).columns\n",
        "\n",
        "# 전처리 파이프라인 생성\n",
        "preprocessor = ColumnTransformer(\n",
        "    transformers=[\n",
        "        ('num', Pipeline([\n",
        "            ('imputer', SimpleImputer(strategy='mean')),\n",
        "            ('scaler', StandardScaler())\n",
        "        ]), numeric_features),\n",
        "        ('cat', Pipeline([\n",
        "            ('imputer', SimpleImputer(strategy='constant', fill_value='missing')),\n",
        "            ('onehot', OneHotEncoder(handle_unknown='ignore'))\n",
        "        ]), categorical_features)\n",
        "    ])\n",
        "# Logistic Regression 분류 모델링\n",
        "\n",
        "from sklearn.linear_model import LogisticRegression\n",
        "from sklearn.linear_model import LogisticRegression\n",
        "from sklearn.metrics import accuracy_score, precision_score, recall_score, f1_score, roc_curve, roc_auc_score\n",
        "import matplotlib.pyplot as plt\n",
        "\n",
        "\n",
        "# 로지스틱 회귀 모델을 포함한 파이프라인 생성\n",
        "lr = Pipeline(steps=[\n",
        "    ('preprocessor', preprocessor),\n",
        "    ('classifier', LogisticRegression(random_state=0))\n",
        "])\n",
        "\n",
        "# 모델 학습\n",
        "lr.fit(X_train, y_train)\n",
        "\n",
        "# 테스트 데이터셋에 대한 예측\n",
        "y_pred = lr.predict(X_test)\n",
        "y_pred_probability = lr.predict_proba(X_test)[:, 1]\n",
        "\n",
        "# 평가 지표 출력\n",
        "print(f'Accuracy: {accuracy_score(y_test, y_pred)}')\n",
        "print(f'Precision: {precision_score(y_test, y_pred)}')\n",
        "print(f'Recall: {recall_score(y_test, y_pred)}')\n",
        "print(f'F1 Score: {f1_score(y_test, y_pred)}')\n",
        "print(f'ROC AUC Score: {roc_auc_score(y_test, y_pred_probability)}')\n",
        "\n",
        "fpr, tpr, thresholds = roc_curve(y_test, y_pred_probability)\n",
        "plt.plot(fpr, tpr, label='Logistic Regression')\n",
        "plt.xlabel('False Positive Rate')\n",
        "plt.ylabel('True Positive Rate')\n",
        "plt.title('ROC Curve')\n",
        "plt.legend()\n",
        "plt.show()"
      ]
    },
    {
      "cell_type": "code",
      "source": [
        "from sklearn.metrics import confusion_matrix\n",
        "\n",
        "# Confusion Matrix를 출력합니다.\n",
        "confmat = confusion_matrix(y_true=y_test, y_pred=y_pred)\n",
        "print(confmat)"
      ],
      "metadata": {
        "colab": {
          "base_uri": "https://localhost:8080/"
        },
        "id": "o6BoCgg5Z0YS",
        "outputId": "1d01e06f-698e-4f83-df58-8676e5cfe995"
      },
      "id": "o6BoCgg5Z0YS",
      "execution_count": 5,
      "outputs": [
        {
          "output_type": "stream",
          "name": "stdout",
          "text": [
            "[[216  30]\n",
            " [ 44 103]]\n"
          ]
        }
      ]
    }
  ],
  "metadata": {
    "kernelspec": {
      "display_name": "py3_10_basic",
      "language": "python",
      "name": "py3_10_basic"
    },
    "language_info": {
      "codemirror_mode": {
        "name": "ipython",
        "version": 3
      },
      "file_extension": ".py",
      "mimetype": "text/x-python",
      "name": "python",
      "nbconvert_exporter": "python",
      "pygments_lexer": "ipython3",
      "version": "3.10.11"
    },
    "colab": {
      "provenance": []
    }
  },
  "nbformat": 4,
  "nbformat_minor": 5
}