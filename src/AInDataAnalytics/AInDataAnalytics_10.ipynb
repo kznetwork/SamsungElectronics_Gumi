{
  "cells": [
    {
      "cell_type": "markdown",
      "source": [
        "# 『1과목 : 』 AI기반 데이터 분석"
      ],
      "metadata": {
        "id": "27XLRmYAPxEj"
      },
      "id": "27XLRmYAPxEj"
    },
    {
      "cell_type": "markdown",
      "source": [
        "## 『1-10』머신러닝 기반 데이터 분석-비지도"
      ],
      "metadata": {
        "id": "t0KdVr0JPyeD"
      },
      "id": "t0KdVr0JPyeD"
    },
    {
      "cell_type": "markdown",
      "id": "f19f5262-95e3-42b9-ae3a-11c70ba37f05",
      "metadata": {
        "id": "f19f5262-95e3-42b9-ae3a-11c70ba37f05"
      },
      "source": [
        "### Setting up"
      ]
    },
    {
      "cell_type": "code",
      "execution_count": null,
      "id": "5d1c68d9-68d0-4e24-98b2-2b6c8d662c2d",
      "metadata": {
        "id": "5d1c68d9-68d0-4e24-98b2-2b6c8d662c2d"
      },
      "outputs": [],
      "source": [
        "import matplotlib.pyplot as plt\n",
        "import matplotlib\n",
        "matplotlib.rcParams['font.family'] = 'Malgun Gothic' # Windows\n",
        "# matplotlib.rcParams['font.family'] = 'AppleGothic' # Mac\n",
        "matplotlib.rcParams['font.size'] = 15 # 글자 크기\n",
        "matplotlib.rcParams['axes.unicode_minus'] = False # 한글 폰트 사용 시, 마이너스 글자가 깨지는 현상을 해결"
      ]
    },
    {
      "cell_type": "markdown",
      "id": "b35354fe-13a8-422a-9b06-9efa6e5f1c4b",
      "metadata": {
        "id": "b35354fe-13a8-422a-9b06-9efa6e5f1c4b"
      },
      "source": [
        "### 클러스터링(군집)"
      ]
    },
    {
      "cell_type": "markdown",
      "id": "d22a7f2c-9569-402c-a5b8-4ad9be545807",
      "metadata": {
        "id": "d22a7f2c-9569-402c-a5b8-4ad9be545807"
      },
      "source": [
        "군집화 성능기준"
      ]
    },
    {
      "cell_type": "code",
      "execution_count": null,
      "id": "f4ea21f9-8b86-4e9a-a6bf-2360617bd889",
      "metadata": {
        "id": "f4ea21f9-8b86-4e9a-a6bf-2360617bd889",
        "outputId": "45194a8d-6566-4561-e388-78f4e3b4e07a"
      },
      "outputs": [
        {
          "data": {
            "text/plain": [
              "array([[1, 1, 1, 0, 0],\n",
              "       [1, 1, 1, 0, 0],\n",
              "       [1, 1, 1, 0, 0],\n",
              "       [0, 0, 0, 1, 1],\n",
              "       [0, 0, 0, 1, 1]])"
            ]
          },
          "execution_count": 24,
          "metadata": {},
          "output_type": "execute_result"
        }
      ],
      "source": [
        "import numpy as np\n",
        "\n",
        "groundtruth = np.array([\n",
        "    [1, 1, 1, 0, 0],\n",
        "    [1, 1, 1, 0, 0],\n",
        "    [1, 1, 1, 0, 0],\n",
        "    [0, 0, 0, 1, 1],\n",
        "    [0, 0, 0, 1, 1],\n",
        "])\n",
        "groundtruth"
      ]
    },
    {
      "cell_type": "code",
      "execution_count": null,
      "id": "e166ff50-76fc-4eef-b49f-89f0551edf1a",
      "metadata": {
        "id": "e166ff50-76fc-4eef-b49f-89f0551edf1a",
        "outputId": "15e8aed8-b4f3-4acf-fc4b-3eccede7c669"
      },
      "outputs": [
        {
          "data": {
            "text/plain": [
              "array([[1, 1, 0, 0, 0],\n",
              "       [1, 1, 0, 0, 0],\n",
              "       [0, 0, 1, 1, 1],\n",
              "       [0, 0, 1, 1, 1],\n",
              "       [0, 0, 1, 1, 1]])"
            ]
          },
          "execution_count": 25,
          "metadata": {},
          "output_type": "execute_result"
        }
      ],
      "source": [
        "import numpy as np\n",
        "\n",
        "clustering = np.array([\n",
        "    [1, 1, 0, 0, 0],\n",
        "    [1, 1, 0, 0, 0],\n",
        "    [0, 0, 1, 1, 1],\n",
        "    [0, 0, 1, 1, 1],\n",
        "    [0, 0, 1, 1, 1],\n",
        "])\n",
        "clustering\n"
      ]
    },
    {
      "cell_type": "code",
      "execution_count": null,
      "id": "98a52433-4b91-4572-b390-81dd7a2bc34e",
      "metadata": {
        "id": "98a52433-4b91-4572-b390-81dd7a2bc34e",
        "outputId": "3d534bd6-86ce-4b62-9384-592b3fcfe616"
      },
      "outputs": [
        {
          "data": {
            "text/plain": [
              "array([[1, 1, 0, 1, 1],\n",
              "       [1, 1, 0, 1, 1],\n",
              "       [0, 0, 1, 0, 0],\n",
              "       [1, 1, 0, 1, 1],\n",
              "       [1, 1, 0, 1, 1]])"
            ]
          },
          "execution_count": 26,
          "metadata": {},
          "output_type": "execute_result"
        }
      ],
      "source": [
        "incidence = 1 * (groundtruth == clustering)  # 1*는 True/False를 숫자 0/1로 바꾸기 위한 계산\n",
        "incidence"
      ]
    },
    {
      "cell_type": "code",
      "execution_count": null,
      "id": "64892d6c-d7ec-4347-9882-6c7f56e17725",
      "metadata": {
        "id": "64892d6c-d7ec-4347-9882-6c7f56e17725",
        "outputId": "f16c0ca3-0c17-4c42-c748-353cf81d95a6"
      },
      "outputs": [
        {
          "data": {
            "text/plain": [
              "np.float64(6.0)"
            ]
          },
          "execution_count": 27,
          "metadata": {},
          "output_type": "execute_result"
        }
      ],
      "source": [
        "np.fill_diagonal(incidence, 0) # 대각성분 제외\n",
        "a_plus_b = np.sum(incidence) / 2 # 대칭행렬이므로 절반만 센다.\n",
        "a_plus_b"
      ]
    },
    {
      "cell_type": "code",
      "execution_count": null,
      "id": "3fca3571-b3ae-4677-b371-2622274fad8e",
      "metadata": {
        "id": "3fca3571-b3ae-4677-b371-2622274fad8e",
        "outputId": "6f08a199-76b2-4ee2-c4eb-bbdd0b354eb0"
      },
      "outputs": [
        {
          "data": {
            "text/plain": [
              "np.float64(0.6)"
            ]
          },
          "execution_count": 28,
          "metadata": {},
          "output_type": "execute_result"
        }
      ],
      "source": [
        "from scipy.special import comb\n",
        "rand_index = a_plus_b / comb(incidence.shape[0], 2)\n",
        "rand_index"
      ]
    }
  ],
  "metadata": {
    "kernelspec": {
      "display_name": "py3_10_tf",
      "language": "python",
      "name": "py3_10_tf"
    },
    "language_info": {
      "codemirror_mode": {
        "name": "ipython",
        "version": 3
      },
      "file_extension": ".py",
      "mimetype": "text/x-python",
      "name": "python",
      "nbconvert_exporter": "python",
      "pygments_lexer": "ipython3",
      "version": "3.10.11"
    },
    "colab": {
      "provenance": []
    }
  },
  "nbformat": 4,
  "nbformat_minor": 5
}