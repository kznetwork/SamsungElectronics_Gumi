{
 "cells": [
  {
   "cell_type": "code",
   "execution_count": 1,
   "id": "ca1e6de3-861f-4f6e-a7ea-24a99f2686b0",
   "metadata": {},
   "outputs": [
    {
     "name": "stdout",
     "output_type": "stream",
     "text": [
      "안녕하세요! 주피터 노트북이예요!\n",
      "내 이름은 승귤입니다.\n",
      "1\n",
      "2\n",
      "3\n",
      "4\n",
      "5\n"
     ]
    }
   ],
   "source": [
    "# hello\n",
    "print(\"안녕하세요! 주피터 노트북이예요!\")\n",
    "\n",
    "# 변수 사용\n",
    "name = \"승귤\"\n",
    "print(f\"내 이름은 {name}입니다.\")\n",
    "\n",
    "# for loop \n",
    "nums = [1,2,3,4,5]\n",
    "for num in nums:\n",
    "    print(num)"
   ]
  }
 ],
 "metadata": {
  "kernelspec": {
   "display_name": "Python 3 (ipykernel)",
   "language": "python",
   "name": "python3"
  },
  "language_info": {
   "codemirror_mode": {
    "name": "ipython",
    "version": 3
   },
   "file_extension": ".py",
   "mimetype": "text/x-python",
   "name": "python",
   "nbconvert_exporter": "python",
   "pygments_lexer": "ipython3",
   "version": "3.12.8"
  }
 },
 "nbformat": 4,
 "nbformat_minor": 5
}
