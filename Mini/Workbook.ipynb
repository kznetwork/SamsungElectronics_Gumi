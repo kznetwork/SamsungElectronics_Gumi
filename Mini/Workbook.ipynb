{
 "cells": [
  {
   "cell_type": "markdown",
   "id": "e63a37df-24c9-418e-bfa4-dd7d917c06d7",
   "metadata": {},
   "source": [
    "# 워크-북"
   ]
  },
  {
   "cell_type": "markdown",
   "id": "392b1daf-0900-4a1d-8e6e-44578e946cbd",
   "metadata": {},
   "source": [
    "## Set Up"
   ]
  },
  {
   "cell_type": "code",
   "execution_count": 1,
   "id": "45d1d9b2-ec63-4c0d-ad40-96e212637461",
   "metadata": {},
   "outputs": [
    {
     "name": "stderr",
     "output_type": "stream",
     "text": [
      "2024-10-16 15:02:12.707027: I tensorflow/core/platform/cpu_feature_guard.cc:210] This TensorFlow binary is optimized to use available CPU instructions in performance-critical operations.\n",
      "To enable the following instructions: SSE4.1 SSE4.2 AVX AVX2, in other operations, rebuild TensorFlow with the appropriate compiler flags.\n"
     ]
    },
    {
     "name": "stdout",
     "output_type": "stream",
     "text": [
      "True\n"
     ]
    }
   ],
   "source": [
    "import tensorflow as tf\n",
    "\n",
    "print(tf.executing_eagerly())"
   ]
  },
  {
   "cell_type": "markdown",
   "id": "8552bfce-83d2-43ba-aa46-9de9b3169f81",
   "metadata": {},
   "source": [
    "tf.config.run_functions_eagerly(True)"
   ]
  },
  {
   "cell_type": "code",
   "execution_count": 2,
   "id": "18f3a0ad-0d8c-4a7e-8e87-f021d6a5939f",
   "metadata": {},
   "outputs": [],
   "source": [
    "import matplotlib.pyplot as plt\n",
    "import matplotlib\n",
    "matplotlib.rcParams['font.family'] = 'Malgun Gothic' # Windows\n",
    "# matplotlib.rcParams['font.family'] = 'AppleGothic' # Mac\n",
    "matplotlib.rcParams['font.size'] = 15 # 글자 크기\n",
    "matplotlib.rcParams['axes.unicode_minus'] = False # 한글 폰트 사용 시, 마이너스 글자가 깨지는 현상을 해결"
   ]
  },
  {
   "cell_type": "code",
   "execution_count": 3,
   "id": "796f5fdc-de25-449f-ae54-83a73271b3d1",
   "metadata": {},
   "outputs": [
    {
     "name": "stdout",
     "output_type": "stream",
     "text": [
      "No LSB modules are available.\n",
      "Distributor ID:\tUbuntu\n",
      "Description:\tUbuntu 22.04.5 LTS\n",
      "Release:\t22.04\n",
      "Codename:\tjammy\n"
     ]
    }
   ],
   "source": [
    "!lsb_release -a"
   ]
  },
  {
   "cell_type": "code",
   "execution_count": 4,
   "id": "bc250fdb-84d7-4c76-8607-81ccf9231391",
   "metadata": {},
   "outputs": [
    {
     "name": "stdout",
     "output_type": "stream",
     "text": [
      "2.17.0\n",
      "3.5.0\n",
      "1.26.4\n",
      "2.1.4\n",
      "3.10.12\n"
     ]
    }
   ],
   "source": [
    "import numpy as np\n",
    "import tensorflow as tf\n",
    "import keras\n",
    "import pandas as pd\n",
    "from platform import python_version\n",
    "\n",
    "# this prints the library version\n",
    "print(tf.__version__)\n",
    "print(keras.__version__)\n",
    "print(np.__version__)\n",
    "print(pd.__version__)\n",
    "\n",
    "# this prints the python version\n",
    "print(python_version())"
   ]
  },
  {
   "cell_type": "markdown",
   "id": "43d20dbc-56c5-4b1e-bbe8-5eca06665359",
   "metadata": {},
   "source": [
    "pip show openai"
   ]
  },
  {
   "cell_type": "markdown",
   "id": "47edc5d5-941b-42d4-b795-f2dbd442c1b8",
   "metadata": {},
   "source": [
    "pip show langchain"
   ]
  },
  {
   "cell_type": "code",
   "execution_count": 21,
   "id": "f8586393-6e48-4a44-8f41-96a48fdf37aa",
   "metadata": {},
   "outputs": [],
   "source": [
    "# 환경변수 준비\n",
    "# import os\n",
    "# os.environ[\"OPENAI_API_KEY\"] = \"<OpenAI_API의 API 키>\"\n",
    "\n",
    "import os\n",
    "import openai\n",
    "\n",
    "# os.environ[\"OPENAI_API_KEY\"]"
   ]
  },
  {
   "cell_type": "code",
   "execution_count": 6,
   "id": "d7886278-8cb7-429b-ac44-59683aeccbef",
   "metadata": {},
   "outputs": [
    {
     "data": {
      "text/plain": [
       "True"
      ]
     },
     "execution_count": 6,
     "metadata": {},
     "output_type": "execute_result"
    }
   ],
   "source": [
    "from dotenv import load_dotenv\n",
    "\n",
    "load_dotenv()"
   ]
  },
  {
   "cell_type": "code",
   "execution_count": 7,
   "id": "d129c61d-307f-4ffd-bfce-2ab35cf718de",
   "metadata": {},
   "outputs": [],
   "source": [
    "from langsmith import Client\n",
    "\n",
    "client = Client()"
   ]
  },
  {
   "cell_type": "markdown",
   "id": "87e6c4fd-66bd-4c95-8261-204d9d9b4012",
   "metadata": {},
   "source": [
    "## 『1』 랭체인 실습"
   ]
  },
  {
   "cell_type": "markdown",
   "id": "b262d266-b019-4d64-bc79-bd52c1ddce2b",
   "metadata": {},
   "source": [
    "### 간단한 텍스트 생성 체인 만들기"
   ]
  },
  {
   "cell_type": "code",
   "execution_count": 11,
   "id": "c21a88d3-1bca-4b16-8cd2-b0fd79ff8176",
   "metadata": {},
   "outputs": [],
   "source": [
    "from langchain_core.prompts import ChatPromptTemplate\n",
    "from langchain_core.output_parsers import StrOutputParser\n",
    "from langchain_openai import ChatOpenAI"
   ]
  },
  {
   "cell_type": "code",
   "execution_count": 12,
   "id": "25639181-b20d-4c20-8952-e4d414900895",
   "metadata": {},
   "outputs": [],
   "source": [
    "prompt_template = ChatPromptTemplate.from_template(\"tell me a short joke about {topic}\")\n",
    "\n",
    "chain = prompt_template | ChatOpenAI() | StrOutputParser()"
   ]
  },
  {
   "cell_type": "code",
   "execution_count": 13,
   "id": "02a200cd-eb90-4fcd-8b41-e3690a338141",
   "metadata": {},
   "outputs": [
    {
     "name": "stdout",
     "output_type": "stream",
     "text": [
      "Why was the cat sitting on the computer?\n",
      "\n",
      "Because it wanted to keep an eye on the mouse!\n"
     ]
    }
   ],
   "source": [
    "result = chain.invoke({'topic': 'cat'})\n",
    "\n",
    "print(result)"
   ]
  },
  {
   "cell_type": "markdown",
   "id": "d8bdda4c-d024-479f-9768-ab3d4b49d4fd",
   "metadata": {},
   "source": [
    "### 텍스트 감성 분류 체인 만들기"
   ]
  },
  {
   "cell_type": "code",
   "execution_count": 15,
   "id": "d64a9352-2969-4307-bd51-11410a0c0d9a",
   "metadata": {},
   "outputs": [],
   "source": [
    "from langchain_core.prompts import ChatPromptTemplate\n",
    "from langchain.output_parsers.enum import EnumOutputParser\n",
    "from langchain_openai import ChatOpenAI\n",
    "from enum import Enum"
   ]
  },
  {
   "cell_type": "code",
   "execution_count": 16,
   "id": "de55cbea-c159-4836-8f40-7358b75ede81",
   "metadata": {},
   "outputs": [],
   "source": [
    "class Sentiment(Enum):\n",
    "    POSITIVE = 'positive'\n",
    "    NEGATIVE = 'negative'"
   ]
  },
  {
   "cell_type": "code",
   "execution_count": 17,
   "id": "b15b6496-9841-4821-9e5d-dd4c0db6413a",
   "metadata": {},
   "outputs": [],
   "source": [
    "prompt_template = ChatPromptTemplate.from_template(\"Classify '{input_text}' as 'positive' or 'negative' only.\")"
   ]
  },
  {
   "cell_type": "code",
   "execution_count": 18,
   "id": "9f2e5875-728d-4c97-a6d1-820b54cc2fbb",
   "metadata": {},
   "outputs": [],
   "source": [
    "chain = prompt_template | ChatOpenAI() | EnumOutputParser(enum=Sentiment)"
   ]
  },
  {
   "cell_type": "code",
   "execution_count": 19,
   "id": "c4b31ff7-eae6-40d1-b6d7-060113bdb3a6",
   "metadata": {},
   "outputs": [
    {
     "name": "stdout",
     "output_type": "stream",
     "text": [
      "Sentiment.POSITIVE\n",
      "Sentiment.NEGATIVE\n"
     ]
    }
   ],
   "source": [
    "result = chain.invoke({'input_text':'I love LLM.'})\n",
    "print(result) \n",
    "\n",
    "result = chain.invoke({'input_text':'I hate LLM.'})\n",
    "print(result)  "
   ]
  },
  {
   "cell_type": "code",
   "execution_count": 20,
   "id": "505c1719-6059-4c85-bc1c-83e8a93b8809",
   "metadata": {},
   "outputs": [
    {
     "name": "stdout",
     "output_type": "stream",
     "text": [
      "Sentiment.POSITIVE\n",
      "Sentiment.NEGATIVE\n"
     ]
    }
   ],
   "source": [
    "result = chain.invoke({'input_text':'I love and hate LLM.'})\n",
    "print(result) \n",
    "\n",
    "result = chain.invoke({'input_text':'I hate and love LLM.'})\n",
    "print(result)  "
   ]
  },
  {
   "cell_type": "markdown",
   "id": "f9c496eb-ec75-40f5-919d-922b5f3422ad",
   "metadata": {},
   "source": [
    "### 간단한 챗봇 만들기"
   ]
  },
  {
   "cell_type": "code",
   "execution_count": 21,
   "id": "64aee1a5-7091-42f0-9655-d0d68ba8af23",
   "metadata": {},
   "outputs": [],
   "source": [
    "from langchain_core.runnables import RunnablePassthrough\n",
    "from langchain_core.prompts import ChatPromptTemplate\n",
    "from langchain_core.output_parsers import StrOutputParser\n",
    "from langchain_openai import ChatOpenAI"
   ]
  },
  {
   "cell_type": "code",
   "execution_count": 22,
   "id": "3e98fd3c-63e9-4687-adb2-9112a6211d8c",
   "metadata": {},
   "outputs": [],
   "source": [
    "prompt_template = ChatPromptTemplate.from_messages([\n",
    "    (\"system\", \"Talk like a close friend and use emojis 😊\"),\n",
    "    (\"human\", \"{user_input}\")]\n",
    ")\n",
    "\n",
    "chain = {\"user_input\": RunnablePassthrough()} | prompt_template | ChatOpenAI() | StrOutputParser()"
   ]
  },
  {
   "cell_type": "code",
   "execution_count": 23,
   "id": "4480dc1a-89d2-4fe8-8550-764a708c1830",
   "metadata": {},
   "outputs": [
    {
     "name": "stdin",
     "output_type": "stream",
     "text": [
      "USER >  안녕하세요?\n"
     ]
    },
    {
     "name": "stdout",
     "output_type": "stream",
     "text": [
      " A I > 안녕~ 어떻게 지내? 😊 오랜만이야~ 뭐 해?\n"
     ]
    },
    {
     "name": "stdin",
     "output_type": "stream",
     "text": [
      "USER >  quit\n"
     ]
    }
   ],
   "source": [
    "while True:\n",
    "    user_message = input(\"USER > \")\n",
    "    if user_message.lower() == \"quit\":\n",
    "        break\n",
    "        \n",
    "    print(\" A I > \", end=\"\", flush=True)\n",
    "    for chunk in chain.stream(user_message):\n",
    "        print(chunk, end=\"\", flush=True)\n",
    "        \n",
    "    print()"
   ]
  },
  {
   "cell_type": "markdown",
   "id": "b9fa84e5-aabf-490c-8678-243b18c7d5ce",
   "metadata": {},
   "source": [
    "### 수학 연산 체인 구현하기"
   ]
  },
  {
   "cell_type": "markdown",
   "id": "fafc990b-d044-4e60-a548-44eb87060a95",
   "metadata": {},
   "source": [
    "pip install numexpr"
   ]
  },
  {
   "cell_type": "code",
   "execution_count": 1,
   "id": "5e237fb0-2f0c-4645-af43-2faa58a30ca7",
   "metadata": {},
   "outputs": [],
   "source": [
    "from langchain_core.prompts import ChatPromptTemplate\n",
    "from langchain_core.output_parsers import StrOutputParser\n",
    "from langchain_openai import ChatOpenAI\n",
    "import numexpr"
   ]
  },
  {
   "cell_type": "code",
   "execution_count": 2,
   "id": "0c372a35-3022-4bed-81f2-960a0e05282c",
   "metadata": {},
   "outputs": [],
   "source": [
    "prompt_template = ChatPromptTemplate.from_template(\n",
    "    \"For {query}, write only the mathematical expression suitable for numexpr.evaluate().\"\n",
    ")"
   ]
  },
  {
   "cell_type": "code",
   "execution_count": 3,
   "id": "9c4da895-d05e-4121-b50c-62ded4a2a80f",
   "metadata": {},
   "outputs": [],
   "source": [
    "chain = prompt_template | ChatOpenAI() | StrOutputParser() | numexpr.evaluate"
   ]
  },
  {
   "cell_type": "code",
   "execution_count": 6,
   "id": "0b19fe60-395d-465a-947f-b5c9b3175e53",
   "metadata": {},
   "outputs": [
    {
     "name": "stdout",
     "output_type": "stream",
     "text": [
      "9\n"
     ]
    }
   ],
   "source": [
    "result = chain.invoke({'query': '4와 5를 더해줘.'})\n",
    "print(result)"
   ]
  },
  {
   "cell_type": "markdown",
   "id": "915df925-deba-40cb-952a-847ada9043c3",
   "metadata": {},
   "source": [
    "### PythonREPL을 활용한 동적 코드 실행 챗봇 구현"
   ]
  },
  {
   "cell_type": "code",
   "execution_count": 7,
   "id": "11da63fd-d08f-401b-b73c-f22d561c303d",
   "metadata": {},
   "outputs": [],
   "source": [
    "from langchain_core.prompts import ChatPromptTemplate\n",
    "from langchain_openai import ChatOpenAI\n",
    "from langchain_core.output_parsers import StrOutputParser\n",
    "from langchain_experimental.utilities import PythonREPL\n",
    "from langchain_core.runnables import RunnablePassthrough"
   ]
  },
  {
   "cell_type": "code",
   "execution_count": 8,
   "id": "fcadfd5c-352c-4f63-814f-a72dc84c509b",
   "metadata": {},
   "outputs": [],
   "source": [
    "template = \"\"\"\n",
    "사용자의 문제를 해결하기 위해 파이썬 코드를 작성합니다.\n",
    "사용자에게 확인이나 추가 정보를 다시 묻지 마세요.\n",
    "직접 실행할 수 있는 파이썬 코드만 반환하세요.\n",
    "\"\"\"\n",
    "\n",
    "prompt_template = ChatPromptTemplate.from_messages(\n",
    "    [(\"system\", template),\n",
    "     (\"human\", \"{user_input}\")]\n",
    ")"
   ]
  },
  {
   "cell_type": "code",
   "execution_count": 18,
   "id": "c9f94ae8-b052-4ed9-a394-7130d4478539",
   "metadata": {},
   "outputs": [],
   "source": [
    "chain = {\"user_input\": RunnablePassthrough()} | prompt_template | ChatOpenAI() | StrOutputParser() | PythonREPL().run"
   ]
  },
  {
   "cell_type": "code",
   "execution_count": 19,
   "id": "c9e7279a-795f-4384-a5f0-2c3cf948f900",
   "metadata": {},
   "outputs": [],
   "source": [
    "def chat_with_user(user_message):\n",
    "    max_attempts = 3\n",
    "    attempts = 0\n",
    "    while attempts < max_attempts:\n",
    "        try:\n",
    "            ai_message = chain.invoke(user_message)\n",
    "            if \"error\" in ai_message.lower() or \"failed\" in ai_message.lower():\n",
    "                raise Exception(f\"Detected error in AI message: {ai_message}\")\n",
    "            return ai_message\n",
    "        except Exception as e:\n",
    "            attempts += 1\n",
    "            print(f\"Attempt {attempts}: Error - {e}\")\n",
    "            if attempts == max_attempts:\n",
    "                return \"Sorry, I am unable to process your request at the moment.\""
   ]
  },
  {
   "cell_type": "code",
   "execution_count": 20,
   "id": "4835d532-a6db-430f-96f6-7ce25179557d",
   "metadata": {},
   "outputs": [
    {
     "name": "stdin",
     "output_type": "stream",
     "text": [
      "USER >  안녕!\n"
     ]
    },
    {
     "name": "stderr",
     "output_type": "stream",
     "text": [
      "Python REPL can execute arbitrary code. Use with caution.\n"
     ]
    },
    {
     "name": "stdout",
     "output_type": "stream",
     "text": [
      "Attempt 1: Error - Detected error in AI message: SyntaxError('invalid syntax', ('<string>', 1, 6, '안녕하세요! 무엇을 도와드릴까요?\\n', 1, 7))\n",
      "Attempt 2: Error - Detected error in AI message: SyntaxError('invalid syntax', ('<string>', 1, 6, '안녕하세요! 무엇을 도와드릴까요?\\n', 1, 7))\n",
      "Attempt 3: Error - Detected error in AI message: SyntaxError('invalid syntax', ('<string>', 1, 6, '안녕하세요! 무엇을 도와드릴까요?\\n', 1, 7))\n",
      " A I > Sorry, I am unable to process your request at the moment.\n"
     ]
    },
    {
     "name": "stdin",
     "output_type": "stream",
     "text": [
      "USER >  한글날을 알려 줘\n"
     ]
    },
    {
     "name": "stdout",
     "output_type": "stream",
     "text": [
      " A I > 한글날은 10월 9일입니다.\n",
      "\n"
     ]
    },
    {
     "name": "stdin",
     "output_type": "stream",
     "text": [
      "USER >  quit\n"
     ]
    }
   ],
   "source": [
    "while True:\n",
    "    user_message = input(\"USER > \")\n",
    "    if user_message.lower() == \"quit\":\n",
    "        break\n",
    "    ai_message = chat_with_user(user_message)\n",
    "    print(f\" A I > {ai_message}\")"
   ]
  },
  {
   "cell_type": "markdown",
   "id": "eccd0164-aef0-4485-9eaf-e54620022919",
   "metadata": {},
   "source": [
    "### RAG 체인 구성-PDF 문서 기반 QA챗봇 구현"
   ]
  },
  {
   "cell_type": "code",
   "execution_count": 23,
   "id": "4ac9d7f0-68b1-402f-9a70-fbe0973e2f2f",
   "metadata": {},
   "outputs": [],
   "source": [
    "import os\n",
    "from langchain.document_loaders import PyPDFLoader\n",
    "from langchain.text_splitter import CharacterTextSplitter\n",
    "from langchain_openai import OpenAIEmbeddings\n",
    "from langchain_chroma import Chroma\n",
    "\n",
    "# PDF 파일이 저장된 폴더 경로를 설정합니다.\n",
    "folder_path = './datasets/pdfs/'  \n",
    "\n",
    "# 텍스트를 저장할 리스트를 초기화합니다.\n",
    "texts = []\n",
    "\n",
    "# 텍스트를 분할할 때 사용할 CharacterTextSplitter 객체를 생성합니다.\n",
    "text_splitter = CharacterTextSplitter(\n",
    "    separator = \"\\n\", # 텍스트를 분할할 때 사용할 구분자\n",
    "    chunk_size = 1000, # 각 분할된 텍스트의 최대 길이\n",
    "    chunk_overlap = 50) # 분할된 텍스트 간의 중첩 길이\n",
    "\n",
    "# 지정된 폴더 내의 모든 파일을 순회합니다.\n",
    "for filename in os.listdir(folder_path):\n",
    "    # 파일이 PDF 형식인 경우에만 처리합니다.\n",
    "    if filename.endswith(\".pdf\"): \n",
    "        # PDF 파일을 로드하여 raw_documents에 저장합니다.\n",
    "        raw_documents = PyPDFLoader(folder_path + '/' + filename).load()\n",
    "        # 로드된 문서를 분할하여 documents에 저장합니다.\n",
    "        documents = text_splitter.split_documents(raw_documents)\n",
    "        # 분할된 문서를 texts 리스트에 추가합니다.\n",
    "        texts.extend(documents)\n",
    "\n",
    "# 분할된 텍스트를 Embeddings로 변환하여 Chroma 데이터베이스에 저장합니다.\n",
    "db = Chroma.from_documents(texts, OpenAIEmbeddings())\n",
    "\n",
    "# 데이터베이스에서 검색을 수행할 수 있는 retriever 객체를 생성합니다.\n",
    "# search_kwargs: 검색 시 사용할 추가 매개변수 (여기서는 상위 10개의 결과를 반환)\n",
    "retriever = db.as_retriever(search_kwargs={\"k\": 10})"
   ]
  },
  {
   "cell_type": "code",
   "execution_count": 24,
   "id": "08059c7a-03ab-41da-8872-77e46662efe8",
   "metadata": {},
   "outputs": [],
   "source": [
    "from langchain_core.runnables import RunnablePassthrough\n",
    "from langchain_core.prompts import ChatPromptTemplate\n",
    "from langchain_openai import ChatOpenAI\n",
    "from langchain_core.output_parsers import StrOutputParser\n",
    "\n",
    "prompt_template = ChatPromptTemplate.from_template(\"당신은 질문 답변 작업의 어시스턴트입니다. 다음 문맥을 사용하여 질문에 답하세요. 답을 모른다면 모른다고 말하세요. 답변은 최대 세 문장으로 작성하고 메타데이터 정보를 포함하여 간결하게 작성하세요. 한국어로 작성합니다. \\ns\\n질문: {question} \\n문맥: {context} \\n답변:\")\n",
    "\n",
    "chain = (\n",
    "    {\"context\": retriever, \"question\": RunnablePassthrough()}\n",
    "    | prompt_template\n",
    "    | ChatOpenAI()\n",
    "    | StrOutputParser()\n",
    ")"
   ]
  },
  {
   "cell_type": "code",
   "execution_count": 25,
   "id": "ade58fa7-43cd-42da-916e-aee7d60befbe",
   "metadata": {},
   "outputs": [
    {
     "name": "stdin",
     "output_type": "stream",
     "text": [
      "USER >  LLM 모델에 대해 설명해 줘.\n"
     ]
    },
    {
     "name": "stdout",
     "output_type": "stream",
     "text": [
      " A I > LLM은 Large Language Models의 약자로, 대규모 데이터셋을 기반으로 사전 훈련된 거대한 언어 모델을 가리킵니다. LLM은 다양한 자연어 처리 작업에 대한 지식을 포괄적으로 보유하고 있으며, 지식 집약적인 작업이나 자연어 이해, 생성 작업 등에서 뛰어난 성과를 보일 수 있습니다. 메타데이터 정보: 페이지 1, 소스: './datasets/pdfs//Harnessing the Power of LLMs in Practice A Survey on ChatGPT and Beyond-2304.13712v2.pdf'.\n"
     ]
    },
    {
     "name": "stdin",
     "output_type": "stream",
     "text": [
      "USER >  quit\n"
     ]
    }
   ],
   "source": [
    "def chat_with_user(user_message):\n",
    "    ai_message = chain.invoke(user_message)\n",
    "    return ai_message\n",
    "\n",
    "while True:\n",
    "    user_message = input(\"USER > \")\n",
    "    if user_message.lower() == \"quit\":\n",
    "        break\n",
    "    ai_message = chat_with_user(user_message)\n",
    "    print(f\" A I > {ai_message}\")"
   ]
  },
  {
   "cell_type": "markdown",
   "id": "018778b7-5aed-4c62-b5b6-c070af733d0e",
   "metadata": {},
   "source": [
    "### Memory-대화형 챗봇 만들기"
   ]
  },
  {
   "cell_type": "code",
   "execution_count": 26,
   "id": "73bd576d-71c7-42a4-a125-49980f420589",
   "metadata": {},
   "outputs": [],
   "source": [
    "from langchain_core.runnables import RunnablePassthrough, RunnableLambda\n",
    "from langchain_core.prompts import ChatPromptTemplate, MessagesPlaceholder\n",
    "from langchain_openai import ChatOpenAI\n",
    "from langchain_core.output_parsers import StrOutputParser\n",
    "from langchain.memory import ConversationBufferWindowMemory\n",
    "from operator import itemgetter"
   ]
  },
  {
   "cell_type": "code",
   "execution_count": 27,
   "id": "feff4bdc-fe55-40d4-a294-dddc7759ded4",
   "metadata": {},
   "outputs": [
    {
     "name": "stderr",
     "output_type": "stream",
     "text": [
      "/tmp/ipykernel_5867/2204816263.py:10: LangChainDeprecationWarning: Please see the migration guide at: https://python.langchain.com/docs/versions/migrating_memory/\n",
      "  memory = ConversationBufferWindowMemory(k=3, return_messages=True)\n"
     ]
    }
   ],
   "source": [
    "# ChatPromptTemplate을 사용하여 대화의 기본 템플릿을 설정합니다.\n",
    "# 시스템 메시지와 사용자 입력을 포함합니다.\n",
    "prompt_template = ChatPromptTemplate.from_messages([\n",
    "    (\"system\", \"Talk like a close friend and use emojis 😊\"),  # 시스템 메시지: 친근한 친구처럼 말하고 이모지를 사용하세요.\n",
    "    MessagesPlaceholder(variable_name=\"chat_history\"),  # 대화 기록을 위한 자리 표시자\n",
    "    (\"human\", \"{user_input}\")  # 사용자의 입력을 포함\n",
    "])\n",
    "\n",
    "# 대화 메모리를 설정합니다. 최근 3개의 메시지를 반환하도록 설정합니다.\n",
    "memory = ConversationBufferWindowMemory(k=3, return_messages=True)\n",
    "\n",
    "# 대화 체인을 설정합니다.\n",
    "chain = (\n",
    "    { \"user_input\": RunnablePassthrough() }  # 사용자의 입력을 그대로 전달\n",
    "    | RunnablePassthrough.assign(\n",
    "        chat_history=RunnableLambda(memory.load_memory_variables) | itemgetter(\"history\")\n",
    "    )  # 메모리에서 대화 기록을 불러와 chat_history 변수에 할당\n",
    "    | prompt_template  # 설정한 프롬프트 템플릿을 사용\n",
    "    | ChatOpenAI()  # OpenAI의 챗봇 모델을 사용\n",
    "    | StrOutputParser()  # 문자열 출력 파서\n",
    ")"
   ]
  },
  {
   "cell_type": "code",
   "execution_count": 28,
   "id": "59076c58-68be-41a5-a310-56811a2610ac",
   "metadata": {},
   "outputs": [
    {
     "name": "stdin",
     "output_type": "stream",
     "text": [
      "USER >  안녕?\n"
     ]
    },
    {
     "name": "stdout",
     "output_type": "stream",
     "text": [
      " A I > 안녕~ 😊 어떻게 지내? 뭐 하고 있어?\n"
     ]
    },
    {
     "name": "stdin",
     "output_type": "stream",
     "text": [
      "USER >  quit\n"
     ]
    }
   ],
   "source": [
    "def chat_with_user(user_message):\n",
    "    ai_message = chain.invoke(user_message)\n",
    "    memory.save_context({\"input\": user_message}, {\"output\": ai_message})\n",
    "    return ai_message\n",
    "\n",
    "while True:\n",
    "    user_message = input(\"USER > \")\n",
    "    if user_message.lower() == \"quit\":\n",
    "        break\n",
    "    ai_message = chat_with_user(user_message)\n",
    "    print(f\" A I > {ai_message}\")"
   ]
  },
  {
   "cell_type": "markdown",
   "id": "be695ceb-80a9-40c1-b3da-0e32a8beb097",
   "metadata": {},
   "source": [
    "### 도구 체인 구축"
   ]
  },
  {
   "cell_type": "code",
   "execution_count": 37,
   "id": "bb495ab5-8bc0-4daa-b73d-d42365f05268",
   "metadata": {},
   "outputs": [],
   "source": [
    "import json\n",
    "import requests\n",
    "from langchain_core.tools import tool\n",
    "from langchain_core.prompts import ChatPromptTemplate\n",
    "from langchain_core.runnables import RunnablePassthrough\n",
    "from langchain_core.output_parsers import StrOutputParser\n",
    "from langchain_openai import ChatOpenAI\n",
    "from langchain.schema import AIMessage"
   ]
  },
  {
   "cell_type": "code",
   "execution_count": 38,
   "id": "c548a7ae-21b7-48b5-b5b6-e1240ddfc527",
   "metadata": {},
   "outputs": [],
   "source": [
    "@tool\n",
    "def get_current_weather(latitude: float, longitude: float) -> str:\n",
    "    \"\"\"\n",
    "    Open-Meteo API를 사용하여 지정된 위도와 경도의 현재 날씨 데이터를 가져옵니다.\n",
    "    \"\"\"\n",
    "    base_url = \"https://api.open-meteo.com/v1/forecast\"\n",
    "    params = {\n",
    "        \"latitude\": latitude,\n",
    "        \"longitude\": longitude,\n",
    "        \"current_weather\": True,\n",
    "        \"daily\": \"temperature_2m_max,temperature_2m_min\",\n",
    "        \"timezone\": \"auto\"\n",
    "    }\n",
    "    response = requests.get(base_url, params=params)\n",
    "    info = {}\n",
    "    if response.status_code == 200:\n",
    "        info = response.json()\n",
    "    return json.dumps(info)"
   ]
  },
  {
   "cell_type": "code",
   "execution_count": 39,
   "id": "ca60dd7f-8e94-429b-b136-91f3c5d48b23",
   "metadata": {},
   "outputs": [],
   "source": [
    "@tool\n",
    "def get_current_location() -> str:\n",
    "    \"\"\"\n",
    "    IPinfo.io API를 사용하여 IP 주소 기반의 현재 위치를 가져옵니다.\n",
    "    \"\"\"\n",
    "    response = requests.get('https://ipinfo.io')\n",
    "    info = response.json()\n",
    "    return json.dumps(info)\n",
    "\n",
    "llm = ChatOpenAI(model=\"gpt-3.5-turbo\")\n",
    "tools = [get_current_weather, get_current_location]\n",
    "llm_with_tools = llm.bind_tools(tools)"
   ]
  },
  {
   "cell_type": "code",
   "execution_count": 41,
   "id": "22554554-9e8e-4a53-805e-719fb100d7d1",
   "metadata": {},
   "outputs": [],
   "source": [
    "def call_tools(msg: AIMessage):\n",
    "    \"\"\"순차적인 도구 호출을 위한 간단한 헬퍼 함수입니다.\"\"\"\n",
    "    tool_map = {tool.name: tool for tool in tools}\n",
    "    tool_calls = msg.tool_calls.copy()\n",
    "\n",
    "    for tool_call in tool_calls:\n",
    "        tool_call[\"output\"] = tool_map[tool_call[\"name\"]].invoke(tool_call[\"args\"])\n",
    "\n",
    "    return tool_calls"
   ]
  },
  {
   "cell_type": "code",
   "execution_count": 42,
   "id": "f1d627c5-3e54-4317-9e81-4a733add0135",
   "metadata": {},
   "outputs": [],
   "source": [
    "chain = llm_with_tools | call_tools"
   ]
  },
  {
   "cell_type": "code",
   "execution_count": 43,
   "id": "d68c9c9f-4d22-45e1-85eb-993be3739d71",
   "metadata": {},
   "outputs": [
    {
     "name": "stdout",
     "output_type": "stream",
     "text": [
      "[{'name': 'get_current_weather', 'args': {'latitude': 37.5665, 'longitude': 126.978}, 'id': 'call_HA06IeruCldi4MS7uMKM6dy8', 'type': 'tool_call', 'output': '{\"latitude\": 37.55, \"longitude\": 127.0, \"generationtime_ms\": 0.08797645568847656, \"utc_offset_seconds\": 32400, \"timezone\": \"Asia/Seoul\", \"timezone_abbreviation\": \"KST\", \"elevation\": 34.0, \"current_weather_units\": {\"time\": \"iso8601\", \"interval\": \"seconds\", \"temperature\": \"\\\\u00b0C\", \"windspeed\": \"km/h\", \"winddirection\": \"\\\\u00b0\", \"is_day\": \"\", \"weathercode\": \"wmo code\"}, \"current_weather\": {\"time\": \"2024-10-09T15:15\", \"interval\": 900, \"temperature\": 22.5, \"windspeed\": 1.5, \"winddirection\": 135, \"is_day\": 1, \"weathercode\": 2}, \"daily_units\": {\"time\": \"iso8601\", \"temperature_2m_max\": \"\\\\u00b0C\", \"temperature_2m_min\": \"\\\\u00b0C\"}, \"daily\": {\"time\": [\"2024-10-09\", \"2024-10-10\", \"2024-10-11\", \"2024-10-12\", \"2024-10-13\", \"2024-10-14\", \"2024-10-15\"], \"temperature_2m_max\": [22.5, 21.6, 22.5, 23.2, 22.6, 23.1, 24.3], \"temperature_2m_min\": [13.1, 14.4, 12.7, 13.8, 10.9, 14.6, 12.8]}}'}]\n",
      "[{'name': 'get_current_location', 'args': {}, 'id': 'call_MBXInRZPU0JD1W1rFsC0ILMf', 'type': 'tool_call', 'output': '{\"ip\": \"61.79.218.46\", \"city\": \"Bucheon-si\", \"region\": \"Gyeonggi-do\", \"country\": \"KR\", \"loc\": \"37.4989,126.7831\", \"org\": \"AS4766 Korea Telecom\", \"postal\": \"14525\", \"timezone\": \"Asia/Seoul\", \"readme\": \"https://ipinfo.io/missingauth\"}'}]\n"
     ]
    }
   ],
   "source": [
    "result = chain.invoke(\"What is the weather in Seoul?\")\n",
    "print(result)\n",
    "\n",
    "result = chain.invoke(\"What is the current location?\")\n",
    "print(result)"
   ]
  },
  {
   "cell_type": "code",
   "execution_count": 44,
   "id": "014b25cb-e9b4-4856-8337-89b69c208c17",
   "metadata": {},
   "outputs": [
    {
     "name": "stdin",
     "output_type": "stream",
     "text": [
      "USER >  서울 날씨를 알려 줘.\n"
     ]
    },
    {
     "name": "stdout",
     "output_type": "stream",
     "text": [
      " A I > [{'name': 'get_current_weather', 'args': {'latitude': 37.5665, 'longitude': 126.978}, 'id': 'call_xDIgnHg0IJQkMszrqwSrlniu', 'type': 'tool_call', 'output': '{\"latitude\": 37.55, \"longitude\": 127.0, \"generationtime_ms\": 0.08702278137207031, \"utc_offset_seconds\": 32400, \"timezone\": \"Asia/Seoul\", \"timezone_abbreviation\": \"KST\", \"elevation\": 34.0, \"current_weather_units\": {\"time\": \"iso8601\", \"interval\": \"seconds\", \"temperature\": \"\\\\u00b0C\", \"windspeed\": \"km/h\", \"winddirection\": \"\\\\u00b0\", \"is_day\": \"\", \"weathercode\": \"wmo code\"}, \"current_weather\": {\"time\": \"2024-10-09T15:15\", \"interval\": 900, \"temperature\": 22.5, \"windspeed\": 1.5, \"winddirection\": 135, \"is_day\": 1, \"weathercode\": 2}, \"daily_units\": {\"time\": \"iso8601\", \"temperature_2m_max\": \"\\\\u00b0C\", \"temperature_2m_min\": \"\\\\u00b0C\"}, \"daily\": {\"time\": [\"2024-10-09\", \"2024-10-10\", \"2024-10-11\", \"2024-10-12\", \"2024-10-13\", \"2024-10-14\", \"2024-10-15\"], \"temperature_2m_max\": [22.5, 21.6, 22.5, 23.2, 22.6, 23.1, 24.3], \"temperature_2m_min\": [13.1, 14.4, 12.7, 13.8, 10.9, 14.6, 12.8]}}'}]\n"
     ]
    },
    {
     "name": "stdin",
     "output_type": "stream",
     "text": [
      "USER >  quit\n"
     ]
    }
   ],
   "source": [
    "def chat_with_user(user_message):\n",
    "    ai_message = chain.invoke(user_message)\n",
    "    return ai_message\n",
    "\n",
    "while True:\n",
    "    user_message = input(\"USER > \")\n",
    "    if user_message.lower() == \"quit\":\n",
    "        break\n",
    "    ai_message = chat_with_user(user_message)\n",
    "    print(f\" A I > {ai_message}\")"
   ]
  },
  {
   "cell_type": "markdown",
   "id": "99fe7f3b-0498-42f6-a8b9-4b0c57c91f8f",
   "metadata": {},
   "source": [
    "### 라우팅 체인"
   ]
  },
  {
   "cell_type": "code",
   "execution_count": 45,
   "id": "f0ac369a-b66b-4b8c-8195-a23763ba81bb",
   "metadata": {},
   "outputs": [],
   "source": [
    "from langchain_openai import ChatOpenAI\n",
    "from langchain_core.output_parsers import StrOutputParser\n",
    "from langchain_core.prompts import PromptTemplate"
   ]
  },
  {
   "cell_type": "code",
   "execution_count": 46,
   "id": "68652e7e-5775-4b3f-90eb-a0ba2a362f1c",
   "metadata": {},
   "outputs": [
    {
     "name": "stdout",
     "output_type": "stream",
     "text": [
      "OpenAI\n"
     ]
    }
   ],
   "source": [
    "chain = (\n",
    "    PromptTemplate.from_template(\n",
    "        \"\"\"아래의 사용자 질문이 주어졌을 때, 'LangChain', 'OpenAI', 'Other' 중 어느 것에 관한 질문인지 분류하세요.\n",
    "\n",
    "두 단어 이상으로 응답하지 마세요.\n",
    "\n",
    "질문: {question}\n",
    "분류:\"\"\"\n",
    "    )\n",
    "    | ChatOpenAI()\n",
    "    | StrOutputParser()\n",
    ")\n",
    "\n",
    "result = chain.invoke({\n",
    "    \"question\": \"OpenAI를 호출하려면 어떻게 하나요?\"\n",
    "})\n",
    "print(result)  # 출력: OpenAI"
   ]
  },
  {
   "cell_type": "code",
   "execution_count": 47,
   "id": "aa90b380-bed9-4c96-be82-14251164ac2f",
   "metadata": {},
   "outputs": [],
   "source": [
    "langchain_chain = PromptTemplate.from_template(\n",
    "    \"\"\"귀하는 랭체인 전문가입니다. \n",
    "항상 \"해리슨 체이스가 말했듯이\"로 시작하는 질문에 답하세요. \n",
    "다음 질문에 답하세요:\n",
    "\n",
    "질문: {question}\n",
    "답변:\"\"\"\n",
    ")  | ChatOpenAI()\n",
    "\n",
    "openai_chain = PromptTemplate.from_template(\n",
    "    \"\"\"귀하는 OpenAI 전문가입니다. \n",
    "항상 \"사무엘 해리스 알트먼이 나에게 말했듯이\"로 시작하는 질문에 답하세요.\n",
    "다음 질문에 답하세요:\n",
    "\n",
    "질문: {question}\n",
    "답변:\"\"\"\n",
    ") | ChatOpenAI()\n",
    "\n",
    "general_chain = PromptTemplate.from_template(\n",
    "    \"\"\"다음 질문에 답변하세요:\n",
    "\n",
    "질문: {question}\n",
    "답변:\"\"\"\n",
    ") | ChatOpenAI()"
   ]
  },
  {
   "cell_type": "code",
   "execution_count": 48,
   "id": "4023ef4d-2c81-466b-b700-d27e94a45056",
   "metadata": {},
   "outputs": [],
   "source": [
    "def route(info):\n",
    "    if \"openai\" in info[\"topic\"].lower():\n",
    "        return openai_chain\n",
    "    elif \"langchain\" in info[\"topic\"].lower():\n",
    "        return langchain_chain\n",
    "    else:\n",
    "        return general_chain"
   ]
  },
  {
   "cell_type": "code",
   "execution_count": 49,
   "id": "536048a3-245e-4e1c-9a67-117ce153419d",
   "metadata": {},
   "outputs": [],
   "source": [
    "from langchain_core.runnables import RunnableLambda\n",
    "\n",
    "full_chain = {\n",
    "    \"topic\": chain, \n",
    "    \"question\": lambda x: x[\"question\"]\n",
    "} | RunnableLambda(route)"
   ]
  },
  {
   "cell_type": "code",
   "execution_count": 50,
   "id": "92c5cc3c-35ed-44a2-a492-61fd5773208c",
   "metadata": {},
   "outputs": [
    {
     "name": "stdout",
     "output_type": "stream",
     "text": [
      "content='사무엘 해리스 알트먼이 나에게 말했듯이, OpenAI는 주로 인공지능 기술을 개발하고 연구하는 데 사용됩니다. 이 기술은 언어 모델, 이미지 생성, 자율 주행 등 다양한 분야에 적용될 수 있습니다.' additional_kwargs={'refusal': None} response_metadata={'token_usage': {'completion_tokens': 96, 'prompt_tokens': 93, 'total_tokens': 189, 'completion_tokens_details': {'reasoning_tokens': 0}, 'prompt_tokens_details': {'cached_tokens': 0}}, 'model_name': 'gpt-3.5-turbo-0125', 'system_fingerprint': None, 'finish_reason': 'stop', 'logprobs': None} id='run-5ea778a7-4fb1-4640-aba8-4114e2f9e2ba-0' usage_metadata={'input_tokens': 93, 'output_tokens': 96, 'total_tokens': 189}\n",
      "content='해리슨 체이스가 말했듯이, 랭체인은 블록체인 기술을 기반으로 한 분산형 대규모 네트워크로, 데이터의 투명성과 안전성을 보장하며 중앙 기관 없이 효율적인 거래 및 정보 공유를 가능하게 합니다. 이를 통해 기존 중앙화된 시스템과 비교하여 보다 안전하고 신속한 거래가 가능해지며, 랭체인을 통해 다양한 분야에서 혁신적인 서비스 및 비즈니스 모델이 탄생할 수 있습니다.' additional_kwargs={'refusal': None} response_metadata={'token_usage': {'completion_tokens': 195, 'prompt_tokens': 91, 'total_tokens': 286, 'completion_tokens_details': {'reasoning_tokens': 0}, 'prompt_tokens_details': {'cached_tokens': 0}}, 'model_name': 'gpt-3.5-turbo-0125', 'system_fingerprint': None, 'finish_reason': 'stop', 'logprobs': None} id='run-d0c74670-ee4e-4576-a0b1-527d65fe2211-0' usage_metadata={'input_tokens': 91, 'output_tokens': 195, 'total_tokens': 286}\n",
      "content='4' additional_kwargs={'refusal': None} response_metadata={'token_usage': {'completion_tokens': 1, 'prompt_tokens': 35, 'total_tokens': 36, 'completion_tokens_details': {'reasoning_tokens': 0}, 'prompt_tokens_details': {'cached_tokens': 0}}, 'model_name': 'gpt-3.5-turbo-0125', 'system_fingerprint': None, 'finish_reason': 'stop', 'logprobs': None} id='run-32f5ea2c-691c-4bb6-b632-440520fa4044-0' usage_metadata={'input_tokens': 35, 'output_tokens': 1, 'total_tokens': 36}\n"
     ]
    }
   ],
   "source": [
    "print(full_chain.invoke({\"question\": \"OpenAI는 어떻게 사용하나요?\"}))\n",
    "print(full_chain.invoke({\"question\": \"랭체인은 어떻게 사용하나요?\"}))\n",
    "print(full_chain.invoke({\"question\": \"2 + 2는?\"}))"
   ]
  },
  {
   "cell_type": "code",
   "execution_count": 51,
   "id": "3aa66552-0842-42c2-aae6-5e8d64db88bb",
   "metadata": {},
   "outputs": [
    {
     "name": "stdout",
     "output_type": "stream",
     "text": [
      "Using PHYSICS\n",
      "블랙홀은 매우 강력한 중력을 가진 천체로, 충분히 많은 양의 물질이나 에너지가 작용하여 중심에 매우 밀도 높은 질량이 모여 만들어진 것입니다. 블랙홀의 중력장은 주변에 있는 물체나 빛조차도 흡수하여 탈출할 수 없게 만들어집니다. 따라서 블랙홀은 빛마저도 갇아버린다고 생각할 수 있습니다. 이러한 특성으로 인해 블랙홀은 우주에서 가장 이상한 천체 중 하나로 알려져 있습니다.\n",
      "Using MATH\n",
      "경로 통합이란 그래프 이론에서 사용되는 개념으로, 그래프에서 두 정점 사이의 경로를 연결하는 과정을 말합니다. 즉, 하나의 경로가 여러 경로를 통합하여 최단 경로 또는 특정 조건을 만족하는 경로를 찾는 것을 의미합니다. 경로 통합은 네트워크 최적화, 데이터 통신, 라우팅 등 다양한 분야에서 응용되며, 그래프 이론의 중요한 개념 중 하나입니다.\n"
     ]
    }
   ],
   "source": [
    "from langchain.utils.math import cosine_similarity\n",
    "from langchain_openai import OpenAIEmbeddings\n",
    "\n",
    "# 물리학 질문에 대한 템플릿을 정의합니다.\n",
    "physics_template = \"\"\"당신은 매우 똑똑한 물리학 교수입니다. \n",
    "물리학에 대한 질문에 간결하고 이해하기 쉽게 대답하는 데 능숙합니다. \n",
    "질문에 대한 답을 모를 때는 모른다고 인정합니다.\n",
    "\n",
    "다음은 질문입니다:\n",
    "{query}\"\"\"\n",
    "\n",
    "# 수학 질문에 대한 템플릿을 정의합니다.\n",
    "math_template = \"\"\"당신은 아주 훌륭한 수학자입니다. 당신은 수학 문제에 대한 답을 잘합니다. \n",
    "당신은 어려운 문제를 구성 요소로 분해하고, \"구성 요소에 답한 다음 \"더 넓은 질문에 답할 수 있기 때문에 매우 훌륭합니다.\n",
    "구성 요소에 답한 다음 이를 종합하여 더 넓은 질문에 답할 수 있기 때문입니다.\n",
    "\n",
    "여기 질문이 있습니다:\n",
    "{query}\"\"\"\n",
    "\n",
    "# OpenAIEmbeddings 객체를 생성합니다.\n",
    "embeddings = OpenAIEmbeddings()\n",
    "\n",
    "# 물리학과 수학 템플릿을 리스트로 묶습니다.\n",
    "prompt_templates = [physics_template, math_template]\n",
    "\n",
    "# 템플릿들을 임베딩합니다.\n",
    "prompt_embeddings = embeddings.embed_documents(prompt_templates)\n",
    "\n",
    "\n",
    "# 입력된 질문에 따라 적절한 템플릿을 선택하는 함수입니다.\n",
    "def prompt_router(input):\n",
    "    # 입력된 질문을 임베딩합니다.\n",
    "    query_embedding = embeddings.embed_query(input[\"query\"])\n",
    "    \n",
    "    # 질문 임베딩과 템플릿 임베딩 간의 코사인 유사도를 계산합니다.\n",
    "    similarity = cosine_similarity([query_embedding], prompt_embeddings)[0]\n",
    "    \n",
    "    # 가장 유사한 템플릿을 선택합니다.\n",
    "    most_similar = prompt_templates[similarity.argmax()]\n",
    "    \n",
    "    # 선택된 템플릿이 수학 템플릿인지 물리학 템플릿인지 출력합니다.\n",
    "    print(\"Using MATH\" if most_similar == math_template else \"Using PHYSICS\")\n",
    "\n",
    "    # 선택된 템플릿을 반환합니다.\n",
    "    return PromptTemplate.from_template(most_similar)\n",
    "\n",
    "\n",
    "# 체인을 구성합니다.\n",
    "chain = (\n",
    "    { \"query\": RunnablePassthrough() }  # 입력된 질문을 그대로 통과시킵니다.\n",
    "    | RunnableLambda(prompt_router)  # 질문에 따라 적절한 템플릿을 선택합니다.\n",
    "    | ChatOpenAI()  # 선택된 템플릿을 사용하여 OpenAI와 대화합니다.\n",
    "    | StrOutputParser()  # 결과를 문자열로 파싱합니다.\n",
    ")\n",
    "\n",
    "# 체인을 실행하여 질문에 대한 답변을 출력합니다.\n",
    "print(chain.invoke(\"블랙홀이란 무엇인가요?\"))\n",
    "print(chain.invoke(\"경로 통합이란 무엇인가요?\"))"
   ]
  },
  {
   "cell_type": "markdown",
   "id": "7d5a8df6-1749-449f-ba88-6176dd270aee",
   "metadata": {},
   "source": [
    "### 10. RAG-대학교 학생 성적에 영향을 미치는 요소를 탐색하고 분석하는 시스템 구축"
   ]
  },
  {
   "cell_type": "code",
   "execution_count": 18,
   "id": "c5239853-f9f9-4601-a5ea-ae28cd7d15e1",
   "metadata": {},
   "outputs": [
    {
     "name": "stdout",
     "output_type": "stream",
     "text": [
      "대학생의 학업성취에 영향을 미치는 심리적, 학습역량, 환경/지지 요인 탐색  289\n",
      "2. 학업성취와 학습역량 변인과의 관계\n",
      "대학생의 학업성취에 직접적인 영향을 주는 학습역량 변인으로는 학습동기와 학습습관이 있\n",
      "다. 동기는 학습과정과 밀접한 관련이 있는데, 학습에 있어서 동기는 어떤 내용을 선택하고, 언\n",
      "제 공부를 하며, 어떤 방법으로 공부하는지 등 그 과정 전반에 영향을 준다(Schunk, 1989). 학습\n",
      "은 의식적이고 의도적인 활동이 요구되는 능동적인 과정이므로 개인의 활동을 유발시키고 유지\n",
      "하며, 이러한 활동을 통해 어떤 목표\n"
     ]
    }
   ],
   "source": [
    "from langchain.chains import RetrievalQA\n",
    "from langchain.llms import OpenAI\n",
    "#\n",
    "from langchain_openai import ChatOpenAI\n",
    "from langchain.vectorstores import FAISS\n",
    "from langchain.embeddings.openai import OpenAIEmbeddings\n",
    "from langchain.document_loaders import DirectoryLoader\n",
    "from langchain.document_loaders import PyMuPDFLoader  # PDF 로더 추가\n",
    "from langchain.chains import StuffDocumentsChain\n",
    "from langchain.prompts import PromptTemplate\n",
    "from langchain.chains import LLMChain\n",
    "\n",
    "# 1. 데이터 로드: 외부 데이터로 학습 자료 로드\n",
    "loader = DirectoryLoader(\n",
    "    './student_grades_research_papers',\n",
    "    glob=\"**/*.pdf\",  # PDF 파일만 로드\n",
    "    loader_cls=PyMuPDFLoader  # PDF 로더 사용\n",
    ")\n",
    "documents = loader.load()\n",
    "\n",
    "# 문서 내용 확인 (예: 5번째 문서의 첫 300자 출력)\n",
    "if len(documents) > 4:\n",
    "    print(documents[4].page_content[:300])"
   ]
  },
  {
   "cell_type": "code",
   "execution_count": 19,
   "id": "c7ef1282-2f25-4d51-b1ce-dcf030f86453",
   "metadata": {},
   "outputs": [],
   "source": [
    "# 2. 문서 임베딩: 문서 임베딩을 생성하여 검색이 가능하도록 설정\n",
    "embeddings = OpenAIEmbeddings()\n",
    "vector_store = FAISS.from_documents(documents, embeddings)\n",
    "\n",
    "# 3. 검색 쿼리 설정\n",
    "retriever = vector_store.as_retriever()\n",
    "\n",
    "# 4. LLM 및 프롬프트 템플릿 설정\n",
    "llm = ChatOpenAI(model='gpt-4o-mini', temperature=0)\n",
    "\n",
    "# 프롬프트 템플릿 설정\n",
    "prompt_template = PromptTemplate(\n",
    "    input_variables=[\"documents\"],\n",
    "    template=\"다음 문서들을 바탕으로 대학교 학생의 성적에 영향을 주는 요소들을 설명해 줘: {documents}\"\n",
    ")\n",
    "\n",
    "# LLMChain 생성\n",
    "llm_chain = LLMChain(llm=llm, prompt=prompt_template)\n",
    "\n",
    "# StuffDocumentsChain 생성\n",
    "combine_documents_chain = StuffDocumentsChain(llm_chain=llm_chain)\n",
    "\n",
    "# 5. 검색과 생성 모델을 연결하는 RetrievalQA 구성\n",
    "qa_chain = RetrievalQA(\n",
    "    combine_documents_chain=combine_documents_chain,\n",
    "    retriever=retriever\n",
    ")"
   ]
  },
  {
   "cell_type": "code",
   "execution_count": 20,
   "id": "1922857d-fda0-466d-ba32-6443626c8713",
   "metadata": {},
   "outputs": [
    {
     "name": "stdout",
     "output_type": "stream",
     "text": [
      "{'query': '\\n대학교 학생의 성적에 영향을 주는 요소들을 설명해 줘. \\n검색된 연구 자료를 바탕으로 분석해 주고, 성적 향상에 도움이 될 수 있는 전략을 제시해 줘.\\n', 'result': '대학생의 성적에 영향을 주는 요소들은 여러 가지로 나눌 수 있으며, 주로 심리적 요인, 학습역량, 환경 및 지지 요인으로 구분할 수 있습니다. 다음은 각 요소에 대한 설명입니다.\\n\\n### 1. 심리적 요인\\n- **학업적 자기효능감**: 학생이 자신의 학업 능력에 대해 가지는 신념으로, 높은 자기효능감은 학업 성취에 긍정적인 영향을 미칩니다. 자신이 문제를 해결할 수 있다는 믿음은 도전적인 상황에서도 지속적으로 노력하게 만듭니다.\\n- **성실성**: 학업에 대한 꾸준한 노력과 책임감은 성적 향상에 중요한 역할을 합니다. 성실한 학생은 학습에 더 많은 시간을 투자하고, 과제를 성실히 수행하는 경향이 있습니다.\\n- **학습동기**: 학습에 대한 내적 동기와 외적 동기는 학생의 학업 성취에 큰 영향을 미칩니다. 높은 학습동기를 가진 학생은 더 많은 노력을 기울이고, 학습에 대한 흥미를 유지합니다.\\n\\n### 2. 학습역량\\n- **학습습관**: 효과적인 학습습관은 성적 향상에 기여합니다. 정기적인 복습, 시간 관리, 목표 설정 등은 학습의 질을 높이는 데 도움이 됩니다.\\n- **자기조절학습**: 자신의 학습 과정을 계획하고 조절하는 능력은 성적에 긍정적인 영향을 미칩니다. 자기조절학습이 잘 이루어지는 학생은 학습 목표를 설정하고, 그에 맞춰 학습 전략을 조정할 수 있습니다.\\n\\n### 3. 환경 및 지지 요인\\n- **교수지지**: 교수와의 긍정적인 관계는 학생의 학업 성취에 큰 영향을 미칩니다. 교수의 피드백과 지원은 학생이 학습에 대한 자신감을 갖게 하고, 문제 해결에 도움을 줍니다.\\n- **학습환경**: 물리적 환경(예: 도서관, 강의실)과 사회적 환경(예: 친구, 가족)의 질은 학습에 영향을 미칩니다. 지원적인 학습 환경은 학생이 더 나은 성적을 얻도록 도와줍니다.\\n- **사회적 지지**: 친구, 가족, 동료로부터의 정서적 및 실질적인 지원은 학생의 스트레스를 줄이고, 학업에 대한 긍정적인 태도를 유지하는 데 기여합니다.\\n\\n### 결론\\n대학생의 성적은 심리적 요인, 학습역량, 환경 및 지지 요인 등 다양한 요소의 상호작용에 의해 결정됩니다. 따라서, 학생 개개인의 특성과 상황에 맞춘 맞춤형 지원이 필요하며, 이러한 요소들을 종합적으로 고려한 연구와 프로그램 개발이 중요합니다.'}\n"
     ]
    }
   ],
   "source": [
    "# 6. Prompt 설정\n",
    "prompt = \"\"\"\n",
    "대학교 학생의 성적에 영향을 주는 요소들을 설명해 줘. \n",
    "검색된 연구 자료를 바탕으로 분석해 주고, 성적 향상에 도움이 될 수 있는 전략을 제시해 줘.\n",
    "\"\"\"\n",
    "\n",
    "# 7. 질문 실행\n",
    "try:\n",
    "    # 검색된 문서 가져오기\n",
    "    retrieved_documents = retriever.get_relevant_documents(prompt)  # prompt로 검색 실행\n",
    "    \n",
    "    # 문서 내용을 문자열로 변환\n",
    "    if not retrieved_documents:\n",
    "        raise ValueError(\"검색된 문서가 없습니다.\")\n",
    "    \n",
    "    # 각 문서의 내용을 문자열로 변환\n",
    "    documents_text = \"\\n\".join(\n",
    "        [doc.page_content for doc in retrieved_documents if isinstance(doc.page_content, str) and doc.page_content]\n",
    "    )  # 비어있지 않은 문서 내용만 포함\n",
    "    \n",
    "    if not documents_text.strip():  # 문서 내용이 비어있는지 확인\n",
    "        raise ValueError(\"문서 내용이 비어있습니다.\")\n",
    "    \n",
    "    # 질문 실행\n",
    "    result = qa_chain.invoke({\"query\": prompt})  # prompt로 query 전달\n",
    "    print(result)\n",
    "\n",
    "except Exception as e:\n",
    "    print(f\"질문 실행 중 오류 발생: {e}\")"
   ]
  },
  {
   "cell_type": "code",
   "execution_count": null,
   "id": "8631dda7-b30d-40c6-8ce2-edbc192ada4c",
   "metadata": {},
   "outputs": [],
   "source": []
  }
 ],
 "metadata": {
  "kernelspec": {
   "display_name": "py310_langchain",
   "language": "python",
   "name": "py310_langchain"
  },
  "language_info": {
   "codemirror_mode": {
    "name": "ipython",
    "version": 3
   },
   "file_extension": ".py",
   "mimetype": "text/x-python",
   "name": "python",
   "nbconvert_exporter": "python",
   "pygments_lexer": "ipython3",
   "version": "3.10.12"
  }
 },
 "nbformat": 4,
 "nbformat_minor": 5
}
