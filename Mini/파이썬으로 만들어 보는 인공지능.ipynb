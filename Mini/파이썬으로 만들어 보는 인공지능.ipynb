{
 "cells": [
  {
   "cell_type": "markdown",
   "id": "267a909c-f515-4d01-98be-914746a82a66",
   "metadata": {},
   "source": [
    "# 1.퍼셉트론"
   ]
  },
  {
   "cell_type": "markdown",
   "id": "a5eb0c58-9bfb-40a5-8d2b-0e295cfdb2b3",
   "metadata": {},
   "source": [
    "### 1-1.파이썬으로 구현한 퍼셉트론-1"
   ]
  },
  {
   "cell_type": "code",
   "execution_count": 1,
   "id": "f4a65551-5317-41c4-a53e-a5eeb20b82d3",
   "metadata": {},
   "outputs": [],
   "source": [
    "import numpy as np"
   ]
  },
  {
   "cell_type": "code",
   "execution_count": 2,
   "id": "1d90b297-9c3c-4a90-af40-74bdbf4995a5",
   "metadata": {},
   "outputs": [
    {
     "name": "stdout",
     "output_type": "stream",
     "text": [
      "[1 0 1]\n"
     ]
    }
   ],
   "source": [
    "X = np.array([1,0,1])\n",
    "print(X)"
   ]
  },
  {
   "cell_type": "code",
   "execution_count": 5,
   "id": "dae1ae53-6065-40ca-be7d-5a40ba1bc0db",
   "metadata": {},
   "outputs": [
    {
     "name": "stdout",
     "output_type": "stream",
     "text": [
      "[-0.5  1.   1. ]\n"
     ]
    }
   ],
   "source": [
    "W = np.array([\n",
    "    -0.5,\n",
    "    1.0,\n",
    "    1.0\n",
    "])\n",
    "print(W)"
   ]
  },
  {
   "cell_type": "code",
   "execution_count": 6,
   "id": "84c901d3-df8c-4ae0-9da3-5d0fcafeaf83",
   "metadata": {},
   "outputs": [
    {
     "data": {
      "text/plain": [
       "0.5"
      ]
     },
     "execution_count": 6,
     "metadata": {},
     "output_type": "execute_result"
    }
   ],
   "source": [
    "y = sum(X*W)\n",
    "y"
   ]
  },
  {
   "cell_type": "markdown",
   "id": "3221237d-af02-48f8-9408-29784d94fc7a",
   "metadata": {},
   "source": [
    "### 1-2.파이썬으로 구현한 퍼셉트론-2"
   ]
  },
  {
   "cell_type": "code",
   "execution_count": 7,
   "id": "424ac0db-a033-4c91-a28f-f93865d01e82",
   "metadata": {},
   "outputs": [],
   "source": [
    "import numpy as np"
   ]
  },
  {
   "cell_type": "code",
   "execution_count": 8,
   "id": "aa45d520-fcf1-4b58-a43f-4594c7508d50",
   "metadata": {},
   "outputs": [
    {
     "name": "stdout",
     "output_type": "stream",
     "text": [
      "[[1 0 0]\n",
      " [1 0 1]\n",
      " [1 1 0]\n",
      " [1 1 1]]\n"
     ]
    }
   ],
   "source": [
    "X = np.array([\n",
    "    [1,0,0],\n",
    "    [1,0,1],\n",
    "    [1,1,0],\n",
    "    [1,1,1]\n",
    "])\n",
    "print(X)"
   ]
  },
  {
   "cell_type": "code",
   "execution_count": 9,
   "id": "6d45c4df-515b-4ae3-8275-96ba8040d16a",
   "metadata": {},
   "outputs": [
    {
     "name": "stdout",
     "output_type": "stream",
     "text": [
      "[-0.5  1.   1. ]\n"
     ]
    }
   ],
   "source": [
    "W = np.array([\n",
    "    -0.5,\n",
    "    1.0,\n",
    "    1.0\n",
    "])\n",
    "print(W)"
   ]
  },
  {
   "cell_type": "code",
   "execution_count": 11,
   "id": "5e28837a-056c-44b9-942a-39fee98edffe",
   "metadata": {},
   "outputs": [
    {
     "data": {
      "text/plain": [
       "array([-0.5,  0.5,  0.5,  1.5])"
      ]
     },
     "execution_count": 11,
     "metadata": {},
     "output_type": "execute_result"
    }
   ],
   "source": [
    "y = np.sum(X*W, axis=1)\n",
    "y"
   ]
  },
  {
   "cell_type": "markdown",
   "id": "6a09d68d-d669-4dce-aff6-7cfcf69546e1",
   "metadata": {},
   "source": [
    "### 1-3. 퍼셉트론을 이용해 AND 논리 구하기-활성화 함수 추가"
   ]
  },
  {
   "cell_type": "code",
   "execution_count": 12,
   "id": "625b01c8-5b12-4bd3-a922-c96bddee0e95",
   "metadata": {},
   "outputs": [],
   "source": [
    "import numpy as np"
   ]
  },
  {
   "cell_type": "code",
   "execution_count": 13,
   "id": "6d9df8ce-b1a1-4503-bf09-88aa3bd39cd9",
   "metadata": {},
   "outputs": [],
   "source": [
    "def ANDperceptron(x1, x2):\n",
    "    w1, w2, theta = 0.5, 0.5, 0.7\n",
    "    tmp = x1*w1 + x2*w2\n",
    "    if tmp <= theta:\n",
    "        return 0\n",
    "    elif tmp > theta:\n",
    "        return 1"
   ]
  },
  {
   "cell_type": "code",
   "execution_count": 14,
   "id": "ddb18d18-eff5-4a09-9afc-26eb7cb19584",
   "metadata": {},
   "outputs": [
    {
     "name": "stdout",
     "output_type": "stream",
     "text": [
      "[[0 0]\n",
      " [0 1]\n",
      " [1 0]\n",
      " [1 1]]\n"
     ]
    }
   ],
   "source": [
    "inputData = np.array([\n",
    "    [0,0],\n",
    "    [0,1],\n",
    "    [1,0],\n",
    "    [1,1]\n",
    "])\n",
    "print(inputData)"
   ]
  },
  {
   "cell_type": "code",
   "execution_count": 15,
   "id": "583e608b-2919-40a3-b6f5-09483aff6831",
   "metadata": {},
   "outputs": [
    {
     "name": "stdout",
     "output_type": "stream",
     "text": [
      "+++ AND Perceptron +++\n",
      "[0 0]>>>0\n",
      "[0 1]>>>0\n",
      "[1 0]>>>0\n",
      "[1 1]>>>1\n"
     ]
    }
   ],
   "source": [
    "print(\"+++ AND Perceptron +++\")\n",
    "for xs in inputData:\n",
    "    print(str(xs) + \">>>\" + str(ANDperceptron(xs[0], xs[1])))"
   ]
  },
  {
   "cell_type": "markdown",
   "id": "07092f68-916a-44c9-9d64-7f9ed2b16628",
   "metadata": {},
   "source": [
    "### 1-4. 퍼셉트론을 이용해 AND 논리 구하기-활성화 함수 추가+편향 도입하기"
   ]
  },
  {
   "cell_type": "code",
   "execution_count": 16,
   "id": "c9438db5-6eeb-40b4-8614-1eb6fbcb2716",
   "metadata": {},
   "outputs": [],
   "source": [
    "import numpy as np"
   ]
  },
  {
   "cell_type": "code",
   "execution_count": 17,
   "id": "50fb8aa6-614f-43ab-afd9-13e7cd6300de",
   "metadata": {},
   "outputs": [],
   "source": [
    "def ANDperceptron(x1, x2):\n",
    "    x = np.array([x1,x2])\n",
    "    w = np.array([0.5, 0.5])\n",
    "    b = -0.7 # 새로 추가된 편향\n",
    "    tmp = np.sum(x*w) + b # 완성된 NN\n",
    "    if tmp <= 0:\n",
    "        return 0\n",
    "    elif tmp > 0:\n",
    "        return 1    "
   ]
  },
  {
   "cell_type": "code",
   "execution_count": 18,
   "id": "3b897112-92cd-4e01-bf73-32775da09f4e",
   "metadata": {},
   "outputs": [
    {
     "name": "stdout",
     "output_type": "stream",
     "text": [
      "[[0 0]\n",
      " [0 1]\n",
      " [1 0]\n",
      " [1 1]]\n"
     ]
    }
   ],
   "source": [
    "inputData = np.array([\n",
    "    [0,0],\n",
    "    [0,1],\n",
    "    [1,0],\n",
    "    [1,1]\n",
    "])\n",
    "print(inputData)"
   ]
  },
  {
   "cell_type": "code",
   "execution_count": 19,
   "id": "581d2ded-e62f-4fd6-a9e6-9c4833f55df9",
   "metadata": {},
   "outputs": [
    {
     "name": "stdout",
     "output_type": "stream",
     "text": [
      "[0 0]>>>0\n",
      "[0 1]>>>0\n",
      "[1 0]>>>0\n",
      "[1 1]>>>1\n"
     ]
    }
   ],
   "source": [
    "for xs in inputData:\n",
    "    print(str(xs) + \">>>\" + str(ANDperceptron(xs[0], xs[1])))"
   ]
  },
  {
   "cell_type": "markdown",
   "id": "820f7708-6f8c-43f3-bd9d-0d21b41aaef4",
   "metadata": {},
   "source": [
    "### 1-5. 퍼셉트론을 이용해 AND 논리 구하기-마지막 학습 시키기"
   ]
  },
  {
   "cell_type": "code",
   "execution_count": 20,
   "id": "89d1ad76-048f-4c20-9da2-968e594abc25",
   "metadata": {},
   "outputs": [],
   "source": [
    "import numpy as np"
   ]
  },
  {
   "cell_type": "code",
   "execution_count": 21,
   "id": "fccdff69-bbfc-47d2-96bd-3de1b38b7172",
   "metadata": {},
   "outputs": [
    {
     "name": "stdout",
     "output_type": "stream",
     "text": [
      "입력 데이터 셋 >>> [[0 0]\n",
      " [0 1]\n",
      " [1 0]\n",
      " [1 1]]\n",
      "정답 데이터 셋 >>> [0 0 0 1]\n"
     ]
    }
   ],
   "source": [
    "# 1.AND 데이터 셋 만들어 주기\n",
    "\n",
    "X = np.array([\n",
    "    [0,0],\n",
    "    [0,1],\n",
    "    [1,0],\n",
    "    [1,1]\n",
    "])\n",
    "y = np.array([0,0,0,1]) # 학습을 시키고자 할 경우, 정답 데이터(라벨)이 필요합니다.\n",
    "print(\"입력 데이터 셋 >>>\", X)\n",
    "print(\"정답 데이터 셋 >>>\", y)"
   ]
  },
  {
   "cell_type": "code",
   "execution_count": 22,
   "id": "bd530bc1-1538-4a1b-beab-1eb970928a92",
   "metadata": {},
   "outputs": [
    {
     "name": "stdout",
     "output_type": "stream",
     "text": [
      "[0. 0. 0.]\n"
     ]
    }
   ],
   "source": [
    "# 2.가중치 초기화\n",
    "\n",
    "w = np.zeros(1 + X.shape[1])\n",
    "print(w)"
   ]
  },
  {
   "cell_type": "code",
   "execution_count": 23,
   "id": "0dc2f968-738f-4ec4-841b-6770f9117c38",
   "metadata": {},
   "outputs": [],
   "source": [
    "# 3.최초 분류\n",
    "\n",
    "input_signal = np.dot(X, w[1:]) + w[0]"
   ]
  },
  {
   "cell_type": "code",
   "execution_count": 24,
   "id": "e46155e6-a96a-4117-9c47-b27ae15a7ffe",
   "metadata": {},
   "outputs": [],
   "source": [
    "def out_put(X):\n",
    "    return np.where(X >= 0.0, 1, 0)"
   ]
  },
  {
   "cell_type": "code",
   "execution_count": 25,
   "id": "dcec6257-7f23-45c7-930e-9eb0e9ca2b3c",
   "metadata": {},
   "outputs": [
    {
     "name": "stdout",
     "output_type": "stream",
     "text": [
      "[1 1 1 1]\n"
     ]
    }
   ],
   "source": [
    "y_hat = out_put(input_signal)\n",
    "print(y_hat)"
   ]
  },
  {
   "cell_type": "code",
   "execution_count": 28,
   "id": "29520c95-e154-4baf-b83f-b400b3278b32",
   "metadata": {},
   "outputs": [
    {
     "name": "stdout",
     "output_type": "stream",
     "text": [
      "0번째 반복입니다\n",
      "0.01\n",
      "1번째 반복입니다\n",
      "-0.02\n",
      "2번째 반복입니다\n",
      "0.01\n",
      "3번째 반복입니다\n",
      "0.0\n",
      "[0 0 0 1]\n"
     ]
    }
   ],
   "source": [
    "# 4. 학습을 시키겠습니다.\n",
    "\n",
    "errors = [] # y-y_hat 오차\n",
    "epoch = 100 # 반복 학습 시 가장 중요한 요소\n",
    "\n",
    "for time in range(0, epoch):\n",
    "    print(\"{0}번째 반복입니다\".format(time))\n",
    "    eta = 0.01 # 편향 값\n",
    "    idx = 0\n",
    "    for xi, target in zip(X,y):\n",
    "        updated_w = eta * (target - y_hat[idx]) #가중치 업데이트 공식\n",
    "        w[1:] += updated_w * xi\n",
    "        w[0] += updated_w\n",
    "        idx +=1\n",
    "    input_signal = np.dot(X, w[1:]) + w[0] # ANN 가설 식 \n",
    "    y_hat = out_put(input_signal) # 가설 식을 이용한 추론 값 곧, 예측값\n",
    "    errors.append(((y-y_hat).sum()) / 100)\n",
    "    print(((y-y_hat).sum()) / 100)\n",
    "    if((y-y_hat).sum()) / 100 == 0:\n",
    "        break\n",
    "        \n",
    "print(y_hat)     \n",
    "    "
   ]
  },
  {
   "cell_type": "markdown",
   "id": "579b2a9d-d496-416b-88c7-1d52e86b04c7",
   "metadata": {},
   "source": [
    "# 2. 딥러닝"
   ]
  },
  {
   "cell_type": "markdown",
   "id": "60021e0c-03b3-4511-a91c-ebce44130e4d",
   "metadata": {},
   "source": [
    "## 2-1. 딥러닝 도구"
   ]
  },
  {
   "cell_type": "markdown",
   "id": "3afbc415-64da-48f3-8725-2656e7a1f158",
   "metadata": {},
   "source": [
    "#### 2-1-1. Tensorflow"
   ]
  },
  {
   "cell_type": "code",
   "execution_count": 30,
   "id": "725e0841-ee38-458c-89ac-a9d36d2170f8",
   "metadata": {},
   "outputs": [
    {
     "name": "stdout",
     "output_type": "stream",
     "text": [
      "Collecting chardet\n",
      "  Downloading chardet-5.2.0-py3-none-any.whl.metadata (3.4 kB)\n",
      "Downloading chardet-5.2.0-py3-none-any.whl (199 kB)\n",
      "   ---------------------------------------- 0.0/199.4 kB ? eta -:--:--\n",
      "   ------ --------------------------------- 30.7/199.4 kB 1.3 MB/s eta 0:00:01\n",
      "   ---------------------------------------- 199.4/199.4 kB 3.0 MB/s eta 0:00:00\n",
      "Installing collected packages: chardet\n",
      "Successfully installed chardet-5.2.0\n",
      "Note: you may need to restart the kernel to use updated packages.\n"
     ]
    },
    {
     "name": "stderr",
     "output_type": "stream",
     "text": [
      "  WARNING: The script chardetect.exe is installed in 'C:\\DEV\\miniconda3\\envs\\tf38_cpu\\Scripts' which is not on PATH.\n",
      "  Consider adding this directory to PATH or, if you prefer to suppress this warning, use --no-warn-script-location.\n"
     ]
    }
   ],
   "source": [
    "pip install chardet"
   ]
  },
  {
   "cell_type": "code",
   "execution_count": 1,
   "id": "72dfa6a8-f145-4853-80de-b1c6cf5b038d",
   "metadata": {},
   "outputs": [],
   "source": [
    "import tensorflow as tf"
   ]
  },
  {
   "cell_type": "markdown",
   "id": "e6432dec-43fd-49fb-a218-db4b34fb74c7",
   "metadata": {},
   "source": [
    "##### 2-1-1-1 텐서 1.0"
   ]
  },
  {
   "cell_type": "code",
   "execution_count": 3,
   "id": "a51fb644-0ae0-4919-814f-94ec191508f3",
   "metadata": {},
   "outputs": [
    {
     "name": "stdout",
     "output_type": "stream",
     "text": [
      "b'Hello World!!!'\n"
     ]
    }
   ],
   "source": [
    "import tensorflow as tf\n",
    "with tf.compat.v1.Session() as sess:\n",
    "    helloworld = tf.constant(\"Hello World!!!\")\n",
    "    print(sess.run(helloworld))"
   ]
  },
  {
   "cell_type": "markdown",
   "id": "7a932c40-b91d-487f-bfa0-ef2ae34af431",
   "metadata": {},
   "source": [
    "##### 2-1-1-2 텐서 2.0"
   ]
  },
  {
   "cell_type": "code",
   "execution_count": 4,
   "id": "a1b145d0-b1df-40dd-8501-804a48c8ed2e",
   "metadata": {},
   "outputs": [
    {
     "name": "stdout",
     "output_type": "stream",
     "text": [
      "Hello World!!!\n"
     ]
    }
   ],
   "source": [
    "import tensorflow as tf\n",
    "helloworld = tf.constant(\"Hello World!!!\")\n",
    "tf.print(helloworld)"
   ]
  },
  {
   "cell_type": "markdown",
   "id": "f5f3e171-7be3-4522-baac-957c514edee9",
   "metadata": {},
   "source": [
    "#### 2-2-1. Tensorflow 를 이용한 논리게이트 문제풀이"
   ]
  },
  {
   "cell_type": "code",
   "execution_count": 1,
   "id": "7bafdf0a-3c37-4ef3-bef8-f0df76f78dda",
   "metadata": {},
   "outputs": [
    {
     "name": "stdout",
     "output_type": "stream",
     "text": [
      "WARNING:tensorflow:From C:\\DEV\\miniconda3\\envs\\tf38_cpu\\lib\\site-packages\\tensorflow\\python\\compat\\v2_compat.py:107: disable_resource_variables (from tensorflow.python.ops.variable_scope) is deprecated and will be removed in a future version.\n",
      "Instructions for updating:\n",
      "non-resource variables are not supported in the long term\n"
     ]
    }
   ],
   "source": [
    "import tensorflow.compat.v1 as tf\n",
    "tf.disable_v2_behavior()"
   ]
  },
  {
   "cell_type": "code",
   "execution_count": 2,
   "id": "0a02bca9-d0ee-45cd-baf8-e58f36cd4594",
   "metadata": {},
   "outputs": [],
   "source": [
    "import numpy as np"
   ]
  },
  {
   "cell_type": "code",
   "execution_count": 3,
   "id": "d084046b-238f-4a5e-8508-df005ac7caf9",
   "metadata": {},
   "outputs": [
    {
     "name": "stdout",
     "output_type": "stream",
     "text": [
      "x_data >>> [[0. 0. 0.]\n",
      " [0. 1. 1.]\n",
      " [1. 0. 1.]]\n",
      "y_data >>> [1. 1. 0.]\n"
     ]
    }
   ],
   "source": [
    "xy = np.loadtxt(\"train.txt\")\n",
    "x_data = xy[0:-1]\n",
    "y_data = xy[-1]\n",
    "\n",
    "print(\"x_data >>>\",x_data)\n",
    "print(\"y_data >>>\", y_data)"
   ]
  },
  {
   "cell_type": "code",
   "execution_count": 4,
   "id": "f225fc49-66bb-42dd-b43f-ab67ff463f38",
   "metadata": {},
   "outputs": [],
   "source": [
    "X = tf.placeholder(tf.float32)\n",
    "Y = tf.placeholder(tf.float32)"
   ]
  },
  {
   "cell_type": "code",
   "execution_count": 5,
   "id": "4fc58cb7-ad06-44ab-b8c2-ea691a50fec5",
   "metadata": {},
   "outputs": [],
   "source": [
    "W = tf.Variable(tf.random_uniform([1, len(x_data)], 1.0, 1.0))"
   ]
  },
  {
   "cell_type": "code",
   "execution_count": 6,
   "id": "a09db4e8-ffde-459d-92ac-b29fac51bddd",
   "metadata": {},
   "outputs": [
    {
     "name": "stdout",
     "output_type": "stream",
     "text": [
      "WARNING:tensorflow:From C:\\DEV\\miniconda3\\envs\\tf38_cpu\\lib\\site-packages\\tensorflow\\python\\util\\dispatch.py:1176: div (from tensorflow.python.ops.math_ops) is deprecated and will be removed in a future version.\n",
      "Instructions for updating:\n",
      "Deprecated in favor of operator or tf.math.divide.\n"
     ]
    }
   ],
   "source": [
    "h = tf.matmul(W, X)\n",
    "hypothesis = tf.div(1., 1.+tf.exp(-h))"
   ]
  },
  {
   "cell_type": "code",
   "execution_count": 7,
   "id": "c8a43be0-1676-4af8-9921-0c53b40a3234",
   "metadata": {},
   "outputs": [],
   "source": [
    "# 훈련 비용\n",
    "\n",
    "cost = -tf.reduce_mean(Y*tf.log(hypothesis) + (1-Y)*tf.log(1-hypothesis))"
   ]
  },
  {
   "cell_type": "code",
   "execution_count": 8,
   "id": "6bca08ba-041e-4f4b-b5ff-0337fbccfc15",
   "metadata": {},
   "outputs": [],
   "source": [
    "learning_rate = tf.Variable(0.01)\n",
    "optimizer = tf.train.GradientDescentOptimizer(learning_rate)\n",
    "train = optimizer.minimize(cost)\n",
    "\n",
    "init =  tf.global_variables_initializer()"
   ]
  },
  {
   "cell_type": "code",
   "execution_count": 9,
   "id": "7266f08d-875d-4bc1-88fd-c950f2fd343c",
   "metadata": {},
   "outputs": [
    {
     "name": "stdout",
     "output_type": "stream",
     "text": [
      "0 0.9169857 [[1.        0.9979605 0.9979605]]\n",
      "500 0.71802014 [[1.         0.31737986 0.31737986]]\n",
      "1000 0.69525355 [[1.        0.0918394 0.0918394]]\n",
      "1500 0.6933201 [[1.        0.0262968 0.0262968]]\n",
      "2000 0.6931613 [[1.         0.00752298 0.00752298]]\n",
      "2500 0.6931484 [[1.         0.00215201 0.00215201]]\n",
      "3000 0.69314724 [[1.0000000e+00 6.1559887e-04 6.1559887e-04]]\n",
      "3500 0.6931472 [[1.0000000e+00 1.7609312e-04 1.7609312e-04]]\n",
      "4000 0.6931472 [[1.0000000e+00 5.0383616e-05 5.0383616e-05]]\n",
      "4500 0.6931472 [[1.0000000e+00 1.4399263e-05 1.4399263e-05]]\n",
      "5000 0.6931472 [[1.000000e+00 4.106438e-06 4.106438e-06]]\n",
      "[array([[0.500001 , 0.500001 , 0.5000021]], dtype=float32), array([[1., 1., 1.]], dtype=float32), array([[ True,  True, False]]), 0.6666667]\n",
      "정확도 :  0.6666667\n"
     ]
    }
   ],
   "source": [
    "# 훈련\n",
    "\n",
    "with tf.Session() as sess:\n",
    "    sess.run(init)\n",
    "\n",
    "    for step in range(5001):\n",
    "        sess.run(train, feed_dict={X:x_data, Y:y_data})\n",
    "        if step % 500 == 0:\n",
    "            print(step, sess.run(cost, feed_dict={X:x_data, Y:y_data}), sess.run(W))\n",
    "\n",
    "    #학습 모델\n",
    "    correct_prediction = tf.equal(tf.floor(hypothesis+0.5), Y)\n",
    "\n",
    "    #정확도 계산\n",
    "    accuracy = tf.reduce_mean(tf.cast(correct_prediction, \"float\"))\n",
    "\n",
    "    print(sess.run(\n",
    "        [hypothesis, tf.floor(hypothesis+0.5), correct_prediction, accuracy],\n",
    "        feed_dict={X:x_data, Y:y_data}\n",
    "    ))\n",
    "\n",
    "    print(\"정확도 : \", accuracy.eval({X:x_data, Y:y_data}))"
   ]
  },
  {
   "cell_type": "code",
   "execution_count": null,
   "id": "ed08b5ed-60a1-4e70-9c98-5ce5f5375ddc",
   "metadata": {},
   "outputs": [],
   "source": []
  }
 ],
 "metadata": {
  "kernelspec": {
   "display_name": "tf38_cpu",
   "language": "python",
   "name": "tf38_cpu"
  },
  "language_info": {
   "codemirror_mode": {
    "name": "ipython",
    "version": 3
   },
   "file_extension": ".py",
   "mimetype": "text/x-python",
   "name": "python",
   "nbconvert_exporter": "python",
   "pygments_lexer": "ipython3",
   "version": "3.8.19"
  }
 },
 "nbformat": 4,
 "nbformat_minor": 5
}
